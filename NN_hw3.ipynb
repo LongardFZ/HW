{
 "cells": [
  {
   "cell_type": "markdown",
   "metadata": {
    "id": "zzyo25bnaP30"
   },
   "source": [
    "# Влияние функций активации на классификацию"
   ]
  },
  {
   "cell_type": "code",
   "execution_count": 1,
   "metadata": {
    "id": "H-56_nQzmpNs"
   },
   "outputs": [],
   "source": [
    "import numpy as np\n",
    "import matplotlib.pyplot as plt\n",
    "from matplotlib.colors import ListedColormap\n",
    "\n",
    "from tensorflow.keras.models import Sequential\n",
    "from tensorflow.keras.layers import Dense\n",
    "import tensorflow as tf\n",
    "import random as python_random"
   ]
  },
  {
   "cell_type": "code",
   "execution_count": 2,
   "metadata": {},
   "outputs": [],
   "source": [
    "from tensorflow import keras\n",
    "from sklearn.model_selection import train_test_split"
   ]
  },
  {
   "cell_type": "markdown",
   "metadata": {
    "id": "ycElwFj_RBys"
   },
   "source": [
    "# Домашнее задание"
   ]
  },
  {
   "cell_type": "code",
   "execution_count": 3,
   "metadata": {
    "id": "OMHXQi0ZSimY"
   },
   "outputs": [
    {
     "name": "stdout",
     "output_type": "stream",
     "text": [
      "['0', '1', '2', '3', '4', '5', '6', '7', '8', '9', 'A', 'B', 'C', 'D', 'E', 'F', 'G', 'H', 'I', 'J', 'K', 'L', 'M', 'N', 'O', 'P', 'Q', 'R', 'S', 'T', 'U', 'V', 'W', 'X', 'Y', 'Z']\n"
     ]
    }
   ],
   "source": [
    "classes = [str(i) for i in range(10)] +  list('ABCDEFGHIJKLMNOPQRSTUVWXYZ')\n",
    "print(classes)\n",
    "\n",
    "X = np.load('binary_alpha_digits_images.npy')\n",
    "Y = np.load('binary_alpha_digits_labels.npy')"
   ]
  },
  {
   "cell_type": "code",
   "execution_count": 4,
   "metadata": {
    "id": "-KABm1zlKMi-"
   },
   "outputs": [
    {
     "data": {
      "text/plain": [
       "((1404, 20, 16), (1404,))"
      ]
     },
     "execution_count": 4,
     "metadata": {},
     "output_type": "execute_result"
    }
   ],
   "source": [
    "X.shape, Y.shape"
   ]
  },
  {
   "cell_type": "code",
   "execution_count": 5,
   "metadata": {},
   "outputs": [
    {
     "data": {
      "text/plain": [
       "array([ 0,  1,  2,  3,  4,  5,  6,  7,  8,  9, 10, 11, 12, 13, 14, 15, 16,\n",
       "       17, 18, 19, 20, 21, 22, 23, 24, 25, 26, 27, 28, 29, 30, 31, 32, 33,\n",
       "       34, 35], dtype=int64)"
      ]
     },
     "execution_count": 5,
     "metadata": {},
     "output_type": "execute_result"
    }
   ],
   "source": [
    "np.unique(Y)"
   ]
  },
  {
   "cell_type": "code",
   "execution_count": 6,
   "metadata": {},
   "outputs": [],
   "source": [
    "train_images, test_images, train_labels, test_labels = train_test_split(X, Y, test_size=0.33, random_state=42)"
   ]
  },
  {
   "cell_type": "code",
   "execution_count": 7,
   "metadata": {},
   "outputs": [
    {
     "data": {
      "text/plain": [
       "((940, 20, 16), (940,))"
      ]
     },
     "execution_count": 7,
     "metadata": {},
     "output_type": "execute_result"
    }
   ],
   "source": [
    "train_images.shape, train_labels.shape"
   ]
  },
  {
   "cell_type": "code",
   "execution_count": 8,
   "metadata": {
    "id": "4nmyuGLyC3W9"
   },
   "outputs": [
    {
     "data": {
      "image/png": "[encoded data removed]",
      "text/plain": [
       "<Figure size 720x360 with 15 Axes>"
      ]
     },
     "metadata": {},
     "output_type": "display_data"
    }
   ],
   "source": [
    "fig, axes = plt.subplots(3, 5, figsize=(10, 5))\n",
    "fig.suptitle('binary alpha digits', fontsize=20)\n",
    "n = 0\n",
    "for ax in axes.flat:\n",
    "    ax.set_yticks([])\n",
    "    ax.set_xticks([])\n",
    "    ax.imshow(X[n], cmap=plt.cm.binary)\n",
    "    ax.set_xlabel(classes[Y[n]])\n",
    "    n += 1"
   ]
  },
  {
   "cell_type": "code",
   "execution_count": 9,
   "metadata": {},
   "outputs": [],
   "source": [
    "model = keras.Sequential([\n",
    "    keras.layers.Flatten(input_shape=(20, 16)),\n",
    "    keras.layers.Dense(256, activation='relu'),\n",
    "    keras.layers.Dense(256, activation='relu'),\n",
    "    keras.layers.Dense(256, activation='relu'),\n",
    "    keras.layers.Dense(36)\n",
    "])\n",
    "\n",
    "model.compile(optimizer=tf.keras.optimizers.Adam(learning_rate=0.001),\n",
    "              loss=tf.keras.losses.SparseCategoricalCrossentropy(from_logits=True),\n",
    "              metrics=['accuracy'])"
   ]
  },
  {
   "cell_type": "code",
   "execution_count": 10,
   "metadata": {},
   "outputs": [
    {
     "name": "stdout",
     "output_type": "stream",
     "text": [
      "Epoch 1/15\n",
      "30/30 - 2s - loss: 3.1427 - accuracy: 0.2138 - val_loss: 2.3284 - val_accuracy: 0.3944 - 2s/epoch - 60ms/step\n",
      "Epoch 2/15\n",
      "30/30 - 0s - loss: 1.5285 - accuracy: 0.5734 - val_loss: 1.4780 - val_accuracy: 0.5409 - 235ms/epoch - 8ms/step\n",
      "Epoch 3/15\n",
      "30/30 - 0s - loss: 0.9098 - accuracy: 0.7330 - val_loss: 1.2242 - val_accuracy: 0.6164 - 197ms/epoch - 7ms/step\n",
      "Epoch 4/15\n",
      "30/30 - 0s - loss: 0.5803 - accuracy: 0.8362 - val_loss: 1.0874 - val_accuracy: 0.6530 - 196ms/epoch - 7ms/step\n",
      "Epoch 5/15\n",
      "30/30 - 0s - loss: 0.4334 - accuracy: 0.8713 - val_loss: 1.1491 - val_accuracy: 0.6638 - 156ms/epoch - 5ms/step\n",
      "Epoch 6/15\n",
      "30/30 - 0s - loss: 0.3638 - accuracy: 0.8915 - val_loss: 1.1733 - val_accuracy: 0.6616 - 149ms/epoch - 5ms/step\n",
      "Epoch 7/15\n",
      "30/30 - 0s - loss: 0.2423 - accuracy: 0.9255 - val_loss: 1.0679 - val_accuracy: 0.6875 - 193ms/epoch - 6ms/step\n",
      "Epoch 8/15\n",
      "30/30 - 0s - loss: 0.1871 - accuracy: 0.9383 - val_loss: 1.1867 - val_accuracy: 0.6616 - 162ms/epoch - 5ms/step\n",
      "Epoch 9/15\n",
      "30/30 - 0s - loss: 0.1623 - accuracy: 0.9457 - val_loss: 1.1279 - val_accuracy: 0.6897 - 161ms/epoch - 5ms/step\n",
      "Epoch 10/15\n",
      "30/30 - 0s - loss: 0.1536 - accuracy: 0.9521 - val_loss: 1.1167 - val_accuracy: 0.6810 - 148ms/epoch - 5ms/step\n",
      "Epoch 11/15\n",
      "30/30 - 0s - loss: 0.0886 - accuracy: 0.9702 - val_loss: 1.0662 - val_accuracy: 0.7112 - 162ms/epoch - 5ms/step\n",
      "Epoch 12/15\n",
      "30/30 - 0s - loss: 0.0706 - accuracy: 0.9734 - val_loss: 1.2726 - val_accuracy: 0.6961 - 152ms/epoch - 5ms/step\n",
      "Epoch 13/15\n",
      "30/30 - 0s - loss: 0.1230 - accuracy: 0.9638 - val_loss: 1.0637 - val_accuracy: 0.7220 - 165ms/epoch - 5ms/step\n",
      "Epoch 14/15\n",
      "30/30 - 0s - loss: 0.0652 - accuracy: 0.9681 - val_loss: 1.1203 - val_accuracy: 0.7004 - 155ms/epoch - 5ms/step\n",
      "Epoch 15/15\n",
      "30/30 - 0s - loss: 0.0497 - accuracy: 0.9734 - val_loss: 1.1236 - val_accuracy: 0.7069 - 159ms/epoch - 5ms/step\n"
     ]
    }
   ],
   "source": [
    "hstr = model.fit(train_images, train_labels, epochs=15, verbose=2, validation_data = (test_images, test_labels))"
   ]
  },
  {
   "cell_type": "markdown",
   "metadata": {},
   "source": [
    "Epoch 15/15 \\\n",
    "30/30 - 0s - loss: 0.1012 - accuracy: 0.9734 - 55ms/epoch - 2ms/step \\\n",
    " \\\n",
    "Epoch 15/15 \\\n",
    "30/30 - 0s - loss: 0.0592 - accuracy: 0.9798 - 89ms/epoch - 3ms/step"
   ]
  },
  {
   "cell_type": "code",
   "execution_count": 11,
   "metadata": {},
   "outputs": [
    {
     "name": "stdout",
     "output_type": "stream",
     "text": [
      "15/15 [==============================] - 0s 3ms/step\n"
     ]
    },
    {
     "data": {
      "text/plain": [
       "array([[  3.4567084 ,  -4.052895  ,  -8.327409  , ...,  -9.006082  ,\n",
       "         -7.557264  ,  -9.140453  ],\n",
       "       [ -9.632445  ,  -0.44835266,  -2.6133897 , ...,  -1.9046044 ,\n",
       "         -8.64703   ,  -2.3303893 ],\n",
       "       [ -9.826165  ,   2.9224517 ,  -5.648726  , ...,  -1.4354885 ,\n",
       "        -14.257832  , -11.573389  ],\n",
       "       ...,\n",
       "       [-11.224971  ,  -1.9618633 ,  -7.611831  , ...,   0.88403475,\n",
       "         -1.7328535 , -11.450267  ],\n",
       "       [ -4.0836353 ,  -0.5047804 ,  -2.9756396 , ...,  -8.297554  ,\n",
       "        -13.386838  ,  -5.123405  ],\n",
       "       [ -2.3716896 ,  -4.0566225 ,  -5.249615  , ...,  -4.9349594 ,\n",
       "         -6.374615  ,  -5.791465  ]], dtype=float32)"
      ]
     },
     "execution_count": 11,
     "metadata": {},
     "output_type": "execute_result"
    }
   ],
   "source": [
    "model.predict(test_images)"
   ]
  },
  {
   "cell_type": "code",
   "execution_count": 12,
   "metadata": {},
   "outputs": [
    {
     "name": "stdout",
     "output_type": "stream",
     "text": [
      "15/15 [==============================] - 0s 3ms/step\n"
     ]
    }
   ],
   "source": [
    "probability_model = tf.keras.Sequential([model, \n",
    "                                         tf.keras.layers.Softmax()])\n",
    "predictions = probability_model.predict(test_images)"
   ]
  },
  {
   "cell_type": "code",
   "execution_count": 13,
   "metadata": {},
   "outputs": [],
   "source": [
    "def plot_image(i, predictions_array, true_label, img):\n",
    "    predictions_array, true_label, img = predictions_array, true_label[i], img[i]\n",
    "    plt.grid(False)\n",
    "    plt.xticks([])\n",
    "    plt.yticks([])\n",
    "\n",
    "    plt.imshow(img, cmap=plt.cm.binary)\n",
    "\n",
    "    predicted_label = np.argmax(predictions_array)\n",
    "    if predicted_label == true_label:\n",
    "        color = 'blue'\n",
    "    else:\n",
    "        color = 'red'\n",
    "\n",
    "    plt.xlabel(\"{} {:2.0f}% ({})\".format(classes[predicted_label],\n",
    "                                  100*np.max(predictions_array),\n",
    "                                  classes[true_label]),\n",
    "                                  color=color)\n",
    "\n",
    "def plot_value_array(i, predictions_array, true_label):\n",
    "    predictions_array, true_label = predictions_array, true_label[i]\n",
    "    plt.grid(False)\n",
    "    plt.xticks(range(36))\n",
    "    plt.yticks([])\n",
    "    thisplot = plt.bar(range(36), predictions_array, color=\"#777777\")\n",
    "    plt.ylim([0, 1])\n",
    "    predicted_label = np.argmax(predictions_array)\n",
    "\n",
    "    thisplot[predicted_label].set_color('red')\n",
    "    thisplot[true_label].set_color('blue')"
   ]
  },
  {
   "cell_type": "code",
   "execution_count": 14,
   "metadata": {},
   "outputs": [
    {
     "name": "stdout",
     "output_type": "stream",
     "text": [
      "(20, 16)\n",
      "(1, 20, 16)\n",
      "1/1 [==============================] - 0s 22ms/step\n",
      "[[3.3226016e-11 1.1432224e-05 2.1662829e-09 3.1252534e-13 9.9222118e-01\n",
      "  1.3367502e-10 7.5024171e-03 1.4332613e-11 1.5094081e-08 3.8428496e-14\n",
      "  1.9344917e-08 1.3351760e-07 3.0697481e-10 4.0820596e-09 5.3131033e-09\n",
      "  2.8230561e-08 6.9974907e-05 2.3101485e-08 9.0082830e-11 4.7341536e-12\n",
      "  3.8774183e-06 1.2936028e-04 7.0722810e-09 9.9442395e-06 2.3502134e-09\n",
      "  5.3202143e-12 7.1831874e-09 3.8567856e-07 2.3157533e-10 2.5022039e-13\n",
      "  3.8496168e-05 4.6000839e-08 1.2371617e-05 1.4638653e-07 3.9521226e-13\n",
      "  5.7898391e-12]]\n"
     ]
    },
    {
     "data": {
      "image/png": "[encoded data removed]",
      "text/plain": [
       "<Figure size 432x288 with 1 Axes>"
      ]
     },
     "metadata": {
      "needs_background": "light"
     },
     "output_type": "display_data"
    }
   ],
   "source": [
    "img = test_images[2]\n",
    "\n",
    "print(img.shape)\n",
    "# Add the image to a batch where it's the only member.\n",
    "img = (np.expand_dims(img,0))\n",
    "\n",
    "print(img.shape)\n",
    "predictions_single = probability_model.predict(img)\n",
    "\n",
    "print(predictions_single)\n",
    "plot_value_array(1, predictions_single[0], test_labels)\n",
    "_ = plt.xticks(range(36), classes, rotation=45)"
   ]
  },
  {
   "cell_type": "code",
   "execution_count": 15,
   "metadata": {},
   "outputs": [
    {
     "data": {
      "image/png": "[encoded data removed]",
      "text/plain": [
       "<Figure size 2016x720 with 20 Axes>"
      ]
     },
     "metadata": {
      "needs_background": "light"
     },
     "output_type": "display_data"
    }
   ],
   "source": [
    "num_rows = 5\n",
    "num_cols = 2\n",
    "num_images = num_rows*num_cols\n",
    "plt.figure(figsize=(7*2*num_cols, 2*num_rows))\n",
    "for i in range(num_images):\n",
    "    plt.subplot(num_rows, 2*num_cols, 2*i+1)\n",
    "    plot_image(i, predictions[i], test_labels, test_images)\n",
    "    plt.subplot(num_rows, 2*num_cols, 2*i+2)\n",
    "    plot_value_array(i, predictions[i], test_labels)\n",
    "plt.tight_layout()\n",
    "plt.show()"
   ]
  },
  {
   "cell_type": "markdown",
   "metadata": {},
   "source": [
    "Я пробовал по разному менять параметры модели, но ошибки устойчиво возникают в схожих местах. Часто путаются 0 и о, 5 и s. Буква g из-за своего сложного написания вообще с трудом распознается моделью. Я думаю для идеального распознования нужен больший датасет.  "
   ]
  }
 ],
 "metadata": {
  "accelerator": "GPU",
  "colab": {
   "collapsed_sections": [],
   "name": "Lesson 3.ipynb",
   "provenance": []
  },
  "kernelspec": {
   "display_name": "Python 3 (ipykernel)",
   "language": "python",
   "name": "python3"
  },
  "language_info": {
   "codemirror_mode": {
    "name": "ipython",
    "version": 3
   },
   "file_extension": ".py",
   "mimetype": "text/x-python",
   "name": "python",
   "nbconvert_exporter": "python",
   "pygments_lexer": "ipython3",
   "version": "3.9.12"
  }
 },
 "nbformat": 4,
 "nbformat_minor": 4
}
