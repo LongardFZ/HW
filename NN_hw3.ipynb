{
 "cells": [
  {
   "cell_type": "markdown",
   "metadata": {
    "id": "zzyo25bnaP30"
   },
   "source": [
    "# Влияние функций активации на классификацию"
   ]
  },
  {
   "cell_type": "code",
   "execution_count": 1,
   "metadata": {
    "id": "H-56_nQzmpNs"
   },
   "outputs": [],
   "source": [
    "import numpy as np\n",
    "import matplotlib.pyplot as plt\n",
    "from matplotlib.colors import ListedColormap\n",
    "\n",
    "from tensorflow.keras.models import Sequential\n",
    "from tensorflow.keras.layers import Dense\n",
    "import tensorflow as tf\n",
    "import random as python_random"
   ]
  },
  {
   "cell_type": "code",
   "execution_count": 2,
   "metadata": {},
   "outputs": [],
   "source": [
    "from tensorflow import keras\n",
    "from sklearn.model_selection import train_test_split"
   ]
  },
  {
   "cell_type": "markdown",
   "metadata": {
    "id": "ycElwFj_RBys"
   },
   "source": [
    "# Домашнее задание"
   ]
  },
  {
   "cell_type": "code",
   "execution_count": 3,
   "metadata": {
    "id": "OMHXQi0ZSimY"
   },
   "outputs": [
    {
     "name": "stdout",
     "output_type": "stream",
     "text": [
      "['0', '1', '2', '3', '4', '5', '6', '7', '8', '9', 'A', 'B', 'C', 'D', 'E', 'F', 'G', 'H', 'I', 'J', 'K', 'L', 'M', 'N', 'O', 'P', 'Q', 'R', 'S', 'T', 'U', 'V', 'W', 'X', 'Y', 'Z']\n"
     ]
    }
   ],
   "source": [
    "classes = [str(i) for i in range(10)] +  list('ABCDEFGHIJKLMNOPQRSTUVWXYZ')\n",
    "print(classes)\n",
    "\n",
    "X = np.load('binary_alpha_digits_images.npy')\n",
    "Y = np.load('binary_alpha_digits_labels.npy')"
   ]
  },
  {
   "cell_type": "code",
   "execution_count": 4,
   "metadata": {
    "id": "-KABm1zlKMi-"
   },
   "outputs": [
    {
     "data": {
      "text/plain": [
       "((1404, 20, 16), (1404,))"
      ]
     },
     "execution_count": 4,
     "metadata": {},
     "output_type": "execute_result"
    }
   ],
   "source": [
    "X.shape, Y.shape"
   ]
  },
  {
   "cell_type": "code",
   "execution_count": 5,
   "metadata": {},
   "outputs": [
    {
     "data": {
      "text/plain": [
       "array([ 0,  1,  2,  3,  4,  5,  6,  7,  8,  9, 10, 11, 12, 13, 14, 15, 16,\n",
       "       17, 18, 19, 20, 21, 22, 23, 24, 25, 26, 27, 28, 29, 30, 31, 32, 33,\n",
       "       34, 35], dtype=int64)"
      ]
     },
     "execution_count": 5,
     "metadata": {},
     "output_type": "execute_result"
    }
   ],
   "source": [
    "np.unique(Y)"
   ]
  },
  {
   "cell_type": "code",
   "execution_count": 6,
   "metadata": {},
   "outputs": [],
   "source": [
    "train_images, test_images, train_labels, test_labels = train_test_split(X, Y, test_size=0.33, random_state=42)"
   ]
  },
  {
   "cell_type": "code",
   "execution_count": 7,
   "metadata": {},
   "outputs": [
    {
     "data": {
      "text/plain": [
       "((940, 20, 16), (940,))"
      ]
     },
     "execution_count": 7,
     "metadata": {},
     "output_type": "execute_result"
    }
   ],
   "source": [
    "train_images.shape, train_labels.shape"
   ]
  },
  {
   "cell_type": "code",
   "execution_count": 8,
   "metadata": {
    "id": "4nmyuGLyC3W9"
   },
   "outputs": [
    {
     "data": {
      "image/png": "[encoded data removed]",
      "text/plain": [
       "<Figure size 720x360 with 15 Axes>"
      ]
     },
     "metadata": {},
     "output_type": "display_data"
    }
   ],
   "source": [
    "fig, axes = plt.subplots(3, 5, figsize=(10, 5))\n",
    "fig.suptitle('binary alpha digits', fontsize=20)\n",
    "n = 0\n",
    "for ax in axes.flat:\n",
    "    ax.set_yticks([])\n",
    "    ax.set_xticks([])\n",
    "    ax.imshow(X[n], cmap=plt.cm.binary)\n",
    "    ax.set_xlabel(classes[Y[n]])\n",
    "    n += 1"
   ]
  },
  {
   "cell_type": "code",
   "execution_count": 9,
   "metadata": {},
   "outputs": [],
   "source": [
    "model = keras.Sequential([\n",
    "    keras.layers.Flatten(input_shape=(20, 16)),\n",
    "    keras.layers.Dense(256, activation='relu'),\n",
    "    keras.layers.Dense(256, activation='relu'),\n",
    "    keras.layers.Dense(256, activation='relu'),\n",
    "    keras.layers.Dense(36)\n",
    "])\n",
    "\n",
    "model.compile(optimizer=tf.keras.optimizers.Adam(learning_rate=0.001),\n",
    "              loss=tf.keras.losses.SparseCategoricalCrossentropy(from_logits=True),\n",
    "              metrics=['accuracy'])"
   ]
  },
  {
   "cell_type": "code",
   "execution_count": 10,
   "metadata": {},
   "outputs": [
    {
     "name": "stdout",
     "output_type": "stream",
     "text": [
      "Epoch 1/15\n",
      "30/30 - 1s - loss: 3.1537 - accuracy: 0.1872 - 812ms/epoch - 27ms/step\n",
      "Epoch 2/15\n",
      "30/30 - 0s - loss: 1.5615 - accuracy: 0.5585 - 86ms/epoch - 3ms/step\n",
      "Epoch 3/15\n",
      "30/30 - 0s - loss: 0.8872 - accuracy: 0.7245 - 83ms/epoch - 3ms/step\n",
      "Epoch 4/15\n",
      "30/30 - 0s - loss: 0.6483 - accuracy: 0.7936 - 83ms/epoch - 3ms/step\n",
      "Epoch 5/15\n",
      "30/30 - 0s - loss: 0.5121 - accuracy: 0.8468 - 83ms/epoch - 3ms/step\n",
      "Epoch 6/15\n",
      "30/30 - 0s - loss: 0.3429 - accuracy: 0.8989 - 81ms/epoch - 3ms/step\n",
      "Epoch 7/15\n",
      "30/30 - 0s - loss: 0.2490 - accuracy: 0.9266 - 91ms/epoch - 3ms/step\n",
      "Epoch 8/15\n",
      "30/30 - 0s - loss: 0.1557 - accuracy: 0.9511 - 86ms/epoch - 3ms/step\n",
      "Epoch 9/15\n",
      "30/30 - 0s - loss: 0.1051 - accuracy: 0.9702 - 81ms/epoch - 3ms/step\n",
      "Epoch 10/15\n",
      "30/30 - 0s - loss: 0.1039 - accuracy: 0.9670 - 83ms/epoch - 3ms/step\n",
      "Epoch 11/15\n",
      "30/30 - 0s - loss: 0.0973 - accuracy: 0.9681 - 83ms/epoch - 3ms/step\n",
      "Epoch 12/15\n",
      "30/30 - 0s - loss: 0.0660 - accuracy: 0.9691 - 84ms/epoch - 3ms/step\n",
      "Epoch 13/15\n",
      "30/30 - 0s - loss: 0.0584 - accuracy: 0.9723 - 90ms/epoch - 3ms/step\n",
      "Epoch 14/15\n",
      "30/30 - 0s - loss: 0.0596 - accuracy: 0.9691 - 81ms/epoch - 3ms/step\n",
      "Epoch 15/15\n",
      "30/30 - 0s - loss: 0.0794 - accuracy: 0.9702 - 82ms/epoch - 3ms/step\n"
     ]
    }
   ],
   "source": [
    "hstr = model.fit(train_images, train_labels, epochs=15, verbose=2)"
   ]
  },
  {
   "cell_type": "markdown",
   "metadata": {},
   "source": [
    "Epoch 15/15 \\\n",
    "30/30 - 0s - loss: 0.1012 - accuracy: 0.9734 - 55ms/epoch - 2ms/step \\\n",
    " \\\n",
    "Epoch 15/15 \\\n",
    "30/30 - 0s - loss: 0.0592 - accuracy: 0.9798 - 89ms/epoch - 3ms/step"
   ]
  },
  {
   "cell_type": "code",
   "execution_count": 11,
   "metadata": {},
   "outputs": [
    {
     "name": "stdout",
     "output_type": "stream",
     "text": [
      "15/15 [==============================] - 0s 2ms/step\n"
     ]
    },
    {
     "data": {
      "text/plain": [
       "array([[  5.790786 ,  -6.623031 ,  -5.4492087, ...,  -8.570565 ,\n",
       "         -7.14373  ,  -7.0066943],\n",
       "       [ -7.0246854,  -2.1769693,  -7.3060737, ...,  -6.880194 ,\n",
       "         -9.315853 ,  -6.1729565],\n",
       "       [ -7.198002 ,   0.5269112,  -7.030087 , ...,  -3.2371294,\n",
       "        -19.49459  , -12.538907 ],\n",
       "       ...,\n",
       "       [ -9.65537  ,  -3.8887668,  -5.726552 , ...,   2.3295112,\n",
       "         -7.050435 , -12.5020485],\n",
       "       [ -4.909892 ,  -0.6571645,  -5.3392076, ...,  -7.3221817,\n",
       "         -8.832639 ,  -5.4588103],\n",
       "       [ -1.1829181,  -5.061692 ,  -6.714485 , ...,  -5.29988  ,\n",
       "         -6.0768185,  -4.971704 ]], dtype=float32)"
      ]
     },
     "execution_count": 11,
     "metadata": {},
     "output_type": "execute_result"
    }
   ],
   "source": [
    "model.predict(test_images)"
   ]
  },
  {
   "cell_type": "code",
   "execution_count": 12,
   "metadata": {},
   "outputs": [
    {
     "name": "stdout",
     "output_type": "stream",
     "text": [
      "15/15 [==============================] - 0s 2ms/step\n"
     ]
    }
   ],
   "source": [
    "probability_model = tf.keras.Sequential([model, \n",
    "                                         tf.keras.layers.Softmax()])\n",
    "predictions = probability_model.predict(test_images)"
   ]
  },
  {
   "cell_type": "code",
   "execution_count": 13,
   "metadata": {},
   "outputs": [],
   "source": [
    "def plot_image(i, predictions_array, true_label, img):\n",
    "    predictions_array, true_label, img = predictions_array, true_label[i], img[i]\n",
    "    plt.grid(False)\n",
    "    plt.xticks([])\n",
    "    plt.yticks([])\n",
    "\n",
    "    plt.imshow(img, cmap=plt.cm.binary)\n",
    "\n",
    "    predicted_label = np.argmax(predictions_array)\n",
    "    if predicted_label == true_label:\n",
    "        color = 'blue'\n",
    "    else:\n",
    "        color = 'red'\n",
    "\n",
    "    plt.xlabel(\"{} {:2.0f}% ({})\".format(classes[predicted_label],\n",
    "                                  100*np.max(predictions_array),\n",
    "                                  classes[true_label]),\n",
    "                                  color=color)\n",
    "\n",
    "def plot_value_array(i, predictions_array, true_label):\n",
    "    predictions_array, true_label = predictions_array, true_label[i]\n",
    "    plt.grid(False)\n",
    "    plt.xticks(range(36))\n",
    "    plt.yticks([])\n",
    "    thisplot = plt.bar(range(36), predictions_array, color=\"#777777\")\n",
    "    plt.ylim([0, 1])\n",
    "    predicted_label = np.argmax(predictions_array)\n",
    "\n",
    "    thisplot[predicted_label].set_color('red')\n",
    "    thisplot[true_label].set_color('blue')"
   ]
  },
  {
   "cell_type": "code",
   "execution_count": 14,
   "metadata": {},
   "outputs": [
    {
     "name": "stdout",
     "output_type": "stream",
     "text": [
      "(20, 16)\n",
      "(1, 20, 16)\n",
      "1/1 [==============================] - 0s 18ms/step\n",
      "[[3.35799194e-10 7.60266289e-07 3.97195554e-10 1.21288407e-12\n",
      "  9.95619595e-01 1.11828923e-11 4.15925495e-03 2.19886891e-12\n",
      "  1.67646808e-09 1.01616357e-14 3.57463108e-07 2.07954098e-09\n",
      "  1.24274346e-09 1.30719446e-09 6.59629365e-11 3.95714184e-10\n",
      "  4.14791612e-06 6.80480605e-09 4.42763159e-10 6.57374112e-13\n",
      "  4.10735902e-06 1.26458952e-04 1.08835836e-10 3.91117828e-06\n",
      "  9.89166304e-10 8.58144827e-13 2.81164447e-09 4.99273085e-08\n",
      "  4.64243810e-10 1.17701083e-11 5.95512538e-05 7.42805684e-09\n",
      "  2.16225690e-05 1.76305086e-08 1.53368603e-15 1.60899094e-12]]\n"
     ]
    },
    {
     "data": {
      "image/png": "[encoded data removed]",
      "text/plain": [
       "<Figure size 432x288 with 1 Axes>"
      ]
     },
     "metadata": {
      "needs_background": "light"
     },
     "output_type": "display_data"
    }
   ],
   "source": [
    "img = test_images[2]\n",
    "\n",
    "print(img.shape)\n",
    "# Add the image to a batch where it's the only member.\n",
    "img = (np.expand_dims(img,0))\n",
    "\n",
    "print(img.shape)\n",
    "predictions_single = probability_model.predict(img)\n",
    "\n",
    "print(predictions_single)\n",
    "plot_value_array(1, predictions_single[0], test_labels)\n",
    "_ = plt.xticks(range(36), classes, rotation=45)"
   ]
  },
  {
   "cell_type": "code",
   "execution_count": 15,
   "metadata": {},
   "outputs": [
    {
     "data": {
      "image/png": "[encoded data removed]",
      "text/plain": [
       "<Figure size 2016x720 with 20 Axes>"
      ]
     },
     "metadata": {
      "needs_background": "light"
     },
     "output_type": "display_data"
    }
   ],
   "source": [
    "num_rows = 5\n",
    "num_cols = 2\n",
    "num_images = num_rows*num_cols\n",
    "plt.figure(figsize=(7*2*num_cols, 2*num_rows))\n",
    "for i in range(num_images):\n",
    "    plt.subplot(num_rows, 2*num_cols, 2*i+1)\n",
    "    plot_image(i, predictions[i], test_labels, test_images)\n",
    "    plt.subplot(num_rows, 2*num_cols, 2*i+2)\n",
    "    plot_value_array(i, predictions[i], test_labels)\n",
    "plt.tight_layout()\n",
    "plt.show()"
   ]
  },
  {
   "cell_type": "markdown",
   "metadata": {},
   "source": [
    "Я пробовал по разному менять параметры модели, но ошибки устойчиво возникают в схожих местах. Часто путаются 0 и о, 5 и s. Буква g из-за своего сложного написания вообще с трудом распознается моделью. Я думаю для идеального распознования нужен больший датасет.  "
   ]
  }
 ],
 "metadata": {
  "accelerator": "GPU",
  "colab": {
   "collapsed_sections": [],
   "name": "Lesson 3.ipynb",
   "provenance": []
  },
  "kernelspec": {
   "display_name": "Python 3 (ipykernel)",
   "language": "python",
   "name": "python3"
  },
  "language_info": {
   "codemirror_mode": {
    "name": "ipython",
    "version": 3
   },
   "file_extension": ".py",
   "mimetype": "text/x-python",
   "name": "python",
   "nbconvert_exporter": "python",
   "pygments_lexer": "ipython3",
   "version": "3.9.12"
  }
 },
 "nbformat": 4,
 "nbformat_minor": 4
}
