{
 "cells": [
  {
   "cell_type": "markdown",
   "id": "1411f93c-c8ab-4822-b056-e0daa458ab7d",
   "metadata": {
    "tags": []
   },
   "source": [
    "__Домашняя работа 4.__"
   ]
  },
  {
   "cell_type": "code",
   "execution_count": 1,
   "id": "bf39a3c0-d8ac-4c49-9059-287c4b45984f",
   "metadata": {},
   "outputs": [],
   "source": [
    "# !pip install scikit-uplift==0.2.0"
   ]
  },
  {
   "cell_type": "code",
   "execution_count": 2,
   "id": "004a0164-6ffd-42f0-9ac9-8598d182dc91",
   "metadata": {},
   "outputs": [],
   "source": [
    "%matplotlib inline\n",
    "import numpy as np\n",
    "import pandas as pd; #pd.set_option('display.max_columns', None)\n",
    "from sklearn.model_selection import train_test_split\n",
    "\n",
    "from sklearn.feature_extraction.text import TfidfVectorizer\n",
    "from sklearn.linear_model import LogisticRegression\n",
    "from sklearn.model_selection import cross_val_score, train_test_split\n",
    "from scipy.sparse import hstack\n",
    "from sklearn.pipeline import Pipeline, make_pipeline\n",
    "from sklearn.base import BaseEstimator, TransformerMixin\n",
    "from sklearn.preprocessing import Normalizer\n",
    "\n",
    "import matplotlib.pyplot as plt"
   ]
  },
  {
   "cell_type": "code",
   "execution_count": 3,
   "id": "6023581a-86f6-44df-807e-5222a4190498",
   "metadata": {},
   "outputs": [],
   "source": [
    "def min_max_scale(X):\n",
    "    return (X - X.min()) / (X.max() - X.min())"
   ]
  },
  {
   "cell_type": "markdown",
   "id": "3b551805-b5e0-4f35-a6fd-6048d3cd81fa",
   "metadata": {},
   "source": [
    "__Задание 1.__ Скачать данные"
   ]
  },
  {
   "cell_type": "code",
   "execution_count": 4,
   "id": "6986dab5-0f9e-49ad-a1ed-08c2eda3edca",
   "metadata": {},
   "outputs": [],
   "source": [
    "df = pd.read_csv('HW_data.csv', sep=',')"
   ]
  },
  {
   "cell_type": "code",
   "execution_count": 5,
   "id": "0804a819-1658-4213-884d-f824a5f200ae",
   "metadata": {},
   "outputs": [
    {
     "data": {
      "text/html": [
       "<div>\n",
       "<style scoped>\n",
       "    .dataframe tbody tr th:only-of-type {\n",
       "        vertical-align: middle;\n",
       "    }\n",
       "\n",
       "    .dataframe tbody tr th {\n",
       "        vertical-align: top;\n",
       "    }\n",
       "\n",
       "    .dataframe thead th {\n",
       "        text-align: right;\n",
       "    }\n",
       "</style>\n",
       "<table border=\"1\" class=\"dataframe\">\n",
       "  <thead>\n",
       "    <tr style=\"text-align: right;\">\n",
       "      <th></th>\n",
       "      <th>recency</th>\n",
       "      <th>history</th>\n",
       "      <th>used_discount</th>\n",
       "      <th>used_bogo</th>\n",
       "      <th>zip_code</th>\n",
       "      <th>is_referral</th>\n",
       "      <th>channel</th>\n",
       "      <th>offer</th>\n",
       "      <th>conversion</th>\n",
       "    </tr>\n",
       "  </thead>\n",
       "  <tbody>\n",
       "    <tr>\n",
       "      <th>0</th>\n",
       "      <td>10</td>\n",
       "      <td>142.44</td>\n",
       "      <td>1</td>\n",
       "      <td>0</td>\n",
       "      <td>Surburban</td>\n",
       "      <td>0</td>\n",
       "      <td>Phone</td>\n",
       "      <td>Buy One Get One</td>\n",
       "      <td>0</td>\n",
       "    </tr>\n",
       "    <tr>\n",
       "      <th>1</th>\n",
       "      <td>6</td>\n",
       "      <td>329.08</td>\n",
       "      <td>1</td>\n",
       "      <td>1</td>\n",
       "      <td>Rural</td>\n",
       "      <td>1</td>\n",
       "      <td>Web</td>\n",
       "      <td>No Offer</td>\n",
       "      <td>0</td>\n",
       "    </tr>\n",
       "    <tr>\n",
       "      <th>2</th>\n",
       "      <td>7</td>\n",
       "      <td>180.65</td>\n",
       "      <td>0</td>\n",
       "      <td>1</td>\n",
       "      <td>Surburban</td>\n",
       "      <td>1</td>\n",
       "      <td>Web</td>\n",
       "      <td>Buy One Get One</td>\n",
       "      <td>0</td>\n",
       "    </tr>\n",
       "    <tr>\n",
       "      <th>3</th>\n",
       "      <td>9</td>\n",
       "      <td>675.83</td>\n",
       "      <td>1</td>\n",
       "      <td>0</td>\n",
       "      <td>Rural</td>\n",
       "      <td>1</td>\n",
       "      <td>Web</td>\n",
       "      <td>Discount</td>\n",
       "      <td>0</td>\n",
       "    </tr>\n",
       "    <tr>\n",
       "      <th>4</th>\n",
       "      <td>2</td>\n",
       "      <td>45.34</td>\n",
       "      <td>1</td>\n",
       "      <td>0</td>\n",
       "      <td>Urban</td>\n",
       "      <td>0</td>\n",
       "      <td>Web</td>\n",
       "      <td>Buy One Get One</td>\n",
       "      <td>0</td>\n",
       "    </tr>\n",
       "    <tr>\n",
       "      <th>...</th>\n",
       "      <td>...</td>\n",
       "      <td>...</td>\n",
       "      <td>...</td>\n",
       "      <td>...</td>\n",
       "      <td>...</td>\n",
       "      <td>...</td>\n",
       "      <td>...</td>\n",
       "      <td>...</td>\n",
       "      <td>...</td>\n",
       "    </tr>\n",
       "    <tr>\n",
       "      <th>63995</th>\n",
       "      <td>10</td>\n",
       "      <td>105.54</td>\n",
       "      <td>1</td>\n",
       "      <td>0</td>\n",
       "      <td>Urban</td>\n",
       "      <td>0</td>\n",
       "      <td>Web</td>\n",
       "      <td>Discount</td>\n",
       "      <td>0</td>\n",
       "    </tr>\n",
       "    <tr>\n",
       "      <th>63996</th>\n",
       "      <td>5</td>\n",
       "      <td>38.91</td>\n",
       "      <td>0</td>\n",
       "      <td>1</td>\n",
       "      <td>Urban</td>\n",
       "      <td>1</td>\n",
       "      <td>Phone</td>\n",
       "      <td>Discount</td>\n",
       "      <td>0</td>\n",
       "    </tr>\n",
       "    <tr>\n",
       "      <th>63997</th>\n",
       "      <td>6</td>\n",
       "      <td>29.99</td>\n",
       "      <td>1</td>\n",
       "      <td>0</td>\n",
       "      <td>Urban</td>\n",
       "      <td>1</td>\n",
       "      <td>Phone</td>\n",
       "      <td>Discount</td>\n",
       "      <td>0</td>\n",
       "    </tr>\n",
       "    <tr>\n",
       "      <th>63998</th>\n",
       "      <td>1</td>\n",
       "      <td>552.94</td>\n",
       "      <td>1</td>\n",
       "      <td>0</td>\n",
       "      <td>Surburban</td>\n",
       "      <td>1</td>\n",
       "      <td>Multichannel</td>\n",
       "      <td>Buy One Get One</td>\n",
       "      <td>0</td>\n",
       "    </tr>\n",
       "    <tr>\n",
       "      <th>63999</th>\n",
       "      <td>1</td>\n",
       "      <td>472.82</td>\n",
       "      <td>0</td>\n",
       "      <td>1</td>\n",
       "      <td>Surburban</td>\n",
       "      <td>0</td>\n",
       "      <td>Web</td>\n",
       "      <td>Discount</td>\n",
       "      <td>0</td>\n",
       "    </tr>\n",
       "  </tbody>\n",
       "</table>\n",
       "<p>64000 rows × 9 columns</p>\n",
       "</div>"
      ],
      "text/plain": [
       "       recency  history  used_discount  used_bogo   zip_code  is_referral  \\\n",
       "0           10   142.44              1          0  Surburban            0   \n",
       "1            6   329.08              1          1      Rural            1   \n",
       "2            7   180.65              0          1  Surburban            1   \n",
       "3            9   675.83              1          0      Rural            1   \n",
       "4            2    45.34              1          0      Urban            0   \n",
       "...        ...      ...            ...        ...        ...          ...   \n",
       "63995       10   105.54              1          0      Urban            0   \n",
       "63996        5    38.91              0          1      Urban            1   \n",
       "63997        6    29.99              1          0      Urban            1   \n",
       "63998        1   552.94              1          0  Surburban            1   \n",
       "63999        1   472.82              0          1  Surburban            0   \n",
       "\n",
       "            channel            offer  conversion  \n",
       "0             Phone  Buy One Get One           0  \n",
       "1               Web         No Offer           0  \n",
       "2               Web  Buy One Get One           0  \n",
       "3               Web         Discount           0  \n",
       "4               Web  Buy One Get One           0  \n",
       "...             ...              ...         ...  \n",
       "63995           Web         Discount           0  \n",
       "63996         Phone         Discount           0  \n",
       "63997         Phone         Discount           0  \n",
       "63998  Multichannel  Buy One Get One           0  \n",
       "63999           Web         Discount           0  \n",
       "\n",
       "[64000 rows x 9 columns]"
      ]
     },
     "execution_count": 5,
     "metadata": {},
     "output_type": "execute_result"
    }
   ],
   "source": [
    "df"
   ]
  },
  {
   "cell_type": "markdown",
   "id": "f217eb37-dca7-493f-9056-87f8375f23c1",
   "metadata": {},
   "source": [
    "__Задание 2.__ Поле conversion - это целевая переменная, а offer - коммуникация. Переименовать поля (conversion -> target, offer -> treatment) и привести поле treatment к бинарному виду (1 или 0, т.е было какое-то предложение или нет) - значение No Offer означает отсутствие коммуникации, а все остальные - наличие."
   ]
  },
  {
   "cell_type": "code",
   "execution_count": 6,
   "id": "cc0a156f-be80-4c2a-b0e3-05040c5170d1",
   "metadata": {},
   "outputs": [],
   "source": [
    "df.rename(columns={'conversion': 'target', 'offer': 'treatment'}, inplace=True)"
   ]
  },
  {
   "cell_type": "code",
   "execution_count": 7,
   "id": "3ba5828d-33bf-4c3b-8036-3be4673fc409",
   "metadata": {},
   "outputs": [
    {
     "name": "stdout",
     "output_type": "stream",
     "text": [
      "['Buy One Get One' 'No Offer' 'Discount']\n"
     ]
    }
   ],
   "source": [
    "print(pd.unique(df['treatment']))"
   ]
  },
  {
   "cell_type": "code",
   "execution_count": 8,
   "id": "7e0d25cc-5f4b-4e1f-9346-1cea70a056a7",
   "metadata": {},
   "outputs": [],
   "source": [
    "df['treatment'] = np.where(df['treatment'] == 'No Offer', 0, 1)"
   ]
  },
  {
   "cell_type": "code",
   "execution_count": 9,
   "id": "9186d708-3e3d-44bc-87c2-a7a5676377dc",
   "metadata": {},
   "outputs": [
    {
     "name": "stdout",
     "output_type": "stream",
     "text": [
      "[1 0]\n"
     ]
    }
   ],
   "source": [
    "print(pd.unique(df['treatment']))"
   ]
  },
  {
   "cell_type": "markdown",
   "id": "db5765c8-b146-4598-b9a4-317fcc061ee8",
   "metadata": {},
   "source": [
    "__Задание 3.__ Сделать разбиение набора данных на тренировочную и тестовую выборки"
   ]
  },
  {
   "cell_type": "code",
   "execution_count": 10,
   "id": "31fe4c8c-f3bc-4094-8c5f-6f1eaeafe376",
   "metadata": {},
   "outputs": [],
   "source": [
    "X_train, X_test, y_train, y_test = train_test_split(df.drop('target', 1), \n",
    "                                                    df['target'], random_state=0)"
   ]
  },
  {
   "cell_type": "markdown",
   "id": "2b4d5298-9209-4b8e-8bf4-aeed1967b7e8",
   "metadata": {},
   "source": [
    "__Задание 4.__ Сделать feature engineering на ваше усмотрение (допускается свобода выбора методов)"
   ]
  },
  {
   "cell_type": "code",
   "execution_count": 11,
   "id": "c60f8441-b604-45c4-98c9-371bb7418004",
   "metadata": {},
   "outputs": [
    {
     "name": "stdout",
     "output_type": "stream",
     "text": [
      "['Phone' 'Web' 'Multichannel']\n"
     ]
    }
   ],
   "source": [
    "print(pd.unique(df['channel']))"
   ]
  },
  {
   "cell_type": "code",
   "execution_count": 12,
   "id": "45cb0ecb-ee7d-4965-8357-202353b56b8e",
   "metadata": {},
   "outputs": [],
   "source": [
    "dct = {'Phone':0, 'Web':1, 'Multichannel':2}\n",
    "df['channel'] = df['channel'].map(dct)"
   ]
  },
  {
   "cell_type": "code",
   "execution_count": 13,
   "id": "7fa1e17d-816a-4d3f-aa2e-1fcddc5a618a",
   "metadata": {},
   "outputs": [
    {
     "name": "stdout",
     "output_type": "stream",
     "text": [
      "[0 1 2]\n"
     ]
    }
   ],
   "source": [
    "print(pd.unique(df['channel']))"
   ]
  },
  {
   "cell_type": "code",
   "execution_count": 14,
   "id": "645096b1-9a0d-4a76-9c2a-3a5ea914cf1f",
   "metadata": {},
   "outputs": [
    {
     "name": "stdout",
     "output_type": "stream",
     "text": [
      "['Surburban' 'Rural' 'Urban']\n"
     ]
    }
   ],
   "source": [
    "print(pd.unique(df['zip_code']))"
   ]
  },
  {
   "cell_type": "code",
   "execution_count": 15,
   "id": "7bc1b28c-5248-42f6-9163-e0b647e3eaf2",
   "metadata": {},
   "outputs": [],
   "source": [
    "dct = {'Surburban':0, 'Rural':1, 'Urban':2}\n",
    "df['zip_code'] = df['zip_code'].map(dct)"
   ]
  },
  {
   "cell_type": "code",
   "execution_count": 16,
   "id": "49e908d4-fd25-4528-a582-6e172cee64ed",
   "metadata": {},
   "outputs": [
    {
     "name": "stdout",
     "output_type": "stream",
     "text": [
      "recency: [10  6  7  9  2  1  5  4  3 11 12  8]\n",
      "history: [142.44 329.08 180.65 ... 519.69 105.54 552.94]\n",
      "used_discount: [1 0]\n",
      "used_bogo: [0 1]\n",
      "zip_code: [0 1 2]\n",
      "is_referral: [0 1]\n",
      "channel: [0 1 2]\n",
      "treatment: [1 0]\n",
      "target: [0 1]\n"
     ]
    }
   ],
   "source": [
    "for i in df.columns:\n",
    "    print(f'{i}: {pd.unique(df[i])}')"
   ]
  },
  {
   "cell_type": "code",
   "execution_count": 17,
   "id": "ab6c537c-ea90-4050-b037-e0325ddb89da",
   "metadata": {},
   "outputs": [
    {
     "data": {
      "text/plain": [
       "29.99"
      ]
     },
     "execution_count": 17,
     "metadata": {},
     "output_type": "execute_result"
    }
   ],
   "source": [
    "df['history'].min()"
   ]
  },
  {
   "cell_type": "code",
   "execution_count": 18,
   "id": "4c7c47b9-86ba-493d-8648-d94fb6cc49a1",
   "metadata": {},
   "outputs": [
    {
     "data": {
      "text/plain": [
       "3345.93"
      ]
     },
     "execution_count": 18,
     "metadata": {},
     "output_type": "execute_result"
    }
   ],
   "source": [
    "df['history'].max()"
   ]
  },
  {
   "cell_type": "code",
   "execution_count": 19,
   "id": "5308d29b-bfe7-4a73-9350-0098f3b3c6a4",
   "metadata": {},
   "outputs": [
    {
     "data": {
      "image/png": "[encoded data removed]",
      "text/plain": [
       "<Figure size 720x360 with 1 Axes>"
      ]
     },
     "metadata": {
      "needs_background": "light"
     },
     "output_type": "display_data"
    }
   ],
   "source": [
    "plt.figure(figsize = (10, 5))\n",
    "\n",
    "df['history'].hist(bins=50)\n",
    "plt.ylabel('Count')\n",
    "plt.xlabel('history')\n",
    "plt.title('Target distribution');"
   ]
  },
  {
   "cell_type": "code",
   "execution_count": 20,
   "id": "b00a02ed-e3f5-4d0d-8f92-30cd9540624f",
   "metadata": {},
   "outputs": [
    {
     "data": {
      "text/plain": [
       "recency          42\n",
       "history          42\n",
       "used_discount    42\n",
       "used_bogo        42\n",
       "zip_code         42\n",
       "is_referral      42\n",
       "channel          42\n",
       "treatment        42\n",
       "target           42\n",
       "dtype: int64"
      ]
     },
     "execution_count": 20,
     "metadata": {},
     "output_type": "execute_result"
    }
   ],
   "source": [
    " df[df['history'] > 2000].count() "
   ]
  },
  {
   "cell_type": "code",
   "execution_count": 21,
   "id": "398b183b-5c27-4f8e-9efd-165dd2d5b86d",
   "metadata": {},
   "outputs": [
    {
     "data": {
      "text/html": [
       "<div>\n",
       "<style scoped>\n",
       "    .dataframe tbody tr th:only-of-type {\n",
       "        vertical-align: middle;\n",
       "    }\n",
       "\n",
       "    .dataframe tbody tr th {\n",
       "        vertical-align: top;\n",
       "    }\n",
       "\n",
       "    .dataframe thead th {\n",
       "        text-align: right;\n",
       "    }\n",
       "</style>\n",
       "<table border=\"1\" class=\"dataframe\">\n",
       "  <thead>\n",
       "    <tr style=\"text-align: right;\">\n",
       "      <th></th>\n",
       "      <th>recency</th>\n",
       "      <th>history</th>\n",
       "      <th>used_discount</th>\n",
       "      <th>used_bogo</th>\n",
       "      <th>zip_code</th>\n",
       "      <th>is_referral</th>\n",
       "      <th>channel</th>\n",
       "      <th>treatment</th>\n",
       "      <th>target</th>\n",
       "    </tr>\n",
       "  </thead>\n",
       "  <tbody>\n",
       "    <tr>\n",
       "      <th>0</th>\n",
       "      <td>10</td>\n",
       "      <td>142.44</td>\n",
       "      <td>1</td>\n",
       "      <td>0</td>\n",
       "      <td>0</td>\n",
       "      <td>0</td>\n",
       "      <td>0</td>\n",
       "      <td>1</td>\n",
       "      <td>0</td>\n",
       "    </tr>\n",
       "    <tr>\n",
       "      <th>1</th>\n",
       "      <td>6</td>\n",
       "      <td>329.08</td>\n",
       "      <td>1</td>\n",
       "      <td>1</td>\n",
       "      <td>1</td>\n",
       "      <td>1</td>\n",
       "      <td>1</td>\n",
       "      <td>0</td>\n",
       "      <td>0</td>\n",
       "    </tr>\n",
       "    <tr>\n",
       "      <th>2</th>\n",
       "      <td>7</td>\n",
       "      <td>180.65</td>\n",
       "      <td>0</td>\n",
       "      <td>1</td>\n",
       "      <td>0</td>\n",
       "      <td>1</td>\n",
       "      <td>1</td>\n",
       "      <td>1</td>\n",
       "      <td>0</td>\n",
       "    </tr>\n",
       "    <tr>\n",
       "      <th>3</th>\n",
       "      <td>9</td>\n",
       "      <td>675.83</td>\n",
       "      <td>1</td>\n",
       "      <td>0</td>\n",
       "      <td>1</td>\n",
       "      <td>1</td>\n",
       "      <td>1</td>\n",
       "      <td>1</td>\n",
       "      <td>0</td>\n",
       "    </tr>\n",
       "    <tr>\n",
       "      <th>4</th>\n",
       "      <td>2</td>\n",
       "      <td>45.34</td>\n",
       "      <td>1</td>\n",
       "      <td>0</td>\n",
       "      <td>2</td>\n",
       "      <td>0</td>\n",
       "      <td>1</td>\n",
       "      <td>1</td>\n",
       "      <td>0</td>\n",
       "    </tr>\n",
       "    <tr>\n",
       "      <th>...</th>\n",
       "      <td>...</td>\n",
       "      <td>...</td>\n",
       "      <td>...</td>\n",
       "      <td>...</td>\n",
       "      <td>...</td>\n",
       "      <td>...</td>\n",
       "      <td>...</td>\n",
       "      <td>...</td>\n",
       "      <td>...</td>\n",
       "    </tr>\n",
       "    <tr>\n",
       "      <th>63995</th>\n",
       "      <td>10</td>\n",
       "      <td>105.54</td>\n",
       "      <td>1</td>\n",
       "      <td>0</td>\n",
       "      <td>2</td>\n",
       "      <td>0</td>\n",
       "      <td>1</td>\n",
       "      <td>1</td>\n",
       "      <td>0</td>\n",
       "    </tr>\n",
       "    <tr>\n",
       "      <th>63996</th>\n",
       "      <td>5</td>\n",
       "      <td>38.91</td>\n",
       "      <td>0</td>\n",
       "      <td>1</td>\n",
       "      <td>2</td>\n",
       "      <td>1</td>\n",
       "      <td>0</td>\n",
       "      <td>1</td>\n",
       "      <td>0</td>\n",
       "    </tr>\n",
       "    <tr>\n",
       "      <th>63997</th>\n",
       "      <td>6</td>\n",
       "      <td>29.99</td>\n",
       "      <td>1</td>\n",
       "      <td>0</td>\n",
       "      <td>2</td>\n",
       "      <td>1</td>\n",
       "      <td>0</td>\n",
       "      <td>1</td>\n",
       "      <td>0</td>\n",
       "    </tr>\n",
       "    <tr>\n",
       "      <th>63998</th>\n",
       "      <td>1</td>\n",
       "      <td>552.94</td>\n",
       "      <td>1</td>\n",
       "      <td>0</td>\n",
       "      <td>0</td>\n",
       "      <td>1</td>\n",
       "      <td>2</td>\n",
       "      <td>1</td>\n",
       "      <td>0</td>\n",
       "    </tr>\n",
       "    <tr>\n",
       "      <th>63999</th>\n",
       "      <td>1</td>\n",
       "      <td>472.82</td>\n",
       "      <td>0</td>\n",
       "      <td>1</td>\n",
       "      <td>0</td>\n",
       "      <td>0</td>\n",
       "      <td>1</td>\n",
       "      <td>1</td>\n",
       "      <td>0</td>\n",
       "    </tr>\n",
       "  </tbody>\n",
       "</table>\n",
       "<p>63958 rows × 9 columns</p>\n",
       "</div>"
      ],
      "text/plain": [
       "       recency  history  used_discount  used_bogo  zip_code  is_referral  \\\n",
       "0           10   142.44              1          0         0            0   \n",
       "1            6   329.08              1          1         1            1   \n",
       "2            7   180.65              0          1         0            1   \n",
       "3            9   675.83              1          0         1            1   \n",
       "4            2    45.34              1          0         2            0   \n",
       "...        ...      ...            ...        ...       ...          ...   \n",
       "63995       10   105.54              1          0         2            0   \n",
       "63996        5    38.91              0          1         2            1   \n",
       "63997        6    29.99              1          0         2            1   \n",
       "63998        1   552.94              1          0         0            1   \n",
       "63999        1   472.82              0          1         0            0   \n",
       "\n",
       "       channel  treatment  target  \n",
       "0            0          1       0  \n",
       "1            1          0       0  \n",
       "2            1          1       0  \n",
       "3            1          1       0  \n",
       "4            1          1       0  \n",
       "...        ...        ...     ...  \n",
       "63995        1          1       0  \n",
       "63996        0          1       0  \n",
       "63997        0          1       0  \n",
       "63998        2          1       0  \n",
       "63999        1          1       0  \n",
       "\n",
       "[63958 rows x 9 columns]"
      ]
     },
     "execution_count": 21,
     "metadata": {},
     "output_type": "execute_result"
    }
   ],
   "source": [
    "df = df.drop(np.where(df['history'] > 2000)[0]) # существует очень мало элементов столбца history выше 2000, поэтому будет считать их за выбросы и удалим\n",
    "df"
   ]
  },
  {
   "cell_type": "code",
   "execution_count": 22,
   "id": "4dd3869d-66f3-4bdd-8695-12935bfb452c",
   "metadata": {},
   "outputs": [
    {
     "data": {
      "image/png": "[encoded data removed]",
      "text/plain": [
       "<Figure size 720x360 with 1 Axes>"
      ]
     },
     "metadata": {
      "needs_background": "light"
     },
     "output_type": "display_data"
    }
   ],
   "source": [
    "plt.figure(figsize = (10, 5))\n",
    "\n",
    "df['history'].hist(bins=50)\n",
    "plt.ylabel('Count')\n",
    "plt.xlabel('history')\n",
    "plt.title('Target distribution');"
   ]
  },
  {
   "cell_type": "code",
   "execution_count": 23,
   "id": "a98a4ae5-a5ce-48a4-a178-a378afb43ebf",
   "metadata": {},
   "outputs": [],
   "source": [
    "#transformer = Normalizer() # я так и не понял как это работает, поэтому старым методом сделал) \n",
    "#transformer.fit_transform(df['history'])"
   ]
  },
  {
   "cell_type": "code",
   "execution_count": 24,
   "id": "3ea16152-3ddc-4740-a7ef-3c9555569dc9",
   "metadata": {},
   "outputs": [],
   "source": [
    "df['history'] = min_max_scale(df['history']) # нормализуем"
   ]
  },
  {
   "cell_type": "code",
   "execution_count": 25,
   "id": "5bf2540b-5944-4cc3-b71b-fff0ea0ffdf6",
   "metadata": {},
   "outputs": [],
   "source": [
    "df['recency'] = min_max_scale(df['recency'])"
   ]
  },
  {
   "cell_type": "code",
   "execution_count": 26,
   "id": "a467485a-6bc5-4324-9ad9-1814b506990b",
   "metadata": {},
   "outputs": [
    {
     "name": "stdout",
     "output_type": "stream",
     "text": [
      "[0 1]\n"
     ]
    }
   ],
   "source": [
    "print(pd.unique(df['target']))"
   ]
  },
  {
   "cell_type": "code",
   "execution_count": 27,
   "id": "5bdad6d1-0ffc-4106-8433-fcc43f3afd4d",
   "metadata": {},
   "outputs": [],
   "source": [
    "# еще раз разобьем измененные данные на train и test\n",
    "X_train, X_test, y_train, y_test = train_test_split(df.drop('target', 1), \n",
    "                                                    df['target'], random_state=0)"
   ]
  },
  {
   "cell_type": "code",
   "execution_count": 28,
   "id": "8d026514-7f5d-4fa8-82c3-54b55bf1f2b2",
   "metadata": {},
   "outputs": [],
   "source": [
    "cat_features = ['zip_code', 'channel']"
   ]
  },
  {
   "cell_type": "code",
   "execution_count": 29,
   "id": "2b2b64b8-8c1b-4696-a93a-b1cfe343faf2",
   "metadata": {},
   "outputs": [],
   "source": [
    "#indices_learn, indices_valid = train_test_split(df.index, test_size=0.3, random_state=123)"
   ]
  },
  {
   "cell_type": "code",
   "execution_count": 35,
   "id": "f0fba18e-51bb-4e85-9ab1-5f2e09322cd8",
   "metadata": {},
   "outputs": [
    {
     "data": {
      "text/plain": [
       "54992    1\n",
       "34794    0\n",
       "8090     0\n",
       "23783    0\n",
       "52775    0\n",
       "        ..\n",
       "5053     0\n",
       "60282    0\n",
       "29455    0\n",
       "5729     1\n",
       "40717    1\n",
       "Name: target, Length: 15990, dtype: int64"
      ]
     },
     "execution_count": 35,
     "metadata": {},
     "output_type": "execute_result"
    }
   ],
   "source": [
    "y_test"
   ]
  },
  {
   "cell_type": "code",
   "execution_count": 37,
   "id": "56cca42e-533a-47e7-8024-6b817e1887f7",
   "metadata": {},
   "outputs": [
    {
     "data": {
      "text/plain": [
       "54992    1\n",
       "34794    0\n",
       "8090     1\n",
       "23783    1\n",
       "52775    0\n",
       "        ..\n",
       "5053     1\n",
       "60282    1\n",
       "29455    1\n",
       "5729     1\n",
       "40717    1\n",
       "Name: treatment, Length: 15990, dtype: int32"
      ]
     },
     "execution_count": 37,
     "metadata": {},
     "output_type": "execute_result"
    }
   ],
   "source": [
    "treat_train = X_train['treatment']\n",
    "treat_test = X_test['treatment']\n",
    "treat_test"
   ]
  },
  {
   "cell_type": "markdown",
   "id": "b361e09c-0c9c-4cb6-b2f5-be95f183acdf",
   "metadata": {},
   "source": [
    "__Задание 5.__ Провести uplift-моделирование 3 способами: одна модель с признаком коммуникации (S learner), модель с трансформацией таргета (трансформация классов п. 2. 1) и вариант с двумя независимыми моделями"
   ]
  },
  {
   "cell_type": "code",
   "execution_count": 38,
   "id": "23f89ce0-8410-4860-a8d4-ca88c8ab25e7",
   "metadata": {},
   "outputs": [],
   "source": [
    "# Инструкция по установке пакета: https://github.com/maks-sh/scikit-uplift\n",
    "# Ссылка на документацию: https://scikit-uplift.readthedocs.io/en/latest/\n",
    "from sklift.metrics import uplift_at_k\n",
    "from sklift.viz import plot_uplift_preds\n",
    "from sklift.models import SoloModel\n",
    "\n",
    "# sklift поддерживает любые модели, \n",
    "# которые удовлетворяют соглашениями scikit-learn\n",
    "# Для примера воспользуемся catboost\n",
    "from catboost import CatBoostClassifier"
   ]
  },
  {
   "cell_type": "code",
   "execution_count": 44,
   "id": "be8567ee-71ff-4591-b80c-30562d716c82",
   "metadata": {},
   "outputs": [],
   "source": [
    "models_results = {\n",
    "    'approach': [],\n",
    "    'uplift@30%': []\n",
    "}"
   ]
  },
  {
   "cell_type": "code",
   "execution_count": 39,
   "id": "6e053790-e7b7-4008-a073-71430f1641aa",
   "metadata": {},
   "outputs": [],
   "source": [
    "sm = SoloModel(CatBoostClassifier(iterations=20, thread_count=2, random_state=42, silent=True))\n",
    "sm = sm.fit(X_train, y_train, treat_train, estimator_fit_params={'cat_features': cat_features})\n",
    "\n",
    "uplift_sm = sm.predict(X_test)"
   ]
  },
  {
   "cell_type": "code",
   "execution_count": 45,
   "id": "a9b1bf57-b7d6-4d48-94fb-7b69a4fe0a7f",
   "metadata": {},
   "outputs": [
    {
     "name": "stdout",
     "output_type": "stream",
     "text": [
      "uplift@30%: 0.0817\n"
     ]
    },
    {
     "data": {
      "image/png": "[encoded data removed]",
      "text/plain": [
       "<Figure size 1440x504 with 3 Axes>"
      ]
     },
     "metadata": {
      "needs_background": "light"
     },
     "output_type": "display_data"
    }
   ],
   "source": [
    "sm_score = uplift_at_k(y_true=y_test, uplift=uplift_sm, treatment=treat_test, strategy='by_group', k=0.3)\n",
    "print(f'uplift@30%: {sm_score:.4f}')\n",
    "\n",
    "models_results['approach'].append('SoloModel')\n",
    "models_results['uplift@30%'].append(sm_score)\n",
    "\n",
    "# Получим условные вероятности выполнения целевого действия при взаимодействии для каждого объекта\n",
    "sm_trmnt_preds = sm.trmnt_preds_\n",
    "# И условные вероятности выполнения целевого действия без взаимодействия для каждого объекта\n",
    "sm_ctrl_preds = sm.ctrl_preds_\n",
    "\n",
    "# Отрисуем распределения вероятностей и их разность (uplift)\n",
    "plot_uplift_preds(trmnt_preds=sm_trmnt_preds, ctrl_preds=sm_ctrl_preds);"
   ]
  },
  {
   "cell_type": "markdown",
   "id": "bd798dbf-0deb-4d4d-9e1b-cbe8c084b08a",
   "metadata": {},
   "source": [
    "__Задание 6.__ В конце вывести единую таблицу сравнения метрик uplift@10%, uplift@20% этих 3 моделей"
   ]
  },
  {
   "cell_type": "markdown",
   "id": "c4892cdb-dc3f-4a52-97f9-2af0fe9f4b90",
   "metadata": {},
   "source": [
    "Больше сделать не успел)"
   ]
  },
  {
   "cell_type": "code",
   "execution_count": null,
   "id": "cec1e334-4557-42ac-9451-637b899ef9f7",
   "metadata": {},
   "outputs": [],
   "source": []
  }
 ],
 "metadata": {
  "kernelspec": {
   "display_name": "Python 3",
   "language": "python",
   "name": "python3"
  },
  "language_info": {
   "codemirror_mode": {
    "name": "ipython",
    "version": 3
   },
   "file_extension": ".py",
   "mimetype": "text/x-python",
   "name": "python",
   "nbconvert_exporter": "python",
   "pygments_lexer": "ipython3",
   "version": "3.8.8"
  }
 },
 "nbformat": 4,
 "nbformat_minor": 5
}
