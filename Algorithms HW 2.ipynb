{
 "cells": [
  {
   "cell_type": "markdown",
   "metadata": {},
   "source": [
    "__Домашняя работа 2.__"
   ]
  },
  {
   "cell_type": "code",
   "execution_count": 1,
   "metadata": {},
   "outputs": [],
   "source": [
    "import numpy as np\n",
    "from sklearn import datasets\n",
    "import matplotlib.pyplot as plt\n",
    "from mpl_toolkits.mplot3d.axes3d import Axes3D\n",
    "from sklearn.linear_model import Ridge\n",
    "%matplotlib inline\n",
    "import warnings\n",
    "warnings.filterwarnings('ignore')"
   ]
  },
  {
   "cell_type": "code",
   "execution_count": 2,
   "metadata": {},
   "outputs": [],
   "source": [
    "def calc_mse(y, y_pred):\n",
    "    err = np.mean((y - y_pred)**2)\n",
    "    return err"
   ]
  },
  {
   "cell_type": "code",
   "execution_count": 3,
   "metadata": {},
   "outputs": [],
   "source": [
    "def min_max_scale(X):\n",
    "    return (X - X.min()) / (X.max() - X.min())"
   ]
  },
  {
   "cell_type": "code",
   "execution_count": 4,
   "metadata": {},
   "outputs": [],
   "source": [
    "def standard_scale(X):\n",
    "    mean = X.mean()\n",
    "    std = X.std()\n",
    "    return (X - mean) / std"
   ]
  },
  {
   "cell_type": "markdown",
   "metadata": {},
   "source": [
    "__Задание 1.__ Постройте график зависимости весов всех признаков от lambda в самописной L2-регуляризации (на данных про ЕГЭ). Сделайте вывод"
   ]
  },
  {
   "cell_type": "code",
   "execution_count": 5,
   "metadata": {},
   "outputs": [],
   "source": [
    "X = np.array([[   1,    1,  500,    1],\n",
    "              [   1,    1,  700,    1],\n",
    "              [   1,    2,  750,    2],\n",
    "              [   1,    5,  600,    1],\n",
    "              [   1,    3, 1450,    2],\n",
    "              [   1,    0,  800,    1],\n",
    "              [   1,    5, 1500,    3],\n",
    "              [   1,   10, 2000,    3],\n",
    "              [   1,    1,  450,    1],\n",
    "              [   1,    2, 1000,    2]])\n",
    "y = [45, 55, 50, 55, 60, 35, 75, 80, 50, 60]"
   ]
  },
  {
   "cell_type": "code",
   "execution_count": 6,
   "metadata": {},
   "outputs": [
    {
     "data": {
      "image/png": "[encoded data removed]",
      "text/plain": [
       "<Figure size 432x288 with 1 Axes>"
      ]
     },
     "metadata": {
      "needs_background": "light"
     },
     "output_type": "display_data"
    }
   ],
   "source": [
    "n = 10\n",
    "\n",
    "coeffs = np.zeros((n, X.shape[1]))\n",
    "lambda_list = np.logspace(start=1e-8, stop=1, num=n)\n",
    "\n",
    "for i, val in enumerate(lambda_list):\n",
    "    ridge = Ridge(alpha=val, fit_intercept=False)\n",
    "    ridge.fit(X, y)\n",
    "    \n",
    "    coeffs[i, :] = ridge.coef_#.flatten() Зачем нужен flatten?\n",
    "\n",
    "for i in range(X.shape[1]):\n",
    "    plt.semilogx(lambda_list, coeffs[:, i])\n",
    "\n",
    "\n",
    "plt.xlabel('lambda')\n",
    "plt.ylabel('Вес признака');"
   ]
  },
  {
   "cell_type": "markdown",
   "metadata": {},
   "source": [
    "С ростом параметра lambda веса уменьшаются. Самостоятельно написать ridge не получилось"
   ]
  },
  {
   "cell_type": "markdown",
   "metadata": {},
   "source": [
    "__Задание 2.__ Напишите функцию наподобие gradient_descent_reg_l2, но для применения L1-регуляризации."
   ]
  },
  {
   "cell_type": "code",
   "execution_count": 7,
   "metadata": {},
   "outputs": [],
   "source": [
    "def gradient_descent_reg_l1(X, y, iterations, eta=1e-4, reg=1e-8):\n",
    "    W = np.random.randn(X.shape[1])\n",
    "    n = X.shape[0]\n",
    "    \n",
    "    for i in range(0, iterations):\n",
    "        y_pred = np.dot(X, W)\n",
    "        err = calc_mse(y, y_pred)\n",
    "        \n",
    "        dQ = 2/n * X.T @ (y_pred - y) # градиент функции ошибки\n",
    "        dReg = reg * np.sign(W) # градиент регуляризации\n",
    "        \n",
    "        W -= eta * (dQ + dReg)\n",
    "        \n",
    "        if iterations %10 == 0:\n",
    "            print(f'Iter: {i}, weights: {W}, error {err}')\n",
    "    \n",
    "    print(f'Final MSE: {calc_mse(y, np.dot(X, W))}')\n",
    "    return W"
   ]
  },
  {
   "cell_type": "markdown",
   "metadata": {},
   "source": [
    "__Задание 3.__ *Можно ли к одному и тому же признаку применить сразу и нормализацию, и стандартизацию?"
   ]
  },
  {
   "cell_type": "markdown",
   "metadata": {},
   "source": [
    "Можно, но последняя затрет первую. Имеет значение только что было применено последним"
   ]
  },
  {
   "cell_type": "markdown",
   "metadata": {},
   "source": [
    "__Задание 4.__ *Сгенерируйте датасет при помощи <code>sklearn.datasets.make_regression</code> и обучите линейную модель при помощи градиентного и стохастического градиентного спуска. Нанесите среднеквадратичную ошибку для обоих методов на один график, сделайте выводы о разнице скорости сходимости каждого из методов."
   ]
  },
  {
   "cell_type": "code",
   "execution_count": 8,
   "metadata": {},
   "outputs": [
    {
     "name": "stdout",
     "output_type": "stream",
     "text": [
      "(1000, 2)\n"
     ]
    }
   ],
   "source": [
    "# сгенерируем набор данных\n",
    "X, Y, coef = datasets.make_regression(n_samples=1000, n_features=2, n_informative=2, n_targets=1, \n",
    "                                      noise=5, coef=True, random_state=4)\n",
    "X[:, 0] *= 10\n",
    "print(X.shape)"
   ]
  },
  {
   "cell_type": "code",
   "execution_count": 9,
   "metadata": {},
   "outputs": [],
   "source": [
    "def gradient_descent(X, y, iterations, eta=1e-4, errors = []):\n",
    "    W = np.random.randn(X.shape[1])\n",
    "    n = X.shape[0]\n",
    "    \n",
    "    for i in range(0, iterations):\n",
    "        y_pred = np.dot(X, W)\n",
    "        err = calc_mse(y, y_pred)\n",
    "        errors.append(err)\n",
    "        dQ = 2/n * X.T @ (y_pred - y) # градиент функции ошибки\n",
    "        W -= (eta * dQ)\n",
    "        if i % (iterations / 10) == 0:\n",
    "            print(f'Iter: {i}, weights: {W}, error {err}')\n",
    "    print(f'Final MSE: {calc_mse(y, np.dot(X, W))}')\n",
    "    return W"
   ]
  },
  {
   "cell_type": "code",
   "execution_count": 10,
   "metadata": {},
   "outputs": [],
   "source": [
    "def stohastic_gradient_descent(X, y, iterations, batch_size, eta=1e-4, errors = []):\n",
    "    W = np.random.randn(X.shape[1])\n",
    "    n = X.shape[0]\n",
    "    n_batch = n // batch_size    \n",
    "    if n % batch_size != 0:\n",
    "        n_batch += 1\n",
    "    print(f'amount of batches is {n_batch}')\n",
    "        \n",
    "    for i in range(0, iterations):\n",
    "        \n",
    "        for b in range(n_batch):\n",
    "            start = batch_size * b\n",
    "            end = batch_size * (b + 1)\n",
    "            \n",
    "#             print(b, start, end)\n",
    "            \n",
    "            X_tmp = X[start : end, ]\n",
    "            y_tmp = y[start : end]\n",
    "\n",
    "            err = calc_mse(y, np.dot(X, W))\n",
    "            errors.append(err)\n",
    "            y_pred_tmp = np.dot(X_tmp, W)\n",
    "            dQ = 2/len(y_tmp) * X_tmp.T @ (y_pred_tmp - y_tmp) # градиент функции ошибки\n",
    "            W -= (eta * dQ)\n",
    "        \n",
    "        if i % (iterations / 10) == 0:\n",
    "            print(f'Iter: {i}, weights: {W}, error {err}')\n",
    "    \n",
    "    print(f'Final MSE: {calc_mse(y, np.dot(X, W))}')\n",
    "    return W"
   ]
  },
  {
   "cell_type": "code",
   "execution_count": 11,
   "metadata": {},
   "outputs": [],
   "source": [
    "X_st = X.copy().astype(np.float64)\n",
    "X_st[:, 0] = standard_scale(X_st[:, 0])\n",
    "X_st[:, 1] = standard_scale(X_st[:, 1])"
   ]
  },
  {
   "cell_type": "code",
   "execution_count": 12,
   "metadata": {},
   "outputs": [
    {
     "name": "stdout",
     "output_type": "stream",
     "text": [
      "Iter: 0, weights: [-0.01901327 -1.25175818], error 2857.319033728854\n",
      "Iter: 30, weights: [23.57606316  0.47545649], error 876.7181426257051\n",
      "Iter: 60, weights: [36.47800487  1.77776813], error 281.81108155279617\n",
      "Iter: 90, weights: [43.53832755  2.68516103], error 102.58312966035855\n",
      "Iter: 120, weights: [47.40491347  3.28797522], error 48.428596950417756\n",
      "Iter: 150, weights: [49.52406388  3.67588436], error 32.01900180302441\n",
      "Iter: 180, weights: [50.68637871  3.91987628], error 27.033018462962524\n",
      "Iter: 210, weights: [51.32436313  4.07074376], error 25.51406344382229\n",
      "Iter: 240, weights: [51.67480553  4.16279892], error 25.05015995852469\n",
      "Iter: 270, weights: [51.86744224  4.21837622], error 24.90814185369924\n",
      "Final MSE: 24.864566991603006\n"
     ]
    },
    {
     "data": {
      "text/plain": [
       "array([51.97080192,  4.2507881 ])"
      ]
     },
     "execution_count": 12,
     "metadata": {},
     "output_type": "execute_result"
    }
   ],
   "source": [
    "g_errors = []\n",
    "gradient_descent(X_st, Y, iterations=300, eta=1e-2, errors=g_errors)"
   ]
  },
  {
   "cell_type": "code",
   "execution_count": 17,
   "metadata": {},
   "outputs": [
    {
     "name": "stdout",
     "output_type": "stream",
     "text": [
      "amount of batches is 1000\n",
      "Iter: 0, weights: [52.38430816  3.75833789], error 25.376212596254305\n",
      "Iter: 5, weights: [52.38430824  3.75833794], error 25.376212594264004\n",
      "Iter: 10, weights: [52.38430824  3.75833794], error 25.376212594264004\n",
      "Iter: 15, weights: [52.38430824  3.75833794], error 25.376212594264004\n",
      "Iter: 20, weights: [52.38430824  3.75833794], error 25.376212594264004\n",
      "Iter: 25, weights: [52.38430824  3.75833794], error 25.376212594264004\n",
      "Iter: 30, weights: [52.38430824  3.75833794], error 25.376212594264004\n",
      "Iter: 35, weights: [52.38430824  3.75833794], error 25.376212594264004\n",
      "Iter: 40, weights: [52.38430824  3.75833794], error 25.376212594264004\n",
      "Iter: 45, weights: [52.38430824  3.75833794], error 25.376212594264004\n",
      "Final MSE: 25.230852933752157\n"
     ]
    },
    {
     "data": {
      "text/plain": [
       "array([52.38430824,  3.75833794])"
      ]
     },
     "execution_count": 17,
     "metadata": {},
     "output_type": "execute_result"
    }
   ],
   "source": [
    "st_errors = []\n",
    "stohastic_gradient_descent(X_st, Y, iterations=50, batch_size=1, eta=1e-2, errors=st_errors)"
   ]
  },
  {
   "cell_type": "code",
   "execution_count": 24,
   "metadata": {},
   "outputs": [
    {
     "data": {
      "text/plain": [
       "Text(0, 0.5, 'MSE')"
      ]
     },
     "execution_count": 24,
     "metadata": {},
     "output_type": "execute_result"
    },
    {
     "data": {
      "image/png": "[encoded data removed]",
      "text/plain": [
       "<Figure size 432x288 with 1 Axes>"
      ]
     },
     "metadata": {
      "needs_background": "light"
     },
     "output_type": "display_data"
    }
   ],
   "source": [
    "n = 30 # взял только первые 30 элементов, иначе скачков sgd не заметно из-за очень большого количества итераций\n",
    "plt.plot(range(len(st_errors[:n])), st_errors[:n]) \n",
    "plt.plot(range(len(g_errors[:n])), g_errors[:n])\n",
    "plt.title('Сравнение ошибки gd и sgd')\n",
    "plt.xlabel('Iteration number')\n",
    "plt.ylabel('MSE')"
   ]
  },
  {
   "cell_type": "markdown",
   "metadata": {},
   "source": [
    "Оба сходятся очень быстро, но стохастический не плавно. "
   ]
  }
 ],
 "metadata": {
  "kernelspec": {
   "display_name": "Python 3",
   "language": "python",
   "name": "python3"
  },
  "language_info": {
   "codemirror_mode": {
    "name": "ipython",
    "version": 3
   },
   "file_extension": ".py",
   "mimetype": "text/x-python",
   "name": "python",
   "nbconvert_exporter": "python",
   "pygments_lexer": "ipython3",
   "version": "3.8.3"
  }
 },
 "nbformat": 4,
 "nbformat_minor": 4
}
