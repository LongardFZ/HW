{
  "cells": [
    {
      "cell_type": "markdown",
      "metadata": {
        "id": "3E8KtDqFlrcm"
      },
      "source": [
        "# Фреймворк PyTorch для разработки искусственных нейронных сетей"
      ]
    },
    {
      "cell_type": "markdown",
      "metadata": {
        "id": "5JT3FtljAhgw"
      },
      "source": [
        "<img src='https://drive.google.com/uc?export=view&id=1v51-gWkPgQmtIhcGpmwuw81TGwMz7aM5'>"
      ]
    },
    {
      "cell_type": "markdown",
      "metadata": {
        "id": "kJo6HP61Ahgy"
      },
      "source": [
        "### План курса\n",
        "\n",
        "1. Введение в PyTorch. Тензоры, автодифференцирование\n",
        "2. Feed-forward нейронные сети на Pytorch\n",
        "3. Dataloader, Dataset в Pytorch. Продвинутые методы оптимизации\n",
        "4. Сверточные сети в Pytorch. Классификация изображений. Предобученные сети в Pytorch\n",
        "5. Составная лосс-функция. Сегментация изображений.\n",
        "6. Сверточные сети применительно к текстовым задачам. Эмбеддинг-слои. Классификация новостей одномерными свертками.\n",
        "7. Рекурентные нейронные сети. GRU, LSTM на Pytorch. Задача NER.\n",
        "8. GAN на Pytorch.\n",
        "9. Bert и Transformer на Pytorch\n",
        "10. Face Detection and Emotion Recognition"
      ]
    },
    {
      "cell_type": "markdown",
      "metadata": {
        "id": "GoFHbsJClrcw"
      },
      "source": [
        "# PyTorch, вводное занятие"
      ]
    },
    {
      "cell_type": "markdown",
      "metadata": {
        "id": "6q9v2uVflrcw"
      },
      "source": [
        "### План занятия:\n",
        "\n",
        "* Установка\n",
        "* Тензоры\n",
        "* Введение в синтаксис pytorch и Тензорные вычисления\n",
        "* Вычислительный граф и Автоматическое диференцирование\n",
        "* Погружаемся в детали\n",
        "* Tensorflow vs PyTorch\n",
        "* Где полученные знания можно применить"
      ]
    },
    {
      "cell_type": "markdown",
      "metadata": {
        "id": "ZsbYTszFlrcy"
      },
      "source": [
        "# 0. Установка"
      ]
    },
    {
      "cell_type": "code",
      "execution_count": null,
      "metadata": {
        "colab": {
          "base_uri": "https://localhost:8080/"
        },
        "id": "yxkIdBBrlrcz",
        "outputId": "dab0e50c-6f62-4187-ddc5-d7dbc1be10ab"
      },
      "outputs": [
        {
          "name": "stdout",
          "output_type": "stream",
          "text": [
            "Looking in indexes: https://pypi.org/simple, https://us-python.pkg.dev/colab-wheels/public/simple/\n",
            "Requirement already satisfied: torch in /usr/local/lib/python3.7/dist-packages (1.11.0+cu113)\n",
            "Requirement already satisfied: torchvision in /usr/local/lib/python3.7/dist-packages (0.12.0+cu113)\n",
            "Requirement already satisfied: typing-extensions in /usr/local/lib/python3.7/dist-packages (from torch) (4.1.1)\n",
            "Requirement already satisfied: pillow!=8.3.*,>=5.3.0 in /usr/local/lib/python3.7/dist-packages (from torchvision) (7.1.2)\n",
            "Requirement already satisfied: requests in /usr/local/lib/python3.7/dist-packages (from torchvision) (2.23.0)\n",
            "Requirement already satisfied: numpy in /usr/local/lib/python3.7/dist-packages (from torchvision) (1.21.6)\n",
            "Requirement already satisfied: urllib3!=1.25.0,!=1.25.1,<1.26,>=1.21.1 in /usr/local/lib/python3.7/dist-packages (from requests->torchvision) (1.24.3)\n",
            "Requirement already satisfied: idna<3,>=2.5 in /usr/local/lib/python3.7/dist-packages (from requests->torchvision) (2.10)\n",
            "Requirement already satisfied: certifi>=2017.4.17 in /usr/local/lib/python3.7/dist-packages (from requests->torchvision) (2022.6.15)\n",
            "Requirement already satisfied: chardet<4,>=3.0.2 in /usr/local/lib/python3.7/dist-packages (from requests->torchvision) (3.0.4)\n"
          ]
        }
      ],
      "source": [
        "!pip3 install torch torchvision"
      ]
    },
    {
      "cell_type": "markdown",
      "metadata": {
        "id": "Vz-hpRAclrc4"
      },
      "source": [
        "# 1. Тензоры"
      ]
    },
    {
      "cell_type": "markdown",
      "metadata": {
        "id": "ioO3fIeclrc4"
      },
      "source": [
        "Тензоры схожи с ndarrays в NumPy, с добавлением того, что тензоры могут быть использованы на GPU для ускорения вычислений."
      ]
    },
    {
      "cell_type": "markdown",
      "metadata": {
        "id": "ajgxH0z_AhhB"
      },
      "source": [
        "### Тензоры\n",
        "\n",
        "Тензор - основная структура данных в библиотеках машинного обучения, которая похожа на массив Numpy. Что-то вроде n-мерной матрицы или массива массивов.Тензоры обеспечивают ускорение различных математических операций. Эти операции при выполнении в большом количестве в глубоком обучении имеют огромное значение в скорости."
      ]
    },
    {
      "cell_type": "markdown",
      "metadata": {
        "id": "1Wwd8OUFlrc-"
      },
      "source": [
        "# 2. Введение в синтаксис pytorch и Тензорные вычисления"
      ]
    },
    {
      "cell_type": "markdown",
      "metadata": {
        "id": "oo6pzUghlrc-"
      },
      "source": [
        "[База от pytorch](https://pytorch.org/tutorials/beginner/basics/intro.html)"
      ]
    },
    {
      "cell_type": "code",
      "execution_count": null,
      "metadata": {
        "id": "cr4ur_8Llrc_"
      },
      "outputs": [],
      "source": [
        "from IPython import display\n",
        "import numpy as np\n",
        "import random\n",
        "import torch"
      ]
    },
    {
      "cell_type": "markdown",
      "metadata": {
        "id": "GjBbSSOXlrdB"
      },
      "source": [
        "### 2.1 Тензоры в pytorch"
      ]
    },
    {
      "cell_type": "markdown",
      "metadata": {
        "id": "DsP_QDjylrdC"
      },
      "source": [
        "Тип данных, хранимых тензором, отражается в имени его конструктора. Конструктор без параметров вернёт специальное значение — тензор без размерности, который нельзя использовать ни в каких операциях."
      ]
    },
    {
      "cell_type": "code",
      "execution_count": null,
      "metadata": {
        "id": "fZUu5E6klrdC"
      },
      "outputs": [],
      "source": [
        "torch.FloatTensor()\n",
        "a = torch.Tensor()"
      ]
    },
    {
      "cell_type": "markdown",
      "metadata": {
        "id": "sc2jfbOalrdD"
      },
      "source": [
        "Типы тензоров в pytorch:"
      ]
    },
    {
      "cell_type": "markdown",
      "metadata": {
        "id": "YRGslGDYlrdE"
      },
      "source": [
        "torch.HalfTensor      # 16 бит, с плавающей точкой  \n",
        "torch.FloatTensor     # 32 бита,  с плавающей точкой  \n",
        "torch.DoubleTensor    # 64 бита, с плавающей точкой  \n",
        "\n",
        "torch.ShortTensor     # 16 бит, целочисленный, знаковый  \n",
        "torch.IntTensor       # 32 бита, целочисленный, знаковый  \n",
        "torch.LongTensor      # 64 бита, целочисленный, знаковый  \n",
        "\n",
        "torch.CharTensor      # 8 бит, целочисленный, знаковый  \n",
        "torch.ByteTensor      # 8 бит, целочисленный, беззнаковый  "
      ]
    },
    {
      "cell_type": "markdown",
      "metadata": {
        "id": "3npMKfhHlrdF"
      },
      "source": [
        "torch.Tensor является сокращённым названием для torch.FloatTensor. Так же в последних версиях существует автоматическое приведение типов, если типы не сопоставимы:"
      ]
    },
    {
      "cell_type": "code",
      "execution_count": null,
      "metadata": {
        "colab": {
          "base_uri": "https://localhost:8080/"
        },
        "id": "mP6jj5ImlrdF",
        "outputId": "913125b9-ddc3-43fd-9ee3-01e54ecdd9d8"
      },
      "outputs": [
        {
          "name": "stdout",
          "output_type": "stream",
          "text": [
            "tensor([1.])\n",
            "tensor([2.], dtype=torch.float64)\n"
          ]
        },
        {
          "data": {
            "text/plain": [
              "tensor([2.], dtype=torch.float64)"
            ]
          },
          "execution_count": 98,
          "metadata": {},
          "output_type": "execute_result"
        }
      ],
      "source": [
        "a = torch.FloatTensor([1.0])\n",
        "b = torch.DoubleTensor([2.0])\n",
        "print(a)\n",
        "print(b)\n",
        "a * b"
      ]
    },
    {
      "cell_type": "markdown",
      "metadata": {
        "id": "ULPsrNnxlrdH"
      },
      "source": [
        "Но где-то могут возникать проблемы в виду разных типов. Для этого предусмотрена возможность явного приведения типов:"
      ]
    },
    {
      "cell_type": "code",
      "execution_count": null,
      "metadata": {
        "colab": {
          "base_uri": "https://localhost:8080/"
        },
        "id": "Mzydn0ntlrdI",
        "outputId": "27f4e60b-b23f-4280-9338-fa6e14e7b65d"
      },
      "outputs": [
        {
          "name": "stdout",
          "output_type": "stream",
          "text": [
            "torch.IntTensor\n",
            "torch.ByteTensor\n"
          ]
        }
      ],
      "source": [
        "a = torch.IntTensor([1])\n",
        "print(a.type())\n",
        "a = a.byte()\n",
        "print(a.type())"
      ]
    },
    {
      "cell_type": "code",
      "execution_count": null,
      "metadata": {
        "colab": {
          "base_uri": "https://localhost:8080/"
        },
        "id": "fDpxFj1mlrdJ",
        "outputId": "73d319ce-a4a2-413e-cb8e-bdc7fbb9a406"
      },
      "outputs": [
        {
          "data": {
            "text/plain": [
              "tensor([1.])"
            ]
          },
          "execution_count": 100,
          "metadata": {},
          "output_type": "execute_result"
        }
      ],
      "source": [
        "a.float()"
      ]
    },
    {
      "cell_type": "code",
      "execution_count": null,
      "metadata": {
        "colab": {
          "base_uri": "https://localhost:8080/"
        },
        "id": "ocL-dn4US6y9",
        "outputId": "5730a426-2378-4a22-c073-e87e8133b95f"
      },
      "outputs": [
        {
          "data": {
            "text/plain": [
              "tensor([1], dtype=torch.uint8)"
            ]
          },
          "execution_count": 101,
          "metadata": {},
          "output_type": "execute_result"
        }
      ],
      "source": [
        "a"
      ]
    },
    {
      "cell_type": "markdown",
      "metadata": {
        "id": "78WC03sMlrdK"
      },
      "source": [
        "### 2.2 Немного о различиях в функциях"
      ]
    },
    {
      "cell_type": "markdown",
      "metadata": {
        "id": "hll1Lq_MlrdK"
      },
      "source": [
        "Соглашение о именовании в PyTorch гласит, что любая функция вида xxx возвращает новый тензор, т.е. является immutable функцией. В противоположность ей функция вида xxx_ изменяет изначальный тензор, т.е. является mutable функцией. Последние ещё носят название inplace функций. \n",
        "Почти для любой immutable функции в PyTorch существует её собрат. Однако бывает и так, что функция существует лишь в каком-то одном варианте. По понятным причинам, функции, изменяющие размер тензора всегда являются immutable."
      ]
    },
    {
      "cell_type": "markdown",
      "metadata": {
        "id": "A5sdx0omlrdL"
      },
      "source": [
        "По поводу всех функций прошу [сюда](https://pytorch.org/docs/master/tensors.html). А сейчас мы коснемся лишь самых важных."
      ]
    },
    {
      "cell_type": "markdown",
      "metadata": {
        "id": "swyfZlVrlrdM"
      },
      "source": [
        "### 2.3 Инициализация"
      ]
    },
    {
      "cell_type": "markdown",
      "metadata": {
        "id": "O_XGiOlRlrdV"
      },
      "source": [
        "Начнем с того, как мы можем задать наш тензор. Полный список функций можно посмотреть в [официальном источнике](https://pytorch.org/docs/stable/torch.html) под заголовком Creation Ops. Вот некоторые разные варианты:"
      ]
    },
    {
      "cell_type": "code",
      "execution_count": null,
      "metadata": {
        "colab": {
          "base_uri": "https://localhost:8080/"
        },
        "id": "XBIvfmmzlrdW",
        "outputId": "1d014f46-2429-45e4-e069-3e28c65eafcc"
      },
      "outputs": [
        {
          "name": "stdout",
          "output_type": "stream",
          "text": [
            "type of tensor :  torch.FloatTensor\n",
            "Simple way: tensor([1.0000, 1.4000, 2.5000])\n",
            "Via type : tensor([1.0000, 1.4000, 2.5000])\n",
            "Zeros:\n",
            " tensor([[0., 0., 0.],\n",
            "        [0., 0., 0.]])\n",
            "Превращаем а в нули : tensor([0., 0., 0.])\n",
            "Заполним тензор константой : tensor([5., 5., 5.])\n",
            "Range: tensor([0, 1, 2, 3, 4, 5, 6, 7, 8, 9])\n",
            "Complicated range: tensor([ 4,  6,  8, 10])\n",
            "Space: tensor([1.0000, 1.6000, 2.2000, 2.8000, 3.4000, 4.0000])\n"
          ]
        }
      ],
      "source": [
        "a = [1. , 1.4 , 2.5]\n",
        "a_tensor = torch.tensor(a)\n",
        "print(f\"type of tensor : \", a_tensor.type())\n",
        "print(f\"Simple way: {torch.tensor(a)}\")\n",
        "print(f\"Via type : {torch.FloatTensor(a)}\")\n",
        "print(f\"Zeros:\\n {torch.zeros((2, 3))}\")\n",
        "print(f\"Превращаем а в нули : {a_tensor.zero_()}\")\n",
        "print(f\"Заполним тензор константой : {a_tensor.fill_(5)}\")\n",
        "print(f\"Range: {torch.arange(0, 10)}\")\n",
        "print(f\"Complicated range: {torch.arange(4, 12, 2)}\")\n",
        "print(f\"Space: {torch.linspace(1, 4, 6)}\")"
      ]
    },
    {
      "cell_type": "markdown",
      "metadata": {
        "id": "BIf4MP-ulrdX"
      },
      "source": [
        "### 2.4 Случайная выборка"
      ]
    },
    {
      "cell_type": "markdown",
      "metadata": {
        "id": "-rGBzeeKlrdX"
      },
      "source": [
        "Теперь про то, как мы можем генерировать случайнные значения в наших тензорах. Полный список функций можно посмотреть по ссылке выше под заголовком Random sampling."
      ]
    },
    {
      "cell_type": "code",
      "execution_count": null,
      "metadata": {
        "colab": {
          "base_uri": "https://localhost:8080/"
        },
        "id": "-vKQwM1olrdY",
        "outputId": "cb5412b2-e8c2-4dff-fb97-5f8018f1e81a"
      },
      "outputs": [
        {
          "name": "stdout",
          "output_type": "stream",
          "text": [
            "From 0 to 1: tensor([0.2578])\n",
            "Vector from 0 to 1: tensor([0.6473, 0.2071, 0.8562, 0.9676, 0.1037])\n",
            "Vector from a normal distribution with mean 0 and variance 1: tensor([[-0.0829, -1.1082, -2.8003],\n",
            "        [ 0.2118, -1.3131, -0.7565]])\n",
            "Vector from 0 to 10: tensor([7, 3, 9, 6, 7])\n"
          ]
        }
      ],
      "source": [
        "print(f\"From 0 to 1: {torch.rand(1)}\")\n",
        "print(f\"Vector from 0 to 1: {torch.rand(5)}\")\n",
        "print(f\"Vector from a normal distribution with mean 0 and variance 1: {torch.randn(2, 3)}\")\n",
        "print(f\"Vector from 0 to 10: {torch.randint(10, size=(5,))}\")\n",
        "#print(f\"Непрерывное равномерное распределение : {torch.uniform(0, 5)}\")"
      ]
    },
    {
      "cell_type": "markdown",
      "metadata": {
        "id": "1apoSI34lrda"
      },
      "source": [
        "### 2.5 Математические операции"
      ]
    },
    {
      "cell_type": "markdown",
      "metadata": {
        "id": "eogPvK3olrdb"
      },
      "source": [
        "С матричными операциями так же все аналогично с тем же numpy"
      ]
    },
    {
      "cell_type": "code",
      "execution_count": null,
      "metadata": {
        "colab": {
          "base_uri": "https://localhost:8080/"
        },
        "id": "mMpVDkyOlrdb",
        "outputId": "b0d260e0-7744-4b92-bbd4-43904c8f41e3"
      },
      "outputs": [
        {
          "name": "stdout",
          "output_type": "stream",
          "text": [
            "a: tensor([0., 1., 2., 3., 4., 5., 6., 7., 8., 9.])\n",
            "shape: torch.Size([10])\n",
            "b: tensor([-10.0000,  -7.7778,  -5.5556,  -3.3333,  -1.1111,   1.1111,   3.3333,\n",
            "          5.5556,   7.7778,  10.0000])\n",
            "shape: torch.Size([10])\n"
          ]
        }
      ],
      "source": [
        "a = torch.arange(10).type(torch.FloatTensor)\n",
        "b = torch.linspace(-10, 10, 10)\n",
        "print(f\"a: {a}\\nshape: {a.size()}\")\n",
        "print(f\"b: {b}\\nshape: {b.size()}\")"
      ]
    },
    {
      "cell_type": "code",
      "execution_count": null,
      "metadata": {
        "colab": {
          "base_uri": "https://localhost:8080/"
        },
        "id": "wLvfZBI5niyi",
        "outputId": "821e37b6-0fe0-42b1-94d8-833f42d1bddb"
      },
      "outputs": [
        {
          "name": "stdout",
          "output_type": "stream",
          "text": [
            "a + b: tensor([-10.0000,  -6.7778,  -3.5556,  -0.3333,   2.8889,   6.1111,   9.3333,\n",
            "         12.5556,  15.7778,  19.0000]),\n",
            " a * b: tensor([ -0.0000,  -7.7778, -11.1111, -10.0000,  -4.4444,   5.5556,  20.0000,\n",
            "         38.8889,  62.2222,  90.0000])\n",
            "a + b: tensor([-10.0000,  -6.7778,  -3.5556,  -0.3333,   2.8889,   6.1111,   9.3333,\n",
            "         12.5556,  15.7778,  19.0000]),\n",
            " a * b: tensor([ -0.0000,  -7.7778, -11.1111, -10.0000,  -4.4444,   5.5556,  20.0000,\n",
            "         38.8889,  62.2222,  90.0000])\n",
            "a + b: tensor([-10.0000,  -6.7778,  -3.5556,  -0.3333,   2.8889,   6.1111,   9.3333,\n",
            "         12.5556,  15.7778,  19.0000]),\n",
            " a * b: tensor([100.0000,  52.7160,  19.7531,   1.1111,  -3.2099,   6.7901,  31.1111,\n",
            "         69.7531, 122.7160, 190.0000])\n"
          ]
        }
      ],
      "source": [
        "print(f\"a + b: {a + b},\\n a * b: {a * b}\")\n",
        "print(f\"a + b: {a.add(b)},\\n a * b: {a.mul(b)}\") # вычитание sub, деление - div\n",
        "print(f\"a + b: {a.add_(b)},\\n a * b: {a.mul_(b)}\")"
      ]
    },
    {
      "cell_type": "code",
      "execution_count": null,
      "metadata": {
        "colab": {
          "base_uri": "https://localhost:8080/"
        },
        "id": "w8ev2q3OnkSg",
        "outputId": "9918b4a9-3dc3-4392-a7ea-51c16bd8a985"
      },
      "outputs": [
        {
          "name": "stdout",
          "output_type": "stream",
          "text": [
            "Экспонента : tensor([1.0000e+00, 2.7183e+00, 7.3891e+00, 2.0086e+01, 5.4598e+01, 1.4841e+02,\n",
            "        4.0343e+02, 1.0966e+03, 2.9810e+03, 8.1031e+03]),\n",
            " tensor([1.0000e+00, 2.7183e+00, 7.3891e+00, 2.0086e+01, 5.4598e+01, 1.4841e+02,\n",
            "        4.0343e+02, 1.0966e+03, 2.9810e+03, 8.1031e+03]), \n",
            " tensor([1.0000e+00, 2.7183e+00, 7.3891e+00, 2.0086e+01, 5.4598e+01, 1.4841e+02,\n",
            "        4.0343e+02, 1.0966e+03, 2.9810e+03, 8.1031e+03])\n",
            "Логарифм : tensor([0., 1., 2., 3., 4., 5., 6., 7., 8., 9.])\n",
            "Модуль : tensor([1.0000e+00, 2.7183e+00, 7.3891e+00, 2.0086e+01, 5.4598e+01, 1.4841e+02,\n",
            "        4.0343e+02, 1.0966e+03, 2.9810e+03, 8.1031e+03])\n",
            "sin(x) : tensor([ 0.8415,  0.4108,  0.8939,  0.9445, -0.9288, -0.6877,  0.9649, -0.2156,\n",
            "         0.4017, -0.7935])\n"
          ]
        }
      ],
      "source": [
        "a = torch.arange(10).type(torch.FloatTensor)\n",
        "\n",
        "print(f\"Экспонента : {a.exp()},\\n {torch.exp(a)}, \\n {a.exp_()}\")\n",
        "print(f\"Логарифм : {a.log()}\")\n",
        "print(f\"Модуль : {a.abs()}\")\n",
        "print(f\"sin(x) : {a.sin()}\")"
      ]
    },
    {
      "cell_type": "code",
      "execution_count": null,
      "metadata": {
        "colab": {
          "base_uri": "https://localhost:8080/"
        },
        "id": "Gqhs-wzFnlqm",
        "outputId": "e46b33ee-8e3d-4b4e-a35e-6681d638dbb9"
      },
      "outputs": [
        {
          "name": "stdout",
          "output_type": "stream",
          "text": [
            "Скалярное произведение: 111618.328125\n",
            "Mean: 1281.830810546875, STD: 2571.337890625\n",
            "Sum: 12818.30859375, Min: 1.0, Max: 8103.083984375\n"
          ]
        }
      ],
      "source": [
        "print(f\"Скалярное произведение: {a.dot(b)}\")\n",
        "print(f\"Mean: {a.mean()}, STD: {a.std()}\")\n",
        "print(f\"Sum: {a.sum()}, Min: {a.min()}, Max: {a.max()}\")"
      ]
    },
    {
      "cell_type": "code",
      "execution_count": null,
      "metadata": {
        "colab": {
          "base_uri": "https://localhost:8080/"
        },
        "id": "bqJzUTbESuO8",
        "outputId": "fca1663f-f2ee-44ba-99e1-a5a6b8b313f9"
      },
      "outputs": [
        {
          "data": {
            "text/plain": [
              "torch.Size([10])"
            ]
          },
          "execution_count": 108,
          "metadata": {},
          "output_type": "execute_result"
        }
      ],
      "source": [
        "a.shape"
      ]
    },
    {
      "cell_type": "code",
      "execution_count": null,
      "metadata": {
        "colab": {
          "base_uri": "https://localhost:8080/"
        },
        "id": "b8FYpFBMnm9_",
        "outputId": "f0e336ca-0975-4d81-fe26-fecf475960e3"
      },
      "outputs": [
        {
          "name": "stdout",
          "output_type": "stream",
          "text": [
            "Reshape:\n",
            "tensor([[1.0000e+00],\n",
            "        [2.7183e+00],\n",
            "        [7.3891e+00],\n",
            "        [2.0086e+01],\n",
            "        [5.4598e+01],\n",
            "        [1.4841e+02],\n",
            "        [4.0343e+02],\n",
            "        [1.0966e+03],\n",
            "        [2.9810e+03],\n",
            "        [8.1031e+03]])\n",
            "shape: torch.Size([10, 1])\n",
            "Повторения:\n",
            "tensor([[1.0000e+00, 1.0000e+00, 1.0000e+00, 1.0000e+00, 1.0000e+00],\n",
            "        [2.7183e+00, 2.7183e+00, 2.7183e+00, 2.7183e+00, 2.7183e+00],\n",
            "        [7.3891e+00, 7.3891e+00, 7.3891e+00, 7.3891e+00, 7.3891e+00],\n",
            "        [2.0086e+01, 2.0086e+01, 2.0086e+01, 2.0086e+01, 2.0086e+01],\n",
            "        [5.4598e+01, 5.4598e+01, 5.4598e+01, 5.4598e+01, 5.4598e+01],\n",
            "        [1.4841e+02, 1.4841e+02, 1.4841e+02, 1.4841e+02, 1.4841e+02],\n",
            "        [4.0343e+02, 4.0343e+02, 4.0343e+02, 4.0343e+02, 4.0343e+02],\n",
            "        [1.0966e+03, 1.0966e+03, 1.0966e+03, 1.0966e+03, 1.0966e+03],\n",
            "        [2.9810e+03, 2.9810e+03, 2.9810e+03, 2.9810e+03, 2.9810e+03],\n",
            "        [8.1031e+03, 8.1031e+03, 8.1031e+03, 8.1031e+03, 8.1031e+03]])\n",
            "shape: torch.Size([10, 5])\n",
            "Транспонирование:\n",
            "tensor([[1.0000e+00, 2.7183e+00, 7.3891e+00, 2.0086e+01, 5.4598e+01, 1.4841e+02,\n",
            "         4.0343e+02, 1.0966e+03, 2.9810e+03, 8.1031e+03],\n",
            "        [1.0000e+00, 2.7183e+00, 7.3891e+00, 2.0086e+01, 5.4598e+01, 1.4841e+02,\n",
            "         4.0343e+02, 1.0966e+03, 2.9810e+03, 8.1031e+03],\n",
            "        [1.0000e+00, 2.7183e+00, 7.3891e+00, 2.0086e+01, 5.4598e+01, 1.4841e+02,\n",
            "         4.0343e+02, 1.0966e+03, 2.9810e+03, 8.1031e+03],\n",
            "        [1.0000e+00, 2.7183e+00, 7.3891e+00, 2.0086e+01, 5.4598e+01, 1.4841e+02,\n",
            "         4.0343e+02, 1.0966e+03, 2.9810e+03, 8.1031e+03],\n",
            "        [1.0000e+00, 2.7183e+00, 7.3891e+00, 2.0086e+01, 5.4598e+01, 1.4841e+02,\n",
            "         4.0343e+02, 1.0966e+03, 2.9810e+03, 8.1031e+03]])\n",
            "shape: torch.Size([5, 10])\n",
            "Уникальные элементы: tensor([1.0000e+00, 2.7183e+00, 7.3891e+00, 2.0086e+01, 5.4598e+01, 1.4841e+02,\n",
            "        4.0343e+02, 1.0966e+03, 2.9810e+03, 8.1031e+03])\n"
          ]
        }
      ],
      "source": [
        "print(f\"Reshape:\\n{a.reshape(-1, 1)}\\nshape: {a.reshape(-1, 1).size()}\")\n",
        "c = a.reshape(-1, 1).repeat(1, 5)\n",
        "print(f\"Повторения:\\n{c}\\nshape: {c.size()}\")\n",
        "print(f\"Транспонирование:\\n{c.T}\\nshape: {c.T.size()}\")\n",
        "print(f\"Уникальные элементы: {torch.unique(c)}\")"
      ]
    },
    {
      "cell_type": "markdown",
      "metadata": {
        "id": "mrI9Y6-klrdd"
      },
      "source": [
        "### 2.6 Индексирование"
      ]
    },
    {
      "cell_type": "code",
      "execution_count": null,
      "metadata": {
        "colab": {
          "base_uri": "https://localhost:8080/"
        },
        "id": "gWKhVxkulrdd",
        "outputId": "eafbd19a-4c03-43ff-d401-e8cca0d4f3c9"
      },
      "outputs": [
        {
          "name": "stdout",
          "output_type": "stream",
          "text": [
            "Array:\n",
            "tensor([[ 0,  1,  2,  3,  4,  5,  6,  7,  8,  9],\n",
            "        [10, 11, 12, 13, 14, 15, 16, 17, 18, 19],\n",
            "        [20, 21, 22, 23, 24, 25, 26, 27, 28, 29],\n",
            "        [30, 31, 32, 33, 34, 35, 36, 37, 38, 39],\n",
            "        [40, 41, 42, 43, 44, 45, 46, 47, 48, 49],\n",
            "        [50, 51, 52, 53, 54, 55, 56, 57, 58, 59],\n",
            "        [60, 61, 62, 63, 64, 65, 66, 67, 68, 69],\n",
            "        [70, 71, 72, 73, 74, 75, 76, 77, 78, 79],\n",
            "        [80, 81, 82, 83, 84, 85, 86, 87, 88, 89],\n",
            "        [90, 91, 92, 93, 94, 95, 96, 97, 98, 99]])\n",
            "shape: torch.Size([10, 10])\n",
            "Get first column: tensor([ 0, 10, 20, 30, 40, 50, 60, 70, 80, 90])\n",
            "Get last row: tensor([90, 91, 92, 93, 94, 95, 96, 97, 98, 99])\n",
            "Add new aхis:\n",
            "tensor([[[ 0,  1,  2,  3,  4,  5,  6,  7,  8,  9]],\n",
            "\n",
            "        [[10, 11, 12, 13, 14, 15, 16, 17, 18, 19]],\n",
            "\n",
            "        [[20, 21, 22, 23, 24, 25, 26, 27, 28, 29]],\n",
            "\n",
            "        [[30, 31, 32, 33, 34, 35, 36, 37, 38, 39]],\n",
            "\n",
            "        [[40, 41, 42, 43, 44, 45, 46, 47, 48, 49]],\n",
            "\n",
            "        [[50, 51, 52, 53, 54, 55, 56, 57, 58, 59]],\n",
            "\n",
            "        [[60, 61, 62, 63, 64, 65, 66, 67, 68, 69]],\n",
            "\n",
            "        [[70, 71, 72, 73, 74, 75, 76, 77, 78, 79]],\n",
            "\n",
            "        [[80, 81, 82, 83, 84, 85, 86, 87, 88, 89]],\n",
            "\n",
            "        [[90, 91, 92, 93, 94, 95, 96, 97, 98, 99]]])\n",
            "shape: torch.Size([10, 1, 10])\n",
            "Specific indexing:\n",
            "tensor([[47, 48, 49],\n",
            "        [57, 58, 59]])\n"
          ]
        }
      ],
      "source": [
        "a = torch.arange(100).reshape(10, 10)\n",
        "print(f\"Array:\\n{a}\\nshape: {a.size()}\")\n",
        "print(f\"Get first column: {a[:, 0]}\")\n",
        "print(f\"Get last row: {a[-1, :]}\")\n",
        "print(f\"Add new aхis:\\n{a[:, np.newaxis]}\\nshape: {a[:, np.newaxis].size()}\")\n",
        "print(f\"Specific indexing:\\n{a[4:6, 7:]}\")"
      ]
    },
    {
      "cell_type": "markdown",
      "metadata": {
        "id": "XxJ36RNblrde"
      },
      "source": [
        "### 2.7 Из numpy в pytorch и обратно"
      ]
    },
    {
      "cell_type": "code",
      "execution_count": null,
      "metadata": {
        "colab": {
          "base_uri": "https://localhost:8080/"
        },
        "id": "Von-vTQxlrdk",
        "outputId": "7da7d8bd-ba35-4615-9afa-f6beb5d4b735"
      },
      "outputs": [
        {
          "data": {
            "text/plain": [
              "array([[-0.4580188 , -0.01763274, -1.6720574 , -1.3136638 ],\n",
              "       [ 0.08219101, -2.4022725 ,  0.21433721,  1.5437778 ]],\n",
              "      dtype=float32)"
            ]
          },
          "execution_count": 116,
          "metadata": {},
          "output_type": "execute_result"
        }
      ],
      "source": [
        "a = torch.normal(mean=torch.zeros(2,4))\n",
        "a.numpy()"
      ]
    },
    {
      "cell_type": "code",
      "execution_count": null,
      "metadata": {
        "colab": {
          "base_uri": "https://localhost:8080/"
        },
        "id": "nQl1YKAVlrdl",
        "outputId": "fe44f910-1d17-4498-bac4-7f536bac8c00"
      },
      "outputs": [
        {
          "data": {
            "text/plain": [
              "tensor([[-0.7055, -0.6081,  0.0562,  1.7198],\n",
              "        [-0.0581, -0.4133,  1.0098, -1.1473]], dtype=torch.float64)"
            ]
          },
          "execution_count": 117,
          "metadata": {},
          "output_type": "execute_result"
        }
      ],
      "source": [
        "b = np.random.normal(size=(2, 4))\n",
        "torch.from_numpy(b)"
      ]
    },
    {
      "cell_type": "markdown",
      "metadata": {
        "id": "oB-V0qAFlrdm"
      },
      "source": [
        "### 2.8 CUDA"
      ]
    },
    {
      "cell_type": "markdown",
      "metadata": {
        "id": "TgH4-Qsklrdm"
      },
      "source": [
        "torch.cuda - это пакет для поддержки CUDA. Он поддерживает такую же функциональность как и CPU, но использует CUDA ядра для вычислений. С полным функционалом можно ознакомиться [здесь](https://pytorch.org/docs/stable/cuda.html?highlight=cuda#module-torch.cuda)"
      ]
    },
    {
      "cell_type": "code",
      "execution_count": null,
      "metadata": {
        "colab": {
          "base_uri": "https://localhost:8080/"
        },
        "id": "cKi3yXWzlrdn",
        "outputId": "876ba8aa-50dd-4734-cdc5-6a3295cf0e94"
      },
      "outputs": [
        {
          "name": "stdout",
          "output_type": "stream",
          "text": [
            "Поддерживается ли CUDA : True\n",
            "Количество гпу девайсов: 1\n",
            "Характеристики видеокарты : _CudaDeviceProperties(name='Tesla T4', major=7, minor=5, total_memory=15109MB, multi_processor_count=40)\n",
            "Удаляем всю незанятую память через torch.cuda.empty_cache()\n"
          ]
        }
      ],
      "source": [
        "print(f\"Поддерживается ли CUDA : {torch.cuda.is_available()}\")\n",
        "print(f'Количество гпу девайсов: {torch.cuda.device_count()}')\n",
        "print(f\"Характеристики видеокарты : {torch.cuda.get_device_properties(0)}\")\n",
        "print(f\"Удаляем всю незанятую память через torch.cuda.empty_cache()\")"
      ]
    },
    {
      "cell_type": "markdown",
      "metadata": {
        "id": "ZYuP3-cHlrdo"
      },
      "source": [
        "Давайте посмотрим на практике как работать с cuda. Допустим мы инициализуем два тензора:"
      ]
    },
    {
      "cell_type": "code",
      "execution_count": null,
      "metadata": {
        "colab": {
          "base_uri": "https://localhost:8080/"
        },
        "id": "tDl0l9wQlrdo",
        "outputId": "eb766248-18e1-4109-e7c6-6d2c5e934c0a"
      },
      "outputs": [
        {
          "name": "stdout",
          "output_type": "stream",
          "text": [
            "a:\n",
            "tensor([[ 0.1185,  0.6774,  1.0757, -0.3184],\n",
            "        [ 0.1783, -0.9923, -1.8046,  0.6644]])\n",
            "b:\n",
            "tensor([[ 1.3186,  0.9139,  1.2867,  0.0512],\n",
            "        [-0.1039, -2.3579,  3.0349,  1.1780]])\n"
          ]
        }
      ],
      "source": [
        "a = torch.normal(mean=torch.zeros(2, 4))\n",
        "b = torch.normal(mean=torch.zeros(2, 4))\n",
        "print(f\"a:\\n{a}\\nb:\\n{b}\")"
      ]
    },
    {
      "cell_type": "markdown",
      "metadata": {
        "id": "i1K9I_VKlrdp"
      },
      "source": [
        "Наши тензоры автоматом загружены в память cpu. Но мы легко можем перевести их на cpu таким способом:"
      ]
    },
    {
      "cell_type": "code",
      "execution_count": null,
      "metadata": {
        "colab": {
          "base_uri": "https://localhost:8080/"
        },
        "id": "lDb6ruPvlrdq",
        "outputId": "09e7b323-adfa-4b24-dcfc-d157dbd5151b"
      },
      "outputs": [
        {
          "data": {
            "text/plain": [
              "tensor([[ 0.1185,  0.6774,  1.0757, -0.3184],\n",
              "        [ 0.1783, -0.9923, -1.8046,  0.6644]], device='cuda:0')"
            ]
          },
          "execution_count": 120,
          "metadata": {},
          "output_type": "execute_result"
        }
      ],
      "source": [
        "a = a.cuda()\n",
        "a"
      ]
    },
    {
      "cell_type": "markdown",
      "metadata": {
        "id": "Ha5DoFO5lrdq"
      },
      "source": [
        "Теперь, если мы попробуем сложить эти два тензора, то у нас вылезет ошибка, т.к. один тензор на cpu, а другой на cuda:"
      ]
    },
    {
      "cell_type": "code",
      "execution_count": null,
      "metadata": {
        "colab": {
          "base_uri": "https://localhost:8080/",
          "height": 165
        },
        "id": "UGwUNC2xlrdw",
        "outputId": "6cb63eac-ca16-4230-9e7d-17558ba83682"
      },
      "outputs": [
        {
          "ename": "RuntimeError",
          "evalue": "ignored",
          "output_type": "error",
          "traceback": [
            "\u001b[0;31m---------------------------------------------------------------------------\u001b[0m",
            "\u001b[0;31mRuntimeError\u001b[0m                              Traceback (most recent call last)",
            "\u001b[0;32m<ipython-input-121-bd58363a63fc>\u001b[0m in \u001b[0;36m<module>\u001b[0;34m()\u001b[0m\n\u001b[0;32m----> 1\u001b[0;31m \u001b[0ma\u001b[0m \u001b[0;34m+\u001b[0m \u001b[0mb\u001b[0m\u001b[0;34m\u001b[0m\u001b[0;34m\u001b[0m\u001b[0m\n\u001b[0m",
            "\u001b[0;31mRuntimeError\u001b[0m: Expected all tensors to be on the same device, but found at least two devices, cuda:0 and cpu!"
          ]
        }
      ],
      "source": [
        "a + b"
      ]
    },
    {
      "cell_type": "markdown",
      "metadata": {
        "id": "Hc627l3ulrdw"
      },
      "source": [
        "Мы не можем производить никакие операции с тензорами, находящимеся на разных устройствах. Что бы сложить их нам нужно оба тензора перевести на одно устройство:"
      ]
    },
    {
      "cell_type": "code",
      "execution_count": null,
      "metadata": {
        "colab": {
          "base_uri": "https://localhost:8080/"
        },
        "id": "Xv7Vbf0glrdx",
        "outputId": "ca2b4290-f999-41d3-bdcd-dad4af2a95e5"
      },
      "outputs": [
        {
          "data": {
            "text/plain": [
              "tensor([[ 1.4371,  1.5914,  2.3623, -0.2672],\n",
              "        [ 0.0744, -3.3502,  1.2303,  1.8425]], device='cuda:0')"
            ]
          },
          "execution_count": 122,
          "metadata": {},
          "output_type": "execute_result"
        }
      ],
      "source": [
        "a + b.cuda()"
      ]
    },
    {
      "cell_type": "code",
      "execution_count": null,
      "metadata": {
        "colab": {
          "base_uri": "https://localhost:8080/"
        },
        "id": "X-WcdeyTlrdx",
        "outputId": "152f126d-8f0f-4968-8a83-a690f80e94d4"
      },
      "outputs": [
        {
          "data": {
            "text/plain": [
              "tensor([[ 1.4371,  1.5914,  2.3623, -0.2672],\n",
              "        [ 0.0744, -3.3502,  1.2303,  1.8425]])"
            ]
          },
          "execution_count": 123,
          "metadata": {},
          "output_type": "execute_result"
        }
      ],
      "source": [
        "a.cpu() + b"
      ]
    },
    {
      "cell_type": "code",
      "execution_count": null,
      "metadata": {
        "colab": {
          "base_uri": "https://localhost:8080/"
        },
        "id": "gmcJ4-dYlrdz",
        "outputId": "80081a8c-2dd0-48ab-f6eb-6c0ef04c66cd"
      },
      "outputs": [
        {
          "data": {
            "text/plain": [
              "tensor([[ 1.4371,  1.5914,  2.3623, -0.2672],\n",
              "        [ 0.0744, -3.3502,  1.2303,  1.8425]])"
            ]
          },
          "execution_count": 124,
          "metadata": {},
          "output_type": "execute_result"
        }
      ],
      "source": [
        "(a + b.cuda()).cpu()"
      ]
    },
    {
      "cell_type": "markdown",
      "metadata": {
        "id": "MBhzRlf5lrdz"
      },
      "source": [
        "Так же мы можем задать следующее определение устройства. Если  есть куда, то выбираем куду. В ином случае - цпу:"
      ]
    },
    {
      "cell_type": "code",
      "execution_count": null,
      "metadata": {
        "colab": {
          "base_uri": "https://localhost:8080/"
        },
        "id": "6_7usJoelrd0",
        "outputId": "a9a0a044-c113-4e13-d932-5a110b8b6226"
      },
      "outputs": [
        {
          "name": "stdout",
          "output_type": "stream",
          "text": [
            "cuda:0\n"
          ]
        }
      ],
      "source": [
        "device = torch.device(\"cuda:0\" if torch.cuda.is_available() else \"cpu\")\n",
        "print(device)"
      ]
    },
    {
      "cell_type": "markdown",
      "metadata": {
        "id": "q4RrmCBTlrd0"
      },
      "source": [
        "У каждого тензора есть поле device, которое по умолчанию стоит cpu. Но мы можем менять его при инициализации или в процессе использования:"
      ]
    },
    {
      "cell_type": "code",
      "execution_count": null,
      "metadata": {
        "colab": {
          "base_uri": "https://localhost:8080/"
        },
        "id": "Tf4O-Jbzlrd7",
        "outputId": "72cd29c0-d07b-478d-eeb6-db53dc22315a"
      },
      "outputs": [
        {
          "data": {
            "text/plain": [
              "tensor([[ 0.3322, -0.3394,  0.6822,  0.3715,  0.2530,  0.5813,  2.2856, -0.2531,\n",
              "         -0.1968, -1.7903],\n",
              "        [ 0.1846, -1.4816, -0.6010, -0.7448, -1.9549, -0.0757,  0.3170,  0.3279,\n",
              "          0.9821,  0.4944],\n",
              "        [ 0.4361, -1.3449,  0.0906, -2.2314,  0.5293,  0.3837, -0.0045,  0.2402,\n",
              "          2.2258,  2.0137],\n",
              "        [ 0.5028, -0.4559, -1.0664, -0.1074,  0.6989, -0.7104, -0.3153,  0.3077,\n",
              "          1.1502, -0.1213],\n",
              "        [ 0.0412, -0.4343,  1.6147,  1.2451,  0.1146,  0.0271, -0.3601, -1.5845,\n",
              "         -2.3845,  0.9405],\n",
              "        [ 0.5072,  0.2869, -0.5285, -1.9751, -1.2582,  0.2870,  0.4971,  0.4736,\n",
              "         -0.7730, -0.1778],\n",
              "        [-0.1296, -0.6201,  0.4579,  0.6147,  1.3045,  0.3488,  0.5498, -0.0548,\n",
              "         -0.0496,  1.2089],\n",
              "        [-0.6294,  0.5445,  2.6645, -2.2474, -0.0976,  0.8121,  1.2383, -1.8126,\n",
              "          0.3003, -0.5737],\n",
              "        [ 0.0371,  0.2153,  0.6472, -0.9082, -1.5007,  0.0333,  1.6856,  0.7985,\n",
              "         -0.0678, -1.2674],\n",
              "        [-0.3168,  0.3005,  0.1466,  1.2656,  0.9063, -0.7132,  0.1153,  0.8879,\n",
              "          1.7916,  0.8331]], device='cuda:0')"
            ]
          },
          "execution_count": 126,
          "metadata": {},
          "output_type": "execute_result"
        }
      ],
      "source": [
        "torch.randn(10, 10, device=device)"
      ]
    },
    {
      "cell_type": "code",
      "execution_count": null,
      "metadata": {
        "colab": {
          "base_uri": "https://localhost:8080/"
        },
        "id": "PQwfJX44lrd8",
        "outputId": "f2136b47-4783-407d-d0c8-9a2f27d04e12"
      },
      "outputs": [
        {
          "name": "stdout",
          "output_type": "stream",
          "text": [
            "tensor([2, 3])\n"
          ]
        }
      ],
      "source": [
        "a = torch.tensor((2 ,3))\n",
        "print(a)"
      ]
    },
    {
      "cell_type": "markdown",
      "metadata": {
        "id": "LtemnxcGlrd9"
      },
      "source": [
        "Переместить можно не только a.cuda(), но и так:"
      ]
    },
    {
      "cell_type": "code",
      "execution_count": null,
      "metadata": {
        "colab": {
          "base_uri": "https://localhost:8080/"
        },
        "id": "TrYYeQ2Ylrd9",
        "outputId": "b540ec1e-46cc-43da-fad6-486131df4880"
      },
      "outputs": [
        {
          "data": {
            "text/plain": [
              "tensor([2, 3], device='cuda:0')"
            ]
          },
          "execution_count": 128,
          "metadata": {},
          "output_type": "execute_result"
        }
      ],
      "source": [
        "a.to(device)"
      ]
    },
    {
      "cell_type": "markdown",
      "metadata": {
        "id": "QJfvB_s_lrd-"
      },
      "source": [
        "Но следует запомнить что .cuda() immutable функция. Т.е. она возвращает новый тензор, а не перезаписывает существующий a:"
      ]
    },
    {
      "cell_type": "code",
      "execution_count": null,
      "metadata": {
        "colab": {
          "background_save": true,
          "base_uri": "https://localhost:8080/"
        },
        "id": "DHVkYlxWlrd-",
        "outputId": "f9a07c2b-84cc-498a-eeb3-4fe814d4b0e2"
      },
      "outputs": [
        {
          "data": {
            "text/plain": [
              "tensor([2, 3])"
            ]
          },
          "execution_count": null,
          "metadata": {},
          "output_type": "execute_result"
        }
      ],
      "source": [
        "a"
      ]
    },
    {
      "cell_type": "markdown",
      "metadata": {
        "id": "1r-u4QZ3lrd_"
      },
      "source": [
        "Как видим наш тензор a все на том же cpu. Что бы интерпретатор запомнил что a у нас на куде необходимо присвоить значение выражение в тензор:"
      ]
    },
    {
      "cell_type": "code",
      "execution_count": null,
      "metadata": {
        "id": "8PZP4VMqlrd_"
      },
      "outputs": [],
      "source": [
        "a = a.cuda()"
      ]
    },
    {
      "cell_type": "code",
      "execution_count": null,
      "metadata": {
        "colab": {
          "base_uri": "https://localhost:8080/"
        },
        "id": "jSnuqWi4lreA",
        "outputId": "ded8133f-0198-4321-b469-c438f0cfb72c"
      },
      "outputs": [
        {
          "data": {
            "text/plain": [
              "tensor([2, 3], device='cuda:0')"
            ]
          },
          "execution_count": 44,
          "metadata": {},
          "output_type": "execute_result"
        }
      ],
      "source": [
        "a"
      ]
    },
    {
      "cell_type": "markdown",
      "metadata": {
        "id": "KiV-LOESlreG"
      },
      "source": [
        "Проверяем, находится ли сейчас тензор на куде:"
      ]
    },
    {
      "cell_type": "code",
      "execution_count": null,
      "metadata": {
        "colab": {
          "base_uri": "https://localhost:8080/"
        },
        "id": "6w2LyZpklreH",
        "outputId": "7a11b58c-deb5-4a48-b207-5bdf10b01c9a"
      },
      "outputs": [
        {
          "data": {
            "text/plain": [
              "True"
            ]
          },
          "execution_count": 45,
          "metadata": {},
          "output_type": "execute_result"
        }
      ],
      "source": [
        "a.is_cuda"
      ]
    },
    {
      "cell_type": "markdown",
      "metadata": {
        "id": "cN3pziw3r0kf"
      },
      "source": [
        "# 3. Вычислительный граф и Автоматическое диференцирование\n"
      ]
    },
    {
      "cell_type": "markdown",
      "metadata": {
        "id": "wYIltf84lreJ"
      },
      "source": [
        "\n",
        "### 3.1 Вычислительный граф\n",
        "\n",
        "Вычислительный граф — это иллюстрированная запись какой-либо функции, состоящая из вершин и рёбер. Вершины (или узлы) — вычислительные операции, которые необходимо выполнить, а рёбра связывают их в определённую последовательность.\n",
        "\n",
        "Автоматическое дифференцирование - строительный блок не только в Pytorch, но и в каждой другой DL библиотеке. Движок автоматического дифференцирования в Pytorch называет [Autograd](https://pytorch.org/docs/stable/autograd.html). \n",
        "\n",
        "Современные архитектуры нейронных сетей могут иметь миллионы обучающихся параметров. С вычислительной точки зрения тренировка сети состоит из двух фаз:\n",
        "\n",
        "1) Прямой проход для вычисления значения функции потерь.  \n",
        "2) Обратный проход для вычисления градиентов обучаемых параметров.\n",
        "\n",
        "Прямой проход весьма прямолинеен: выход одного слоя является входом другого.\n",
        "Обратный проход немного сложнее, поскольку он требует от нас использования цепного правила для вычисления градиентов весов относительно функции потерь."
      ]
    },
    {
      "cell_type": "markdown",
      "metadata": {
        "id": "PTUPg57vAhg6"
      },
      "source": [
        "Ниже представлен простой пример вычислительного графа для вычисления выражения $\\sigma(x*w_1 + w_0)$. Можно разбить вычисление на следующие шаги:"
      ]
    },
    {
      "cell_type": "markdown",
      "metadata": {
        "id": "7DEEdtooAhg6"
      },
      "source": [
        "<img src='https://drive.google.com/uc?export=view&id=1jCTO6zBGyE8sYkkSv_6NENdFOiwuJCMC' width=600>"
      ]
    },
    {
      "cell_type": "markdown",
      "metadata": {
        "id": "TJMGxYF6Ahg7"
      },
      "source": [
        "Преимущества использования вычислительного графа в том, что каждый узел является независимым функционирующим куском кода, если получит все необходимые входные данные. Это позволяет  оптимизировать производительность при выполнении расчетов, используя многоканальную обработку, параллельные вычисления."
      ]
    },
    {
      "cell_type": "markdown",
      "metadata": {
        "id": "5gbHTyn5lreo"
      },
      "source": [
        "### 3.2 PyTorch Autograd"
      ]
    },
    {
      "cell_type": "markdown",
      "metadata": {
        "id": "JZHQDshMlreo"
      },
      "source": [
        "Теперь, когда мы понимаем, что такое вычислительный граф, вернемся к PyTorch и разберемся, как это реализовано в PyTorch."
      ]
    },
    {
      "cell_type": "markdown",
      "metadata": {
        "id": "0415zzOllrep"
      },
      "source": [
        "#### 3.2.1 Tензоры и requires_grad"
      ]
    },
    {
      "cell_type": "markdown",
      "metadata": {
        "id": "bUUpc9TGlrep"
      },
      "source": [
        "Как мы видели выше, тензор - это структура данных, которая является фундаментальным строительным блоком PyTorch и они во многом похожи на массивы numpy, за исключением того, что в отличие от numpy, тензоры предназначены для использования преимуществ параллельных вычислений графического процессора(GPU)."
      ]
    },
    {
      "cell_type": "code",
      "execution_count": null,
      "metadata": {
        "colab": {
          "base_uri": "https://localhost:8080/"
        },
        "id": "rnhj6vjolreq",
        "outputId": "f08c0305-26ff-4f8b-a6d3-67fd5f06ca02"
      },
      "outputs": [
        {
          "data": {
            "text/plain": [
              "tensor([[-1.0754e-07,  0.0000e+00,  4.2039e-45,  0.0000e+00,         nan],\n",
              "        [ 1.4013e-43,  4.4721e+21,  1.5956e+25,  4.7399e+16,  3.7987e-39],\n",
              "        [ 1.4153e-43,  5.7453e-44, -2.5841e-11,  0.0000e+00, -2.5842e-11]])"
            ]
          },
          "execution_count": 46,
          "metadata": {},
          "output_type": "execute_result"
        }
      ],
      "source": [
        "import torch\n",
        "tsr = torch.Tensor(3,5)\n",
        "tsr"
      ]
    },
    {
      "cell_type": "markdown",
      "metadata": {
        "id": "PAM31O5ylrer"
      },
      "source": [
        "Вот он Tensor похожий на numpy ndarray. Структура данных, которая позволяет быстро выполнять операции линейной алгебры. Что бы сделать тензор обучающимся и мы бы смогли вычислить его градиент, необходимо поставить его параметр requires_grad в значение True."
      ]
    },
    {
      "cell_type": "markdown",
      "metadata": {
        "id": "WQX1h7uvlrer"
      },
      "source": [
        "requires_grad можно менять как при инициализации тензора, так и после:"
      ]
    },
    {
      "cell_type": "code",
      "execution_count": null,
      "metadata": {
        "colab": {
          "base_uri": "https://localhost:8080/"
        },
        "id": "NjB1sRIMlrex",
        "outputId": "78d65ae7-0889-43b0-a339-0b5cc6dc6d15"
      },
      "outputs": [
        {
          "name": "stdout",
          "output_type": "stream",
          "text": [
            "True\n",
            "False\n"
          ]
        }
      ],
      "source": [
        "t1 = torch.randn((3, 3), requires_grad=True)\n",
        "print(t1.requires_grad)\n",
        "t2 = torch.FloatTensor(3, 3)\n",
        "print(t2.requires_grad)"
      ]
    },
    {
      "cell_type": "code",
      "execution_count": null,
      "metadata": {
        "colab": {
          "base_uri": "https://localhost:8080/"
        },
        "id": "PJkO2Yuolrey",
        "outputId": "ce585bd3-fd2b-4a63-d253-f9c3274cca4b"
      },
      "outputs": [
        {
          "name": "stdout",
          "output_type": "stream",
          "text": [
            "True\n"
          ]
        }
      ],
      "source": [
        "t2.requires_grad = True\n",
        "print(t2.requires_grad)"
      ]
    },
    {
      "cell_type": "markdown",
      "metadata": {
        "id": "zzX5Atkmlrez"
      },
      "source": [
        "requires_grad заразителен. Это означает, что когда тензор создается с помощью других тензоров, для параметра requires_grad результирующего тензора будет установлено значение True, если хотя бы один из тензоров, используемых для создания, имеет для параметра requires_grad значение True."
      ]
    },
    {
      "cell_type": "markdown",
      "metadata": {
        "id": "heK4cN4iq8Kp"
      },
      "source": [
        "*__Вопрос__: в каких ситуациях нам не нужен градиент для переменных?*\n"
      ]
    },
    {
      "cell_type": "code",
      "execution_count": null,
      "metadata": {
        "colab": {
          "base_uri": "https://localhost:8080/"
        },
        "id": "lZ6G8eOqAhhU",
        "outputId": "66047dbb-c4ee-43b5-d0c6-846fcae418b3"
      },
      "outputs": [
        {
          "data": {
            "text/plain": [
              "tensor([1., 1., 1.], requires_grad=True)"
            ]
          },
          "execution_count": 49,
          "metadata": {},
          "output_type": "execute_result"
        }
      ],
      "source": [
        "x = torch.ones(3, requires_grad=True)\n",
        "x"
      ]
    },
    {
      "cell_type": "markdown",
      "metadata": {
        "id": "u_aXcleXAhhU"
      },
      "source": [
        "В x у нас хранится информация о градиенте. Мы можем получить ее через метод grad:"
      ]
    },
    {
      "cell_type": "code",
      "execution_count": null,
      "metadata": {
        "id": "ft_gExlZAhhV"
      },
      "outputs": [],
      "source": [
        "x.grad"
      ]
    },
    {
      "cell_type": "markdown",
      "metadata": {
        "id": "go7WnPwfAhhV"
      },
      "source": [
        "В данном случае ничего нет, т.к. мы никаких действий с нашим тензором не производили."
      ]
    },
    {
      "cell_type": "markdown",
      "metadata": {
        "id": "G50J9jHEAhhV"
      },
      "source": [
        "Создадим переменную на основе x:"
      ]
    },
    {
      "cell_type": "code",
      "execution_count": null,
      "metadata": {
        "id": "nIqgi87CAhhW"
      },
      "outputs": [],
      "source": [
        "z = (x ** 2) + 5.0 * x  # задание - посчитать производную руками"
      ]
    },
    {
      "cell_type": "code",
      "execution_count": null,
      "metadata": {
        "colab": {
          "base_uri": "https://localhost:8080/"
        },
        "id": "cCl_FwTTAhhW",
        "outputId": "0b396cb3-2dc3-49b8-8c54-ab02d2a665b5"
      },
      "outputs": [
        {
          "data": {
            "text/plain": [
              "tensor([6., 6., 6.], grad_fn=<AddBackward0>)"
            ]
          },
          "execution_count": 52,
          "metadata": {},
          "output_type": "execute_result"
        }
      ],
      "source": [
        "z"
      ]
    },
    {
      "cell_type": "markdown",
      "metadata": {
        "id": "zwpCO-5hAhhW"
      },
      "source": [
        "Мы вызываем метод backward и передаем ей единичный тензор:"
      ]
    },
    {
      "cell_type": "code",
      "execution_count": null,
      "metadata": {
        "id": "U2RngNdNAhhX"
      },
      "outputs": [],
      "source": [
        "z.backward(x)"
      ]
    },
    {
      "cell_type": "markdown",
      "metadata": {
        "id": "GMNtkwy6AhhX"
      },
      "source": [
        "И тогда, когда мы выполнили эту функцию - мы вызываем градиент и мы получаем три 7ки:"
      ]
    },
    {
      "cell_type": "code",
      "execution_count": null,
      "metadata": {
        "colab": {
          "base_uri": "https://localhost:8080/"
        },
        "id": "DXcfyu2FAhhX",
        "outputId": "3c58b3e7-4c48-4919-86c4-d32910c8e166"
      },
      "outputs": [
        {
          "data": {
            "text/plain": [
              "tensor([7., 7., 7.])"
            ]
          },
          "execution_count": 54,
          "metadata": {},
          "output_type": "execute_result"
        }
      ],
      "source": [
        "x.grad"
      ]
    },
    {
      "cell_type": "markdown",
      "metadata": {
        "id": "t8e4hHAybGqo"
      },
      "source": [
        "<img src='https://drive.google.com/uc?export=view&id=1jCTO6zBGyE8sYkkSv_6NENdFOiwuJCMC' width=600>"
      ]
    },
    {
      "cell_type": "code",
      "execution_count": null,
      "metadata": {
        "colab": {
          "base_uri": "https://localhost:8080/"
        },
        "id": "BFUmKCyCbGqx",
        "outputId": "2a7c4cbc-7bce-4e4a-830e-9e5914aeb8d3"
      },
      "outputs": [
        {
          "name": "stderr",
          "output_type": "stream",
          "text": [
            "/usr/local/lib/python3.7/dist-packages/torch/nn/functional.py:1944: UserWarning: nn.functional.sigmoid is deprecated. Use torch.sigmoid instead.\n",
            "  warnings.warn(\"nn.functional.sigmoid is deprecated. Use torch.sigmoid instead.\")\n"
          ]
        },
        {
          "data": {
            "text/plain": [
              "tensor(0.0590, grad_fn=<MseLossBackward0>)"
            ]
          },
          "execution_count": 60,
          "metadata": {},
          "output_type": "execute_result"
        }
      ],
      "source": [
        "x = torch.FloatTensor([1])\n",
        "w1 = torch.tensor([0.417], requires_grad=True)\n",
        "w0 = torch.tensor([0.72], requires_grad=True)\n",
        "\n",
        "a = x * w1\n",
        "b = a + w0\n",
        "\n",
        "sigma = torch.nn.functional.sigmoid(b)\n",
        "mse = torch.nn.functional.mse_loss(sigma, x)\n",
        "mse"
      ]
    },
    {
      "cell_type": "code",
      "execution_count": null,
      "metadata": {
        "id": "Co67-_HqbGq0"
      },
      "outputs": [],
      "source": [
        "mse.backward()"
      ]
    },
    {
      "cell_type": "code",
      "execution_count": null,
      "metadata": {
        "colab": {
          "base_uri": "https://localhost:8080/"
        },
        "id": "bYWTMpiEbGq1",
        "outputId": "af941c2c-97a5-4305-8407-2f58fe97eade"
      },
      "outputs": [
        {
          "data": {
            "text/plain": [
              "(tensor([-0.0893]), tensor([-0.0893]))"
            ]
          },
          "execution_count": 62,
          "metadata": {},
          "output_type": "execute_result"
        }
      ],
      "source": [
        "w1.grad, w0.grad"
      ]
    },
    {
      "cell_type": "markdown",
      "metadata": {
        "id": "jXn6KlzWlre0"
      },
      "source": [
        "У каждого тензора есть атрибут grad_fn, который отсылается к функции (математическому оператору), создающему переменную. \n",
        "\n",
        "grad_fn будет равен None, если нет зависимых функций, к примеру, переменная `а`\n",
        "ни от чего не зависит, нет ни какой функции, из которой бы получилась переменная а, а значит и grad_fn=None"
      ]
    },
    {
      "cell_type": "code",
      "execution_count": null,
      "metadata": {
        "colab": {
          "base_uri": "https://localhost:8080/"
        },
        "id": "rGsqOfzQlre_",
        "outputId": "c2ae7544-a455-4388-8c86-ed86cfa0f5bd"
      },
      "outputs": [
        {
          "name": "stdout",
          "output_type": "stream",
          "text": [
            "The grad fn for a is None\n",
            "The grad fn for d is <AddBackward0 object at 0x7fb65782a110>\n"
          ]
        }
      ],
      "source": [
        "a = torch.randn((3,3), requires_grad=True)\n",
        "\n",
        "w1 = torch.randn((3,3), requires_grad=True)\n",
        "w2 = torch.randn((3,3), requires_grad=True)\n",
        "w3 = torch.randn((3,3), requires_grad=True)\n",
        "w4 = torch.randn((3,3), requires_grad=True)\n",
        "\n",
        "b = w1 * a\n",
        "c = w2 * a\n",
        "\n",
        "d = w3 * b + w4 * c\n",
        "\n",
        "L = 10 - d\n",
        "\n",
        "print(\"The grad fn for a is\", a.grad_fn)\n",
        "print(\"The grad fn for d is\", d.grad_fn)"
      ]
    },
    {
      "cell_type": "markdown",
      "metadata": {
        "id": "IhIb7fzAlrfA"
      },
      "source": [
        "Можно использовать функцию-член is_leaf, чтобы определить, является ли переменная листовым тензором или нет. Листовые тензоры - это тензоры, которые мы подаем в нашу систему вычислений. В нашем случае это а:"
      ]
    },
    {
      "cell_type": "code",
      "execution_count": null,
      "metadata": {
        "colab": {
          "base_uri": "https://localhost:8080/"
        },
        "id": "j5QIyVGOlrfB",
        "outputId": "161b5a67-7e6e-4a8e-aa37-bf6d0b9c524e"
      },
      "outputs": [
        {
          "data": {
            "text/plain": [
              "(True, True)"
            ]
          },
          "execution_count": 64,
          "metadata": {},
          "output_type": "execute_result"
        }
      ],
      "source": [
        "a.is_leaf, w1.is_leaf"
      ]
    },
    {
      "cell_type": "code",
      "execution_count": null,
      "metadata": {
        "colab": {
          "base_uri": "https://localhost:8080/"
        },
        "id": "RnZelZ9KlrfC",
        "outputId": "a4cdf323-d60c-4683-8fef-16311d07c66a"
      },
      "outputs": [
        {
          "data": {
            "text/plain": [
              "False"
            ]
          },
          "execution_count": 65,
          "metadata": {},
          "output_type": "execute_result"
        }
      ],
      "source": [
        "L.is_leaf"
      ]
    },
    {
      "cell_type": "markdown",
      "metadata": {
        "id": "AMm2QuehlrfD"
      },
      "source": [
        "#### 3.2.2 Function"
      ]
    },
    {
      "cell_type": "markdown",
      "metadata": {
        "id": "pSs52A0rlrfD"
      },
      "source": [
        "Все математические операции в PyTorch реализуются классом [torch.nn.Autograd.Function](https://pytorch.org/docs/stable/autograd.html#function). У этого класса есть две важные функции-члены, на которые нам нужно обратить внимание.\n",
        "\n",
        "Во-первых, это forward функция, которая просто вычисляет выходные данные, используя входные данные.\n",
        "\n",
        "Функция backward принимает входящий градиент, исходящий от части сети перед ней. Как вы можете видеть, градиент, который должен распространяться в обратном направлении от функции f, - это, по сути, градиент, который передается обратно в f от слоев перед ним, умноженный на локальный градиент выходных данных f по отношению к его входам. Именно это и делает обратная функция.\n"
      ]
    },
    {
      "cell_type": "markdown",
      "metadata": {
        "id": "GMXS85bmlrfG"
      },
      "source": [
        "Алгоритмически, вот как происходит обратное распространение с графом вычислений. (Не фактическая реализация, только пример):"
      ]
    },
    {
      "cell_type": "markdown",
      "metadata": {
        "id": "MNm3GMI-lrfG"
      },
      "source": [
        "```\n",
        "\n",
        "def backward(incoming_gradients):\n",
        "    self.Tensor.grad = incoming_gradients\n",
        "\n",
        "    for inp in self.inputs:\n",
        "        if inp.grad_fn is not None:\n",
        "            new_incoming_gradients = incoming_gradient * local_grad(self.Tensor, inp)\n",
        "\n",
        "            inp.grad_fn.backward(new_incoming_gradients)\n",
        "        else:\n",
        "            pass\n",
        "\n",
        "\n",
        "```\n",
        "\n"
      ]
    },
    {
      "cell_type": "markdown",
      "metadata": {
        "id": "0EtJtoVblrfG"
      },
      "source": [
        "Здесь self.Tensor - это, тензор, созданный Autograd.Function, который использовался в нашем примере.\n",
        "\n",
        "Входящие градиенты и локальные градиенты были описаны выше."
      ]
    },
    {
      "cell_type": "markdown",
      "metadata": {
        "id": "DLVqseSWlrfH"
      },
      "source": [
        "----"
      ]
    },
    {
      "cell_type": "markdown",
      "metadata": {
        "id": "2EJewzsLlrfJ"
      },
      "source": [
        "Чтобы вычислить производные в нашей нейронной сети, мы обычно обращаемся к тензору, представляющему нашу потерю. Затем мы возвращаемся по графику, начиная с узла, представляющего grad_fn наших потерь.\n",
        "\n",
        "Как описано выше, обратная функция рекурсивно вызывается по графику, когда мы возвращаемся. Однажды мы достигаем листового узла, поскольку grad_fn равен None, но прекращаем возвращение по этому пути.\n",
        "\n",
        "Здесь следует отметить, что PyTorch выдает ошибку, если вы вызываете backward () для векторного тензора. Это означает, что вы можете выполнять обратный вызов только для тензорного скалярного значения. В нашем примере, если мы предположим, что a - тензор с векторным значением, и обратимся к L, он выдаст ошибку."
      ]
    },
    {
      "cell_type": "code",
      "execution_count": null,
      "metadata": {
        "id": "OHnXE1tDlrfJ"
      },
      "outputs": [],
      "source": [
        "import torch \n",
        "\n",
        "a = torch.randn((3,3), requires_grad=True)\n",
        "\n",
        "w1 = torch.randn((3,3), requires_grad=True)\n",
        "w2 = torch.randn((3,3), requires_grad=True)\n",
        "w3 = torch.randn((3,3), requires_grad=True)\n",
        "w4 = torch.randn((3,3), requires_grad=True)\n",
        "\n",
        "b = w1 * a \n",
        "c = w2 * a\n",
        "\n",
        "d = w3 * b + w4 * c \n",
        "\n",
        "L = (10 - d)\n",
        "print(L)\n",
        "\n",
        "L.backward()"
      ]
    },
    {
      "cell_type": "markdown",
      "metadata": {
        "id": "bd_gEROTlrfK"
      },
      "source": [
        "Это потому, что градиенты могут быть вычислены относительно скалярных значений по определению. Вы не можете точно отличить вектор от другого вектора."
      ]
    },
    {
      "cell_type": "markdown",
      "metadata": {
        "id": "ETgNADiolrfL"
      },
      "source": [
        "Если вы просто сделаете небольшое изменение в приведенном выше коде, установив L как сумму всех ошибок, наша проблема будет решена."
      ]
    },
    {
      "cell_type": "code",
      "execution_count": null,
      "metadata": {
        "colab": {
          "base_uri": "https://localhost:8080/"
        },
        "id": "SUdyzF2WlrfL",
        "outputId": "050a0b2a-6674-4b69-8f56-e92aa4f0567a"
      },
      "outputs": [
        {
          "name": "stdout",
          "output_type": "stream",
          "text": [
            "tensor(90.8017, grad_fn=<SumBackward0>)\n"
          ]
        }
      ],
      "source": [
        "import torch \n",
        "\n",
        "a = torch.randn((3,3), requires_grad=True)\n",
        "\n",
        "w1 = torch.randn((3,3), requires_grad=True)\n",
        "w2 = torch.randn((3,3), requires_grad=True)\n",
        "w3 = torch.randn((3,3), requires_grad=True)\n",
        "w4 = torch.randn((3,3), requires_grad=True)\n",
        "\n",
        "b = w1 * a \n",
        "c = w2 * a\n",
        "\n",
        "d = w3 * b + w4 * c \n",
        "\n",
        "# Replace L = (10 - d) by \n",
        "L = (10 - d).sum()\n",
        "print(L)\n",
        "\n",
        "L.backward()"
      ]
    },
    {
      "cell_type": "markdown",
      "metadata": {
        "id": "TUVG6dtolrfN"
      },
      "source": [
        "Как только это будет сделано, вы можете получить доступ к градиентам, вызвав атрибут grad в Tensor."
      ]
    },
    {
      "cell_type": "markdown",
      "metadata": {
        "id": "geQBtfx6lrfQ"
      },
      "source": [
        "#### 3.2.3 Некоторые хитрости"
      ]
    },
    {
      "cell_type": "markdown",
      "metadata": {
        "id": "WPyuy1PxlrfR"
      },
      "source": [
        "1) requires_grad"
      ]
    },
    {
      "cell_type": "markdown",
      "metadata": {
        "id": "-adpm4BrlrfR"
      },
      "source": [
        "Это атрибут класса Tensor. По умолчанию это False. Это удобно, когда вам нужно заморозить некоторые слои и запретить им обновлять параметры во время тренировки. Вы можете просто установить для параметра requires_grad значение False, и эти тензоры не будут участвовать в графе вычислений."
      ]
    },
    {
      "cell_type": "markdown",
      "metadata": {
        "id": "LE87s9HhlrfS"
      },
      "source": [
        "2) torch.no_grad()"
      ]
    },
    {
      "cell_type": "markdown",
      "metadata": {
        "id": "zOHxTUA-lrfh"
      },
      "source": [
        "Когда мы вычисляем градиенты, нам нужно кэшировать входные значения и промежуточные функции, поскольку они могут потребоваться для вычисления градиента позже.  Если нам нужно сохранить эти значения для вычисления градиента во время обратного прохода, это повлияет на объем памяти, занимаемой сетью."
      ]
    },
    {
      "cell_type": "markdown",
      "metadata": {
        "id": "qJ2CMPD3lrfi"
      },
      "source": [
        "С использованием torch.no_grad мы выполняем вывод нашей нейронной сети и мы не вычисляем градиенты и, следовательно, нам не нужно хранить эти значения. Фактически, во время вывода графа вычислений создавать не нужно, так как это приведет к бесполезному потреблению памяти."
      ]
    },
    {
      "cell_type": "markdown",
      "metadata": {
        "id": "BjayYcWxlrfj"
      },
      "source": [
        "PyTorch предлагает для этой цели диспетчер контекста, называемый torch.no_grad."
      ]
    },
    {
      "cell_type": "code",
      "execution_count": null,
      "metadata": {
        "id": "F5IRJk1Wlrfj"
      },
      "outputs": [],
      "source": [
        "with torch.no_grad():\n",
        "    # inference code goes here \n",
        "    pass"
      ]
    },
    {
      "cell_type": "markdown",
      "metadata": {
        "id": "7MMq6SyGlrfk"
      },
      "source": [
        "# 4. Погружаемся в детали"
      ]
    },
    {
      "cell_type": "markdown",
      "metadata": {
        "id": "PkcMK9v7lrfl"
      },
      "source": [
        "Все основные модули которые будут рассматриваться ниже находятся в [torch.nn](https://pytorch.org/docs/stable/nn.html#). Все кроме оптимизаторов - они находятся в [torch.optim](https://pytorch.org/docs/stable/optim.html)"
      ]
    },
    {
      "cell_type": "markdown",
      "metadata": {
        "id": "zuo6jRyclrfl"
      },
      "source": [
        "### 4.1. Слои"
      ]
    },
    {
      "cell_type": "markdown",
      "metadata": {
        "id": "PqyiBsZslrfm"
      },
      "source": [
        "#### Линейный слой (Линейное преобразование)\n",
        "\n",
        "[pytorch doc](https://pytorch.org/docs/stable/generated/torch.nn.Linear.html)\n",
        "\n",
        "$$y = xA^T + b$$"
      ]
    },
    {
      "cell_type": "code",
      "execution_count": null,
      "metadata": {
        "id": "wW0hJOqRlrfr"
      },
      "outputs": [],
      "source": [
        "layer = torch.nn.Linear(\n",
        "    in_features=3,\n",
        "    out_features=2,\n",
        "    bias=True\n",
        ")"
      ]
    },
    {
      "cell_type": "code",
      "execution_count": null,
      "metadata": {
        "colab": {
          "base_uri": "https://localhost:8080/"
        },
        "id": "vBymHmwoO6Gc",
        "outputId": "0b36018b-7364-4a30-9737-f3bdbbaac1dc"
      },
      "outputs": [
        {
          "data": {
            "text/plain": [
              "(Parameter containing:\n",
              " tensor([[ 0.5032,  0.1245, -0.4466],\n",
              "         [-0.5200,  0.2236, -0.1307]], requires_grad=True),\n",
              " Parameter containing:\n",
              " tensor([ 0.1859, -0.0163], requires_grad=True))"
            ]
          },
          "execution_count": 70,
          "metadata": {},
          "output_type": "execute_result"
        }
      ],
      "source": [
        "layer.weight, layer.bias"
      ]
    },
    {
      "cell_type": "markdown",
      "metadata": {
        "id": "eHImPO4olrgZ"
      },
      "source": [
        "### 4.2 Алгоритм обучения в pytorch"
      ]
    },
    {
      "cell_type": "code",
      "execution_count": null,
      "metadata": {
        "id": "phZxJlZ5lrgZ"
      },
      "outputs": [],
      "source": [
        "import torch\n",
        "from torch import nn\n",
        "from torch import optim"
      ]
    },
    {
      "cell_type": "markdown",
      "metadata": {
        "id": "leaG6UYdlrgb"
      },
      "source": [
        "1. Для начала нам нужна модель через которую мы будем прогонять данные и получать какой-то результат. Для этого возьмем линейное преобразование:"
      ]
    },
    {
      "cell_type": "code",
      "execution_count": null,
      "metadata": {
        "id": "8p_Y5Ix8lrge"
      },
      "outputs": [],
      "source": [
        "linear = nn.Linear(2, 2)"
      ]
    },
    {
      "cell_type": "markdown",
      "metadata": {
        "id": "MCYlfLIZlrgf"
      },
      "source": [
        "У слоя в pytorch мы всегда можем посмотреть веса и отклонение:"
      ]
    },
    {
      "cell_type": "code",
      "execution_count": null,
      "metadata": {
        "colab": {
          "base_uri": "https://localhost:8080/"
        },
        "id": "QfmjSh0wlrgg",
        "outputId": "a67f3116-1574-4720-b54b-d0791681a38a"
      },
      "outputs": [
        {
          "name": "stdout",
          "output_type": "stream",
          "text": [
            "w:  Parameter containing:\n",
            "tensor([[ 0.6643, -0.6711],\n",
            "        [-0.1339,  0.0371]], requires_grad=True)\n",
            "b:  Parameter containing:\n",
            "tensor([-0.6268,  0.6955], requires_grad=True)\n"
          ]
        }
      ],
      "source": [
        "print('w: ', linear.weight)\n",
        "print('b: ', linear.bias)"
      ]
    },
    {
      "cell_type": "markdown",
      "metadata": {
        "id": "EcEQk9xklrgg"
      },
      "source": [
        "2. Теперь нам нужно определить функцию ошибок для подсчета градиента:"
      ]
    },
    {
      "cell_type": "code",
      "execution_count": null,
      "metadata": {
        "id": "ktjXPigolrgh"
      },
      "outputs": [],
      "source": [
        "criterion = nn.MSELoss()"
      ]
    },
    {
      "cell_type": "markdown",
      "metadata": {
        "id": "9s5fLcGGlrgm"
      },
      "source": [
        "3. Так же нам нужен оптимизатор который будет изменять веса нашей модели:"
      ]
    },
    {
      "cell_type": "code",
      "execution_count": null,
      "metadata": {
        "id": "TQoaffbOlrgm"
      },
      "outputs": [],
      "source": [
        "optimizer = torch.optim.SGD(linear.parameters(), lr=0.01)"
      ]
    },
    {
      "cell_type": "markdown",
      "metadata": {
        "id": "jsft9Mrulrgn"
      },
      "source": [
        "4. Нам нужны данные (х) и верные метки (y) по которым мы поймем правильные ли предсказания делает модель. (В данном случае у нас всего пара значений (данные, метки). О том как организовывать много данных ниже и в дальнейших вебинарах):"
      ]
    },
    {
      "cell_type": "code",
      "execution_count": null,
      "metadata": {
        "colab": {
          "base_uri": "https://localhost:8080/"
        },
        "id": "0aXEA3OGlrgn",
        "outputId": "f8d088b9-59ff-41c9-cf8f-0394ce59f7ef"
      },
      "outputs": [
        {
          "data": {
            "text/plain": [
              "(tensor([ 0.8604, -0.6578], requires_grad=True), tensor([-1.1701,  0.4204]))"
            ]
          },
          "execution_count": 76,
          "metadata": {},
          "output_type": "execute_result"
        }
      ],
      "source": [
        "x = torch.randn(2, requires_grad=True)\n",
        "y = torch.randn(2, requires_grad=False)\n",
        "\n",
        "x, y"
      ]
    },
    {
      "cell_type": "markdown",
      "metadata": {
        "id": "hT-kKVE7lrgo"
      },
      "source": [
        "5. Перед тем как считать градиенты и менять веса, нам нужно обнулить градиенты хранящиеся в свойстве тензора .grad. Для этого выполняем следующую строчку кода:"
      ]
    },
    {
      "cell_type": "code",
      "execution_count": null,
      "metadata": {
        "id": "JdByvAdylrgo"
      },
      "outputs": [],
      "source": [
        "optimizer.zero_grad()"
      ]
    },
    {
      "cell_type": "markdown",
      "metadata": {
        "id": "nleewGB2lrgp"
      },
      "source": [
        "6. Затем делаем предсказание на наших данных х, получаем предсказание модели и сохраняем это предсказание в переменную pred:"
      ]
    },
    {
      "cell_type": "code",
      "execution_count": null,
      "metadata": {
        "id": "6vd31Yqxlrgp"
      },
      "outputs": [],
      "source": [
        "pred = linear(x)"
      ]
    },
    {
      "cell_type": "markdown",
      "metadata": {
        "id": "8_xyEM2Ilrgq"
      },
      "source": [
        "7. Переменная pred имеет ту же размерность, что и y. y - это наша правильная метка (ground truth). На этом этапе мы сравниваем предсказанное с реальным и получаем некую численную оценку этого через функцию потерь:"
      ]
    },
    {
      "cell_type": "code",
      "execution_count": null,
      "metadata": {
        "colab": {
          "base_uri": "https://localhost:8080/"
        },
        "id": "KMATmsD0lrgq",
        "outputId": "cea089e2-d968-4263-ec41-fc5707010ddb"
      },
      "outputs": [
        {
          "name": "stdout",
          "output_type": "stream",
          "text": [
            "loss:  tensor(1.2202, grad_fn=<MseLossBackward0>)  \n",
            "loss_item : 1.220244288444519\n"
          ]
        }
      ],
      "source": [
        "loss = criterion(pred, y)\n",
        "print('loss: ', loss, ' \\nloss_item :', loss.item())"
      ]
    },
    {
      "cell_type": "markdown",
      "metadata": {
        "id": "1LBFt80flrgr"
      },
      "source": [
        "Стоит отметить, что если мы посмотрим на переменную .grad наших весов и отклонения, то ничего не будет:"
      ]
    },
    {
      "cell_type": "code",
      "execution_count": null,
      "metadata": {
        "colab": {
          "base_uri": "https://localhost:8080/"
        },
        "id": "CUIp6jQtlrgs",
        "outputId": "dc040e43-271f-438f-fff0-3be9a53fdcda"
      },
      "outputs": [
        {
          "name": "stdout",
          "output_type": "stream",
          "text": [
            "dL/dw:  None\n",
            "dL/db:  None\n"
          ]
        }
      ],
      "source": [
        "print('dL/dw: ', linear.weight.grad) \n",
        "print('dL/db: ', linear.bias.grad)"
      ]
    },
    {
      "cell_type": "markdown",
      "metadata": {
        "id": "UpKSxAbulrgs"
      },
      "source": [
        "Это потому что мы не начинали идти в обратном направлении и высчитывать градиенты."
      ]
    },
    {
      "cell_type": "markdown",
      "metadata": {
        "id": "MyCJdzdclrgt"
      },
      "source": [
        "8. Что ж, самое время это сделать. Проходим в обратном направлении и вычислим градиенты:"
      ]
    },
    {
      "cell_type": "code",
      "execution_count": null,
      "metadata": {
        "id": "JroDNpxJlrgt"
      },
      "outputs": [],
      "source": [
        "loss.backward()"
      ]
    },
    {
      "cell_type": "markdown",
      "metadata": {
        "id": "qlzi3IZflrgu"
      },
      "source": [
        "Теперь если мы посмотрим на grad весов, то уже что-то увидим:"
      ]
    },
    {
      "cell_type": "code",
      "execution_count": null,
      "metadata": {
        "colab": {
          "base_uri": "https://localhost:8080/"
        },
        "id": "S2jqTzv5lrgu",
        "outputId": "343a982b-952f-4ffa-f32f-412ba09155e3"
      },
      "outputs": [
        {
          "name": "stdout",
          "output_type": "stream",
          "text": [
            "w:  tensor([[ 1.3391, -1.0237],\n",
            "        [ 0.1166, -0.0892]])\n",
            "b:  tensor([1.5563, 0.1356])\n"
          ]
        }
      ],
      "source": [
        "print('w: ', linear.weight.grad)\n",
        "print('b: ', linear.bias.grad)"
      ]
    },
    {
      "cell_type": "markdown",
      "metadata": {
        "id": "96uo8Dyulrgv"
      },
      "source": [
        "9. Теперь самое время поменять веса. Для этого надо сделать так называемый шаг оптимизатора. Здесь оптимизатор имея информацию о высчитанных градиентах и значениях весов меняет последние:"
      ]
    },
    {
      "cell_type": "code",
      "execution_count": null,
      "metadata": {
        "colab": {
          "base_uri": "https://localhost:8080/"
        },
        "id": "JOQ1VXTOlrgv",
        "outputId": "c183fe14-d63d-4bc4-b7e6-c5e8266a025e"
      },
      "outputs": [
        {
          "name": "stdout",
          "output_type": "stream",
          "text": [
            "BEFORE:\n",
            " w:  Parameter containing:\n",
            "tensor([[ 0.6643, -0.6711],\n",
            "        [-0.1339,  0.0371]], requires_grad=True)\n",
            "b:  Parameter containing:\n",
            "tensor([-0.6268,  0.6955], requires_grad=True) \n",
            "\n",
            "AFTER:\n",
            "w:  Parameter containing:\n",
            "tensor([[ 0.6509, -0.6609],\n",
            "        [-0.1351,  0.0380]], requires_grad=True)\n",
            "b:  Parameter containing:\n",
            "tensor([-0.6423,  0.6942], requires_grad=True)\n"
          ]
        }
      ],
      "source": [
        "# Веса до\n",
        "print('BEFORE:\\n','w: ', linear.weight)\n",
        "print('b: ', linear.bias, '\\n')\n",
        "\n",
        "# Делаем шаг оптимизатора\n",
        "optimizer.step()\n",
        "\n",
        "# Веса после\n",
        "print('AFTER:\\n''w: ', linear.weight)\n",
        "print('b: ', linear.bias)"
      ]
    },
    {
      "cell_type": "markdown",
      "metadata": {
        "id": "3HhgLc7nlrhR"
      },
      "source": [
        "#  5. Tensorflow vs PyTorch:"
      ]
    },
    {
      "cell_type": "markdown",
      "metadata": {
        "id": "FZvXLj-RlrhS"
      },
      "source": [
        "<img src='https://drive.google.com/uc?export=view&id=13SNw7d9JGT8lHMrKN2-mNgYrqKqkNXfG'>"
      ]
    },
    {
      "cell_type": "markdown",
      "metadata": {
        "id": "MjwlR38ylrhT"
      },
      "source": [
        "* Определение графа - верно для старых версий, в Октябре 2019 года добавили поддержку подобного стиля программирования "
      ]
    },
    {
      "cell_type": "markdown",
      "metadata": {
        "id": "Y2zYPfsDlrhV"
      },
      "source": [
        "#### Различия:\n",
        "\n",
        "PyTorch разработал Facebook Lab в 2016 году, здесь динамическое определение графа. А Tensorflow разрабатывался командой Google Brains в 2015 и до 2019 года граф определялся только статически.\n",
        "\n",
        "В TensorFlow граф определяется статически перед запуском модели. Связь осуществляется с помощью объекта tf.Session и tf.Placeholder — тензорами, которые во время выполнения программы будут заменены внешними данными.\n",
        "\n",
        "В PyTorch можно определять, изменять и выполнять узлы как вам угодно без дополнительных session- и placeholder-интерфейсов. Когда вы пишите на TensorFlow, иногда кажется, что с моделью можно связываться через несколько крошечных отверстий в кирпичной стене, за которой и прячется модель.\n",
        "\n",
        "Существуют архитектуры нейронных сетей, которые получают преимущества от динамического подхода. RNN со статическим графом длина входной последовательности остается постоянной. Это означает, что необходимо зафиксировать длину предложения на максимальном значении, а все более мелкие последовательности заполнять нулями.\n",
        "\n",
        "Но теперь и в Tensorflow и PyTorch есть возможность динамического определения графа.\n",
        "\n",
        "\n",
        "[Ссылка](https://chel-center.ru/python-yfc/2020/12/22/pytorch-protiv-tensorflow-dlya-vashego-proekta-glubokogo-obucheniya-python/) на статью где хорошо объясняется различие pytorch от tensorflow."
      ]
    },
    {
      "cell_type": "markdown",
      "metadata": {
        "id": "3btv8V0QlrhW"
      },
      "source": [
        "# 6. Где полученные знания можно применять"
      ]
    },
    {
      "cell_type": "markdown",
      "metadata": {
        "id": "LDMm1C17lrhX"
      },
      "source": [
        "pytorch можно использовать в следующих областях:\n",
        "* Распознавание и синтез аудио. Об этом [torchaudio](https://pytorch.org/audio/stable/index.html)  \n",
        "* Так же с инструментом pytorch можно заниматься регрессионными проблемами, прогнозирования временных рядов. Например предсказывать цены на определенные валюты, акции, дома и т.д. [ссылка](https://www.machinelearningmastery.ru/lstm-for-time-series-prediction-de8aeb26f2ca/)\n",
        "* [Задачи NLP](https://pytorchnlp.readthedocs.io/en/latest/index.html#)  \n",
        "* Можно генерировать разную информацию от картинок до текста и аудио.\n",
        "\n",
        "В общем pytorch можно применять везде, где используются нейронные сети.\n",
        "\n",
        "[Бонус](https://www.8host.com/blog/kak-ustanovit-i-ispolzovat-pytorch/): зайдите по ссылке и долистайте до \"Экосистема Pytorch\""
      ]
    },
    {
      "cell_type": "markdown",
      "metadata": {
        "id": "MkJ7emsMxaYF"
      },
      "source": [
        "# Домашнее задание\n",
        "\n",
        "Ноутбук: [HW1](https://drive.google.com/file/d/1NJT82QddcsH-IjC2lMuUFHXNNi8X5r8a/view?usp=sharing)"
      ]
    },
    {
      "cell_type": "markdown",
      "metadata": {
        "id": "nfRSfecExTgi"
      },
      "source": [
        "# Дополнительные материалы\n",
        "1. [Pytorch vs Tensorflow in 2020](https://towardsdatascience.com/pytorch-vs-tensorflow-in-2020-fe237862fae1)\n",
        "2. [Официальная документация PyTorch](https://pytorch.org/tutorials/)"
      ]
    },
    {
      "cell_type": "markdown",
      "metadata": {
        "id": "u4TESt3AxXg7"
      },
      "source": [
        "# Определения\n",
        "\n",
        "\n",
        "**Вычислительный граф** — это иллюстрированная запись какой-либо функции, состоящая из вершин и рёбер. Вершины (или узлы) — вычислительные операции, которые необходимо выполнить, а рёбра связывают их в определённую последовательность.\n",
        "\n",
        "Шаги обучения:\n",
        "1. Проход по батчу\n",
        "2. Обнуление градиента\n",
        "3. Предсказание модели на батче\n",
        "4. Подсчет ошибки\n",
        "5. Подсчет градиентов\n",
        "6. Шаг оптимизации\n",
        "7. Логирование информации"
      ]
    },
    {
      "cell_type": "markdown",
      "source": [
        "Домашнее задание"
      ],
      "metadata": {
        "id": "oy2xDYnGyv4K"
      }
    },
    {
      "cell_type": "markdown",
      "source": [
        "Создайте случайный float тензор 3х4"
      ],
      "metadata": {
        "id": "llHxu-SJw1I_"
      }
    },
    {
      "cell_type": "code",
      "source": [
        "a = torch.randn(3, 4, 5) # на скриншоте с дз последняя цифра обрезана, но думаю что там 5 было"
      ],
      "metadata": {
        "id": "ca-pfcaFxcXi"
      },
      "execution_count": null,
      "outputs": []
    },
    {
      "cell_type": "code",
      "source": [
        "a"
      ],
      "metadata": {
        "id": "DfWL8E1hzvzE",
        "outputId": "635de968-3c22-4640-cb66-c449c7cbfea0",
        "colab": {
          "base_uri": "https://localhost:8080/"
        }
      },
      "execution_count": null,
      "outputs": [
        {
          "output_type": "execute_result",
          "data": {
            "text/plain": [
              "tensor([[[ 0.0218, -0.0445, -0.2867, -0.4060,  0.7666],\n",
              "         [-0.6233, -0.4939, -0.8839, -2.3534, -0.5729],\n",
              "         [-0.0078, -0.1919, -1.5886,  0.1931, -0.9719],\n",
              "         [ 1.0635,  1.1173, -0.8902, -0.1722, -0.2798]],\n",
              "\n",
              "        [[ 1.1764,  0.1158,  0.3853,  0.3847, -1.0724],\n",
              "         [-1.2341,  0.0484, -0.2110,  2.1056,  0.2653],\n",
              "         [ 0.5129,  2.1506, -0.3987,  0.7905, -1.1111],\n",
              "         [ 1.7544,  0.1547,  0.8384,  0.4161, -0.9040]],\n",
              "\n",
              "        [[ 0.3674,  1.0179, -1.8201,  0.0994,  1.0853],\n",
              "         [ 0.4481, -0.7166, -0.0454,  0.0102, -1.7723],\n",
              "         [-0.6596, -0.4428,  1.7892, -0.7775,  0.9059],\n",
              "         [ 0.8100,  0.5429, -0.4863, -1.0745,  1.1577]]])"
            ]
          },
          "metadata": {},
          "execution_count": 17
        }
      ]
    },
    {
      "cell_type": "markdown",
      "source": [
        "Выведите его форму"
      ],
      "metadata": {
        "id": "HszG_6NsydXn"
      }
    },
    {
      "cell_type": "code",
      "source": [
        "a.shape"
      ],
      "metadata": {
        "id": "Bxn8YDW5yii7",
        "outputId": "86ea3663-f840-42d6-857e-d5dcd69bccaf",
        "colab": {
          "base_uri": "https://localhost:8080/"
        }
      },
      "execution_count": null,
      "outputs": [
        {
          "output_type": "execute_result",
          "data": {
            "text/plain": [
              "torch.Size([3, 4, 5])"
            ]
          },
          "metadata": {},
          "execution_count": 14
        }
      ]
    },
    {
      "cell_type": "markdown",
      "source": [
        "Приведите его к форме 6х10"
      ],
      "metadata": {
        "id": "OHPbbXF8y0JB"
      }
    },
    {
      "cell_type": "code",
      "source": [
        "a.reshape(6, 10)"
      ],
      "metadata": {
        "id": "ChKHOAG_y74O",
        "outputId": "3ef78668-7ae4-4e22-96ad-72f31dc13469",
        "colab": {
          "base_uri": "https://localhost:8080/"
        }
      },
      "execution_count": null,
      "outputs": [
        {
          "output_type": "execute_result",
          "data": {
            "text/plain": [
              "tensor([[ 0.0218, -0.0445, -0.2867, -0.4060,  0.7666, -0.6233, -0.4939, -0.8839,\n",
              "         -2.3534, -0.5729],\n",
              "        [-0.0078, -0.1919, -1.5886,  0.1931, -0.9719,  1.0635,  1.1173, -0.8902,\n",
              "         -0.1722, -0.2798],\n",
              "        [ 1.1764,  0.1158,  0.3853,  0.3847, -1.0724, -1.2341,  0.0484, -0.2110,\n",
              "          2.1056,  0.2653],\n",
              "        [ 0.5129,  2.1506, -0.3987,  0.7905, -1.1111,  1.7544,  0.1547,  0.8384,\n",
              "          0.4161, -0.9040],\n",
              "        [ 0.3674,  1.0179, -1.8201,  0.0994,  1.0853,  0.4481, -0.7166, -0.0454,\n",
              "          0.0102, -1.7723],\n",
              "        [-0.6596, -0.4428,  1.7892, -0.7775,  0.9059,  0.8100,  0.5429, -0.4863,\n",
              "         -1.0745,  1.1577]])"
            ]
          },
          "metadata": {},
          "execution_count": 16
        }
      ]
    },
    {
      "cell_type": "markdown",
      "source": [
        "Создайте случайный intTensor размера 10"
      ],
      "metadata": {
        "id": "SKz5GswRz0AA"
      }
    },
    {
      "cell_type": "code",
      "source": [
        "b = torch.randint(10, size=(10,))\n",
        "b"
      ],
      "metadata": {
        "id": "OY35ulDVz-xf",
        "outputId": "c91daa3e-8d60-4ae2-de49-63e41c9777f7",
        "colab": {
          "base_uri": "https://localhost:8080/"
        }
      },
      "execution_count": null,
      "outputs": [
        {
          "output_type": "execute_result",
          "data": {
            "text/plain": [
              "tensor([3, 1, 3, 5, 0, 0, 5, 5, 7, 6])"
            ]
          },
          "metadata": {},
          "execution_count": 20
        }
      ]
    }
  ],
  "metadata": {
    "accelerator": "GPU",
    "colab": {
      "collapsed_sections": [
        "nfRSfecExTgi",
        "u4TESt3AxXg7"
      ],
      "name": "Копия блокнота \"web_1.ipynb\"",
      "provenance": []
    },
    "gpuClass": "standard",
    "kernelspec": {
      "display_name": "Python 3",
      "language": "python",
      "name": "python3"
    },
    "language_info": {
      "codemirror_mode": {
        "name": "ipython",
        "version": 3
      },
      "file_extension": ".py",
      "mimetype": "text/x-python",
      "name": "python",
      "nbconvert_exporter": "python",
      "pygments_lexer": "ipython3",
      "version": "3.8.5"
    }
  },
  "nbformat": 4,
  "nbformat_minor": 0
}