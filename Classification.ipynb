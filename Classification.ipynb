{
 "cells": [
  {
   "cell_type": "code",
   "execution_count": 1,
   "id": "be931996-503f-4034-8b29-d85c7983d148",
   "metadata": {},
   "outputs": [],
   "source": [
    "import numpy as np\n",
    "import pandas as pd\n",
    "from sklearn.model_selection import train_test_split\n",
    "#from imblearn import over_sampling, under_sampling\n",
    "import matplotlib.pyplot as plt\n",
    "import seaborn as sns"
   ]
  },
  {
   "cell_type": "code",
   "execution_count": 2,
   "id": "38a0d7f3-2f80-4b74-b7a3-923845ffe870",
   "metadata": {},
   "outputs": [],
   "source": [
    "def min_max_scale(X):\n",
    "    return (X - X.min()) / (X.max() - X.min())"
   ]
  },
  {
   "cell_type": "markdown",
   "id": "472636d1-96c6-4df0-986f-de0951026bcb",
   "metadata": {},
   "source": [
    "Ваша задача этом соревновании - предсказать вероятность того, подойдет ли репетитор для подготовки к экзамену по математике. Вам будут даны два датасета: train.csv (содержит признаки и целевую переменную) и test.csv (только признаки)."
   ]
  },
  {
   "cell_type": "code",
   "execution_count": 3,
   "id": "c0442cff-f300-4b9a-a733-1553e5a0c35e",
   "metadata": {},
   "outputs": [],
   "source": [
    "df_raw = pd.read_csv('./data/train2.csv', sep=',')\n",
    "df_raw\n",
    "features = ['physics', 'chemistry', 'biology', 'english', 'geography', 'history', 'age', 'years_of_experience', 'lesson_price', 'qualification', 'mean_exam_points'] \n",
    "lessons = ['physics', 'chemistry', 'biology', 'english', 'geography', 'history'] \n",
    "other = ['age', 'years_of_experience', 'lesson_price', 'qualification', 'mean_exam_points'] \n",
    "target = ['choose']\n",
    "df_raw = df_raw[features + target]"
   ]
  },
  {
   "cell_type": "code",
   "execution_count": 4,
   "id": "fd61d90f-7e6e-492a-980a-0f10ff56f3cc",
   "metadata": {},
   "outputs": [
    {
     "data": {
      "text/html": [
       "<div>\n",
       "<style scoped>\n",
       "    .dataframe tbody tr th:only-of-type {\n",
       "        vertical-align: middle;\n",
       "    }\n",
       "\n",
       "    .dataframe tbody tr th {\n",
       "        vertical-align: top;\n",
       "    }\n",
       "\n",
       "    .dataframe thead th {\n",
       "        text-align: right;\n",
       "    }\n",
       "</style>\n",
       "<table border=\"1\" class=\"dataframe\">\n",
       "  <thead>\n",
       "    <tr style=\"text-align: right;\">\n",
       "      <th></th>\n",
       "      <th>physics</th>\n",
       "      <th>chemistry</th>\n",
       "      <th>biology</th>\n",
       "      <th>english</th>\n",
       "      <th>geography</th>\n",
       "      <th>history</th>\n",
       "      <th>age</th>\n",
       "      <th>years_of_experience</th>\n",
       "      <th>lesson_price</th>\n",
       "      <th>qualification</th>\n",
       "      <th>mean_exam_points</th>\n",
       "      <th>choose</th>\n",
       "    </tr>\n",
       "  </thead>\n",
       "  <tbody>\n",
       "    <tr>\n",
       "      <th>0</th>\n",
       "      <td>0.0</td>\n",
       "      <td>0.0</td>\n",
       "      <td>0.0</td>\n",
       "      <td>0.0</td>\n",
       "      <td>0.0</td>\n",
       "      <td>0.0</td>\n",
       "      <td>35.0</td>\n",
       "      <td>0.0</td>\n",
       "      <td>2150.0</td>\n",
       "      <td>2.0</td>\n",
       "      <td>74.0</td>\n",
       "      <td>0</td>\n",
       "    </tr>\n",
       "    <tr>\n",
       "      <th>1</th>\n",
       "      <td>1.0</td>\n",
       "      <td>0.0</td>\n",
       "      <td>1.0</td>\n",
       "      <td>0.0</td>\n",
       "      <td>0.0</td>\n",
       "      <td>1.0</td>\n",
       "      <td>52.0</td>\n",
       "      <td>2.0</td>\n",
       "      <td>1250.0</td>\n",
       "      <td>2.0</td>\n",
       "      <td>57.0</td>\n",
       "      <td>1</td>\n",
       "    </tr>\n",
       "    <tr>\n",
       "      <th>2</th>\n",
       "      <td>1.0</td>\n",
       "      <td>0.0</td>\n",
       "      <td>0.0</td>\n",
       "      <td>0.0</td>\n",
       "      <td>0.0</td>\n",
       "      <td>0.0</td>\n",
       "      <td>29.0</td>\n",
       "      <td>3.0</td>\n",
       "      <td>1750.0</td>\n",
       "      <td>1.0</td>\n",
       "      <td>66.0</td>\n",
       "      <td>0</td>\n",
       "    </tr>\n",
       "    <tr>\n",
       "      <th>3</th>\n",
       "      <td>0.0</td>\n",
       "      <td>0.0</td>\n",
       "      <td>0.0</td>\n",
       "      <td>0.0</td>\n",
       "      <td>0.0</td>\n",
       "      <td>0.0</td>\n",
       "      <td>33.0</td>\n",
       "      <td>3.0</td>\n",
       "      <td>1050.0</td>\n",
       "      <td>1.0</td>\n",
       "      <td>66.0</td>\n",
       "      <td>1</td>\n",
       "    </tr>\n",
       "    <tr>\n",
       "      <th>4</th>\n",
       "      <td>1.0</td>\n",
       "      <td>0.0</td>\n",
       "      <td>0.0</td>\n",
       "      <td>0.0</td>\n",
       "      <td>0.0</td>\n",
       "      <td>0.0</td>\n",
       "      <td>46.0</td>\n",
       "      <td>3.0</td>\n",
       "      <td>2250.0</td>\n",
       "      <td>2.0</td>\n",
       "      <td>73.0</td>\n",
       "      <td>0</td>\n",
       "    </tr>\n",
       "    <tr>\n",
       "      <th>...</th>\n",
       "      <td>...</td>\n",
       "      <td>...</td>\n",
       "      <td>...</td>\n",
       "      <td>...</td>\n",
       "      <td>...</td>\n",
       "      <td>...</td>\n",
       "      <td>...</td>\n",
       "      <td>...</td>\n",
       "      <td>...</td>\n",
       "      <td>...</td>\n",
       "      <td>...</td>\n",
       "      <td>...</td>\n",
       "    </tr>\n",
       "    <tr>\n",
       "      <th>9995</th>\n",
       "      <td>1.0</td>\n",
       "      <td>0.0</td>\n",
       "      <td>0.0</td>\n",
       "      <td>0.0</td>\n",
       "      <td>0.0</td>\n",
       "      <td>0.0</td>\n",
       "      <td>55.0</td>\n",
       "      <td>2.0</td>\n",
       "      <td>2150.0</td>\n",
       "      <td>2.0</td>\n",
       "      <td>79.0</td>\n",
       "      <td>0</td>\n",
       "    </tr>\n",
       "    <tr>\n",
       "      <th>9996</th>\n",
       "      <td>0.0</td>\n",
       "      <td>0.0</td>\n",
       "      <td>0.0</td>\n",
       "      <td>0.0</td>\n",
       "      <td>0.0</td>\n",
       "      <td>0.0</td>\n",
       "      <td>53.0</td>\n",
       "      <td>2.0</td>\n",
       "      <td>1350.0</td>\n",
       "      <td>1.0</td>\n",
       "      <td>59.0</td>\n",
       "      <td>0</td>\n",
       "    </tr>\n",
       "    <tr>\n",
       "      <th>9997</th>\n",
       "      <td>0.0</td>\n",
       "      <td>0.0</td>\n",
       "      <td>0.0</td>\n",
       "      <td>0.0</td>\n",
       "      <td>0.0</td>\n",
       "      <td>1.0</td>\n",
       "      <td>44.0</td>\n",
       "      <td>5.0</td>\n",
       "      <td>1750.0</td>\n",
       "      <td>1.0</td>\n",
       "      <td>59.0</td>\n",
       "      <td>0</td>\n",
       "    </tr>\n",
       "    <tr>\n",
       "      <th>9998</th>\n",
       "      <td>1.0</td>\n",
       "      <td>0.0</td>\n",
       "      <td>0.0</td>\n",
       "      <td>0.0</td>\n",
       "      <td>0.0</td>\n",
       "      <td>0.0</td>\n",
       "      <td>41.0</td>\n",
       "      <td>0.0</td>\n",
       "      <td>1700.0</td>\n",
       "      <td>2.0</td>\n",
       "      <td>72.0</td>\n",
       "      <td>0</td>\n",
       "    </tr>\n",
       "    <tr>\n",
       "      <th>9999</th>\n",
       "      <td>0.0</td>\n",
       "      <td>0.0</td>\n",
       "      <td>0.0</td>\n",
       "      <td>0.0</td>\n",
       "      <td>0.0</td>\n",
       "      <td>0.0</td>\n",
       "      <td>41.0</td>\n",
       "      <td>5.0</td>\n",
       "      <td>1200.0</td>\n",
       "      <td>1.0</td>\n",
       "      <td>40.0</td>\n",
       "      <td>0</td>\n",
       "    </tr>\n",
       "  </tbody>\n",
       "</table>\n",
       "<p>10000 rows × 12 columns</p>\n",
       "</div>"
      ],
      "text/plain": [
       "      physics  chemistry  biology  english  geography  history   age  \\\n",
       "0         0.0        0.0      0.0      0.0        0.0      0.0  35.0   \n",
       "1         1.0        0.0      1.0      0.0        0.0      1.0  52.0   \n",
       "2         1.0        0.0      0.0      0.0        0.0      0.0  29.0   \n",
       "3         0.0        0.0      0.0      0.0        0.0      0.0  33.0   \n",
       "4         1.0        0.0      0.0      0.0        0.0      0.0  46.0   \n",
       "...       ...        ...      ...      ...        ...      ...   ...   \n",
       "9995      1.0        0.0      0.0      0.0        0.0      0.0  55.0   \n",
       "9996      0.0        0.0      0.0      0.0        0.0      0.0  53.0   \n",
       "9997      0.0        0.0      0.0      0.0        0.0      1.0  44.0   \n",
       "9998      1.0        0.0      0.0      0.0        0.0      0.0  41.0   \n",
       "9999      0.0        0.0      0.0      0.0        0.0      0.0  41.0   \n",
       "\n",
       "      years_of_experience  lesson_price  qualification  mean_exam_points  \\\n",
       "0                     0.0        2150.0            2.0              74.0   \n",
       "1                     2.0        1250.0            2.0              57.0   \n",
       "2                     3.0        1750.0            1.0              66.0   \n",
       "3                     3.0        1050.0            1.0              66.0   \n",
       "4                     3.0        2250.0            2.0              73.0   \n",
       "...                   ...           ...            ...               ...   \n",
       "9995                  2.0        2150.0            2.0              79.0   \n",
       "9996                  2.0        1350.0            1.0              59.0   \n",
       "9997                  5.0        1750.0            1.0              59.0   \n",
       "9998                  0.0        1700.0            2.0              72.0   \n",
       "9999                  5.0        1200.0            1.0              40.0   \n",
       "\n",
       "      choose  \n",
       "0          0  \n",
       "1          1  \n",
       "2          0  \n",
       "3          1  \n",
       "4          0  \n",
       "...      ...  \n",
       "9995       0  \n",
       "9996       0  \n",
       "9997       0  \n",
       "9998       0  \n",
       "9999       0  \n",
       "\n",
       "[10000 rows x 12 columns]"
      ]
     },
     "execution_count": 4,
     "metadata": {},
     "output_type": "execute_result"
    }
   ],
   "source": [
    "df_raw"
   ]
  },
  {
   "cell_type": "code",
   "execution_count": 5,
   "id": "61efdfe4-6a19-40ab-b2d3-398adf2fdf9d",
   "metadata": {},
   "outputs": [
    {
     "data": {
      "text/plain": [
       "(10000, 12)"
      ]
     },
     "execution_count": 5,
     "metadata": {},
     "output_type": "execute_result"
    }
   ],
   "source": [
    "df_raw.shape"
   ]
  },
  {
   "cell_type": "code",
   "execution_count": 6,
   "id": "8a0c4963-d8af-49b2-a36b-a232ef05a1c3",
   "metadata": {},
   "outputs": [
    {
     "data": {
      "text/plain": [
       "0.0    1027\n",
       "1.0      82\n",
       "Name: english, dtype: int64"
      ]
     },
     "execution_count": 6,
     "metadata": {},
     "output_type": "execute_result"
    }
   ],
   "source": [
    "df_raw[df_raw['choose'] == 1]['english'].value_counts()"
   ]
  },
  {
   "cell_type": "code",
   "execution_count": 7,
   "id": "9def0ee1-9854-4a81-bded-f8b91f37f031",
   "metadata": {},
   "outputs": [
    {
     "data": {
      "text/plain": [
       "physics  chemistry  biology  english  geography  history  age   years_of_experience  lesson_price  qualification  mean_exam_points  choose\n",
       "1.0      0.0        0.0      0.0      0.0        0.0      57.0  0.0                  1400.0        1.0            68.0              1         2\n",
       "                                                          53.0  1.0                  2300.0        4.0            88.0              1         1\n",
       "                                                                3.0                  1750.0        2.0            67.0              1         1\n",
       "                                                                2.0                  1850.0        2.0            67.0              1         1\n",
       "                                                                                     1700.0        2.0            69.0              1         1\n",
       "                                                                                                                                             ..\n",
       "0.0      1.0        0.0      0.0      1.0        0.0      49.0  2.0                  2250.0        3.0            79.0              1         1\n",
       "                             1.0      0.0        0.0      32.0  0.0                  1150.0        1.0            59.0              1         1\n",
       "                                                          47.0  5.0                  700.0         1.0            53.0              1         1\n",
       "                    1.0      0.0      0.0        0.0      30.0  0.0                  1450.0        2.0            55.0              1         1\n",
       "1.0      1.0        1.0      0.0      0.0        0.0      67.0  1.0                  1650.0        2.0            77.0              1         1\n",
       "Length: 1108, dtype: int64"
      ]
     },
     "execution_count": 7,
     "metadata": {},
     "output_type": "execute_result"
    }
   ],
   "source": [
    "df_raw[df_raw['choose'] == 1].value_counts()"
   ]
  },
  {
   "cell_type": "code",
   "execution_count": 8,
   "id": "7b6f2f3f-1444-49d8-9877-dca0971a89a0",
   "metadata": {},
   "outputs": [],
   "source": [
    "#X = np.array(df_raw[featuresF+features].copy())\n",
    "#Y = np.array(df_raw[target].copy())\n",
    "#X.shape[1]\n",
    "df = df_raw[features+target].copy()"
   ]
  },
  {
   "cell_type": "code",
   "execution_count": 9,
   "id": "35535f66-d780-4308-9d66-7196c915f7e5",
   "metadata": {},
   "outputs": [
    {
     "data": {
      "text/html": [
       "<div>\n",
       "<style scoped>\n",
       "    .dataframe tbody tr th:only-of-type {\n",
       "        vertical-align: middle;\n",
       "    }\n",
       "\n",
       "    .dataframe tbody tr th {\n",
       "        vertical-align: top;\n",
       "    }\n",
       "\n",
       "    .dataframe thead th {\n",
       "        text-align: right;\n",
       "    }\n",
       "</style>\n",
       "<table border=\"1\" class=\"dataframe\">\n",
       "  <thead>\n",
       "    <tr style=\"text-align: right;\">\n",
       "      <th></th>\n",
       "      <th>physics</th>\n",
       "      <th>chemistry</th>\n",
       "      <th>biology</th>\n",
       "      <th>english</th>\n",
       "      <th>geography</th>\n",
       "      <th>history</th>\n",
       "      <th>age</th>\n",
       "      <th>years_of_experience</th>\n",
       "      <th>lesson_price</th>\n",
       "      <th>qualification</th>\n",
       "      <th>mean_exam_points</th>\n",
       "      <th>choose</th>\n",
       "    </tr>\n",
       "  </thead>\n",
       "  <tbody>\n",
       "    <tr>\n",
       "      <th>0</th>\n",
       "      <td>0.0</td>\n",
       "      <td>0.0</td>\n",
       "      <td>0.0</td>\n",
       "      <td>0.0</td>\n",
       "      <td>0.0</td>\n",
       "      <td>0.0</td>\n",
       "      <td>0.266667</td>\n",
       "      <td>0.000000</td>\n",
       "      <td>0.520000</td>\n",
       "      <td>0.333333</td>\n",
       "      <td>0.611940</td>\n",
       "      <td>0.0</td>\n",
       "    </tr>\n",
       "    <tr>\n",
       "      <th>1</th>\n",
       "      <td>1.0</td>\n",
       "      <td>0.0</td>\n",
       "      <td>1.0</td>\n",
       "      <td>0.0</td>\n",
       "      <td>0.0</td>\n",
       "      <td>1.0</td>\n",
       "      <td>0.644444</td>\n",
       "      <td>0.222222</td>\n",
       "      <td>0.280000</td>\n",
       "      <td>0.333333</td>\n",
       "      <td>0.358209</td>\n",
       "      <td>1.0</td>\n",
       "    </tr>\n",
       "    <tr>\n",
       "      <th>2</th>\n",
       "      <td>1.0</td>\n",
       "      <td>0.0</td>\n",
       "      <td>0.0</td>\n",
       "      <td>0.0</td>\n",
       "      <td>0.0</td>\n",
       "      <td>0.0</td>\n",
       "      <td>0.133333</td>\n",
       "      <td>0.333333</td>\n",
       "      <td>0.413333</td>\n",
       "      <td>0.000000</td>\n",
       "      <td>0.492537</td>\n",
       "      <td>0.0</td>\n",
       "    </tr>\n",
       "    <tr>\n",
       "      <th>3</th>\n",
       "      <td>0.0</td>\n",
       "      <td>0.0</td>\n",
       "      <td>0.0</td>\n",
       "      <td>0.0</td>\n",
       "      <td>0.0</td>\n",
       "      <td>0.0</td>\n",
       "      <td>0.222222</td>\n",
       "      <td>0.333333</td>\n",
       "      <td>0.226667</td>\n",
       "      <td>0.000000</td>\n",
       "      <td>0.492537</td>\n",
       "      <td>1.0</td>\n",
       "    </tr>\n",
       "    <tr>\n",
       "      <th>4</th>\n",
       "      <td>1.0</td>\n",
       "      <td>0.0</td>\n",
       "      <td>0.0</td>\n",
       "      <td>0.0</td>\n",
       "      <td>0.0</td>\n",
       "      <td>0.0</td>\n",
       "      <td>0.511111</td>\n",
       "      <td>0.333333</td>\n",
       "      <td>0.546667</td>\n",
       "      <td>0.333333</td>\n",
       "      <td>0.597015</td>\n",
       "      <td>0.0</td>\n",
       "    </tr>\n",
       "    <tr>\n",
       "      <th>...</th>\n",
       "      <td>...</td>\n",
       "      <td>...</td>\n",
       "      <td>...</td>\n",
       "      <td>...</td>\n",
       "      <td>...</td>\n",
       "      <td>...</td>\n",
       "      <td>...</td>\n",
       "      <td>...</td>\n",
       "      <td>...</td>\n",
       "      <td>...</td>\n",
       "      <td>...</td>\n",
       "      <td>...</td>\n",
       "    </tr>\n",
       "    <tr>\n",
       "      <th>9995</th>\n",
       "      <td>1.0</td>\n",
       "      <td>0.0</td>\n",
       "      <td>0.0</td>\n",
       "      <td>0.0</td>\n",
       "      <td>0.0</td>\n",
       "      <td>0.0</td>\n",
       "      <td>0.711111</td>\n",
       "      <td>0.222222</td>\n",
       "      <td>0.520000</td>\n",
       "      <td>0.333333</td>\n",
       "      <td>0.686567</td>\n",
       "      <td>0.0</td>\n",
       "    </tr>\n",
       "    <tr>\n",
       "      <th>9996</th>\n",
       "      <td>0.0</td>\n",
       "      <td>0.0</td>\n",
       "      <td>0.0</td>\n",
       "      <td>0.0</td>\n",
       "      <td>0.0</td>\n",
       "      <td>0.0</td>\n",
       "      <td>0.666667</td>\n",
       "      <td>0.222222</td>\n",
       "      <td>0.306667</td>\n",
       "      <td>0.000000</td>\n",
       "      <td>0.388060</td>\n",
       "      <td>0.0</td>\n",
       "    </tr>\n",
       "    <tr>\n",
       "      <th>9997</th>\n",
       "      <td>0.0</td>\n",
       "      <td>0.0</td>\n",
       "      <td>0.0</td>\n",
       "      <td>0.0</td>\n",
       "      <td>0.0</td>\n",
       "      <td>1.0</td>\n",
       "      <td>0.466667</td>\n",
       "      <td>0.555556</td>\n",
       "      <td>0.413333</td>\n",
       "      <td>0.000000</td>\n",
       "      <td>0.388060</td>\n",
       "      <td>0.0</td>\n",
       "    </tr>\n",
       "    <tr>\n",
       "      <th>9998</th>\n",
       "      <td>1.0</td>\n",
       "      <td>0.0</td>\n",
       "      <td>0.0</td>\n",
       "      <td>0.0</td>\n",
       "      <td>0.0</td>\n",
       "      <td>0.0</td>\n",
       "      <td>0.400000</td>\n",
       "      <td>0.000000</td>\n",
       "      <td>0.400000</td>\n",
       "      <td>0.333333</td>\n",
       "      <td>0.582090</td>\n",
       "      <td>0.0</td>\n",
       "    </tr>\n",
       "    <tr>\n",
       "      <th>9999</th>\n",
       "      <td>0.0</td>\n",
       "      <td>0.0</td>\n",
       "      <td>0.0</td>\n",
       "      <td>0.0</td>\n",
       "      <td>0.0</td>\n",
       "      <td>0.0</td>\n",
       "      <td>0.400000</td>\n",
       "      <td>0.555556</td>\n",
       "      <td>0.266667</td>\n",
       "      <td>0.000000</td>\n",
       "      <td>0.104478</td>\n",
       "      <td>0.0</td>\n",
       "    </tr>\n",
       "  </tbody>\n",
       "</table>\n",
       "<p>10000 rows × 12 columns</p>\n",
       "</div>"
      ],
      "text/plain": [
       "      physics  chemistry  biology  english  geography  history       age  \\\n",
       "0         0.0        0.0      0.0      0.0        0.0      0.0  0.266667   \n",
       "1         1.0        0.0      1.0      0.0        0.0      1.0  0.644444   \n",
       "2         1.0        0.0      0.0      0.0        0.0      0.0  0.133333   \n",
       "3         0.0        0.0      0.0      0.0        0.0      0.0  0.222222   \n",
       "4         1.0        0.0      0.0      0.0        0.0      0.0  0.511111   \n",
       "...       ...        ...      ...      ...        ...      ...       ...   \n",
       "9995      1.0        0.0      0.0      0.0        0.0      0.0  0.711111   \n",
       "9996      0.0        0.0      0.0      0.0        0.0      0.0  0.666667   \n",
       "9997      0.0        0.0      0.0      0.0        0.0      1.0  0.466667   \n",
       "9998      1.0        0.0      0.0      0.0        0.0      0.0  0.400000   \n",
       "9999      0.0        0.0      0.0      0.0        0.0      0.0  0.400000   \n",
       "\n",
       "      years_of_experience  lesson_price  qualification  mean_exam_points  \\\n",
       "0                0.000000      0.520000       0.333333          0.611940   \n",
       "1                0.222222      0.280000       0.333333          0.358209   \n",
       "2                0.333333      0.413333       0.000000          0.492537   \n",
       "3                0.333333      0.226667       0.000000          0.492537   \n",
       "4                0.333333      0.546667       0.333333          0.597015   \n",
       "...                   ...           ...            ...               ...   \n",
       "9995             0.222222      0.520000       0.333333          0.686567   \n",
       "9996             0.222222      0.306667       0.000000          0.388060   \n",
       "9997             0.555556      0.413333       0.000000          0.388060   \n",
       "9998             0.000000      0.400000       0.333333          0.582090   \n",
       "9999             0.555556      0.266667       0.000000          0.104478   \n",
       "\n",
       "      choose  \n",
       "0        0.0  \n",
       "1        1.0  \n",
       "2        0.0  \n",
       "3        1.0  \n",
       "4        0.0  \n",
       "...      ...  \n",
       "9995     0.0  \n",
       "9996     0.0  \n",
       "9997     0.0  \n",
       "9998     0.0  \n",
       "9999     0.0  \n",
       "\n",
       "[10000 rows x 12 columns]"
      ]
     },
     "execution_count": 9,
     "metadata": {},
     "output_type": "execute_result"
    }
   ],
   "source": [
    "#X_norm = X.copy().astype(np.float64)\n",
    "#Y_norm = Y.copy().astype(np.float64) data.take([column_index], axis=1)\n",
    "df_raw = df_raw #.head(2000)\n",
    "df = min_max_scale(df_raw)\n",
    "df"
   ]
  },
  {
   "cell_type": "code",
   "execution_count": 10,
   "id": "e5bbed87-de29-477d-bb6b-daea040407f0",
   "metadata": {},
   "outputs": [
    {
     "data": {
      "text/plain": [
       "'physics'"
      ]
     },
     "execution_count": 10,
     "metadata": {},
     "output_type": "execute_result"
    }
   ],
   "source": [
    "df[features[0]].name"
   ]
  },
  {
   "cell_type": "code",
   "execution_count": 11,
   "id": "cee04b89-fad5-46b5-b5f7-53a90679b47f",
   "metadata": {},
   "outputs": [],
   "source": [
    "# ДОПОЛНИТЕЛЬНО"
   ]
  },
  {
   "cell_type": "code",
   "execution_count": 12,
   "id": "8c1f061a-26c6-4cc2-b838-5229e71a9952",
   "metadata": {},
   "outputs": [
    {
     "name": "stdout",
     "output_type": "stream",
     "text": [
      "Корреляция physics с целевой переменной 0.19518269272542058\n",
      "Корреляция chemistry с целевой переменной 0.09187793149862475\n",
      "Корреляция biology с целевой переменной 0.07130966999276674\n",
      "Корреляция english с целевой переменной 0.022226605633193754\n",
      "Корреляция geography с целевой переменной 0.006366275269402069\n",
      "Корреляция history с целевой переменной -0.004699654466494752\n",
      "Корреляция age с целевой переменной 0.017164826103781675\n",
      "Корреляция years_of_experience с целевой переменной 0.02901049102172588\n",
      "Корреляция lesson_price с целевой переменной -0.13401319037834666\n",
      "Корреляция qualification с целевой переменной 0.042160313749334655\n",
      "Корреляция mean_exam_points с целевой переменной 0.10940856144347774\n"
     ]
    }
   ],
   "source": [
    "def corr(x, y):\n",
    "    mean_x = x.mean()\n",
    "    mean_y = y.mean()\n",
    "    corr = np.sum((x - mean_x) * (y - mean_y)) / np.sqrt(np.sum((x - mean_x)**2) * np.sum((y - mean_y) ** 2))\n",
    "    return corr\n",
    "\n",
    "\n",
    "print(f'Корреляция {df[features[0]].name} с целевой переменной {corr(df[features[0]], df[target[0]])}')\n",
    "print(f'Корреляция {df[features[1]].name} с целевой переменной {corr(df[features[1]], df[target[0]])}')\n",
    "print(f'Корреляция {df[features[2]].name} с целевой переменной {corr(df[features[2]], df[target[0]])}')\n",
    "print(f'Корреляция {df[features[3]].name} с целевой переменной {corr(df[features[3]], df[target[0]])}')\n",
    "print(f'Корреляция {df[features[4]].name} с целевой переменной {corr(df[features[4]], df[target[0]])}')\n",
    "print(f'Корреляция {df[features[5]].name} с целевой переменной {corr(df[features[5]], df[target[0]])}')\n",
    "print(f'Корреляция {df[features[6]].name} с целевой переменной {corr(df[features[6]], df[target[0]])}')\n",
    "print(f'Корреляция {df[features[7]].name} с целевой переменной {corr(df[features[7]], df[target[0]])}')\n",
    "print(f'Корреляция {df[features[8]].name} с целевой переменной {corr(df[features[8]], df[target[0]])}')\n",
    "print(f'Корреляция {df[features[9]].name} с целевой переменной {corr(df[features[9]], df[target[0]])}')\n",
    "print(f'Корреляция {df[features[10]].name} с целевой переменной {corr(df[features[10]], df[target[0]])}')"
   ]
  },
  {
   "cell_type": "code",
   "execution_count": 33,
   "id": "0515da96-c241-416c-9e58-b9fee9951535",
   "metadata": {},
   "outputs": [],
   "source": [
    "def dispersion(df, features_num, new_f):\n",
    "    # Найдем собственные векторы и собственные значения\n",
    " \n",
    "    covariance_matrix = df.T @ df\n",
    "    \n",
    "    eig_values, eig_vectors = np.linalg.eig(covariance_matrix)\n",
    "    \n",
    "    # сформируем список кортежей (собственное значение, собственный вектор)\n",
    "    eig_pairs = [(np.abs(eig_values[i]), eig_vectors[:, i]) for i in range(len(eig_values))]\n",
    "    \n",
    "    # и отсортируем список по убыванию собственных значений\n",
    "    eig_pairs.sort(key=lambda x: x[0], reverse=True)\n",
    "    \n",
    "    print('Собственные значения и собственные векторы в порядке убывания:')\n",
    "    for i in eig_pairs:\n",
    "        print(i)\n",
    "    # Оценим долю дисперсии, которая описывается найденными компонентами.\n",
    "    eig_sum = sum(eig_values)\n",
    "    var_exp = [(i / eig_sum) * 100 for i in sorted(eig_values, reverse=True)]\n",
    "    cum_var_exp = np.cumsum(var_exp)\n",
    "    print(f'Доля дисперсии, описываемая каждой из компонент \\n{var_exp}')\n",
    "    \n",
    "    # а теперь оценим кумулятивную (то есть накапливаемую) дисперсию при учитывании каждой из компонент\n",
    "    print(f'Кумулятивная доля дисперсии по компонентам \\n{cum_var_exp}')\n",
    "    # Сформируем вектор весов из собственных векторов, соответствующих первым семи главным компонентам\n",
    "    W = np.hstack([eig_pairs[i][1].reshape(features_num,1) for i in range(new_f)])\n",
    "\n",
    "    print(f'Матрица весов W:\\n', W)\n",
    "    # Сформируем новую матрицу \"объекты-признаки\"\n",
    "    Z = df.dot(W)\n",
    "    return Z"
   ]
  },
  {
   "cell_type": "code",
   "execution_count": 45,
   "id": "4e99aa25-91b7-4fed-b4b7-618507138d27",
   "metadata": {},
   "outputs": [
    {
     "name": "stdout",
     "output_type": "stream",
     "text": [
      "Собственные значения и собственные векторы в порядке убывания:\n",
      "(10269.854565532964, array([0.45721012, 0.12725217, 0.12159322, 0.05788671, 0.0264571 ,\n",
      "       0.01708388, 0.48543094, 0.22326123, 0.39878874, 0.27681903,\n",
      "       0.48423978]))\n",
      "(1996.7964137624203, array([ 0.88194422, -0.08665919, -0.10108962, -0.03222547, -0.01945612,\n",
      "       -0.00661825, -0.20443869, -0.12222499, -0.21612302, -0.24301425,\n",
      "       -0.2012099 ]))\n",
      "(1071.219396380397, array([ 0.01082381,  0.94177089,  0.22520096, -0.01139429, -0.00170526,\n",
      "        0.00357594,  0.0064372 , -0.05074276, -0.08934702, -0.19931429,\n",
      "       -0.1084624 ]))\n",
      "(1026.672473076432, array([ 0.02295588, -0.2601892 ,  0.95717904,  0.00247163, -0.01011656,\n",
      "       -0.00731   , -0.03645381, -0.03011782, -0.04573417, -0.09101091,\n",
      "       -0.05301353]))\n",
      "(684.9314906022516, array([ 0.07953349,  0.13886575,  0.08150469, -0.23858743, -0.02044175,\n",
      "       -0.01856847, -0.67376762, -0.11249179,  0.06656763,  0.62781037,\n",
      "        0.21181783]))\n",
      "(549.4832442789276, array([ 0.02040246,  0.03483942,  0.00897493,  0.96828049,  0.01371641,\n",
      "       -0.01254641, -0.21206388, -0.04362952, -0.00707914,  0.11270647,\n",
      "        0.02737261]))\n",
      "(342.7093047398868, array([-0.0133679 , -0.01672646, -0.00737512,  0.0038719 ,  0.03250856,\n",
      "        0.01856389,  0.26988622, -0.95157172,  0.03949289,  0.09072036,\n",
      "        0.09976738]))\n",
      "(269.35782736131205, array([ 0.00321979, -0.00473865,  0.00471548, -0.02169243,  0.99704132,\n",
      "       -0.00977783, -0.05563003,  0.01617042, -0.00437415, -0.03903235,\n",
      "        0.01971132]))\n",
      "(176.92295614380163, array([-0.00599791, -0.00734885,  0.00199866,  0.00432865,  0.00330901,\n",
      "        0.99516324, -0.06363798,  0.00250163,  0.01963021, -0.05279157,\n",
      "        0.04793866]))\n",
      "(140.3888663585015, array([ 0.06886618,  0.02841751,  0.03573546,  0.02160661,  0.05509791,\n",
      "        0.09101469,  0.35192567,  0.08493516, -0.25768913,  0.62489942,\n",
      "       -0.62723038]))\n",
      "(70.41181502827173, array([ 0.02792371,  0.00222759, -0.00275279, -0.00353618,  0.00390991,\n",
      "       -0.00470529, -0.13573019, -0.06484721,  0.84340658, -0.08010983,\n",
      "       -0.50870198]))\n",
      "Доля дисперсии, описываемая каждой из компонент \n",
      "[61.87125888629286, 12.029801110694152, 6.4536154990847585, 6.185240303823713, 4.126404449450657, 3.3103896304978795, 2.0646695608977765, 1.6227598709774176, 1.0658813085084142, 0.8457798345432798, 0.424199545229089]\n",
      "Кумулятивная доля дисперсии по компонентам \n",
      "[ 61.87125889  73.90106     80.3546755   86.5399158   90.66632025\n",
      "  93.97670988  96.04137944  97.66413931  98.73002062  99.57580045\n",
      " 100.        ]\n",
      "Матрица весов W:\n",
      " [[ 0.45721012  0.88194422  0.01082381  0.02295588  0.07953349  0.02040246\n",
      "  -0.0133679 ]\n",
      " [ 0.12725217 -0.08665919  0.94177089 -0.2601892   0.13886575  0.03483942\n",
      "  -0.01672646]\n",
      " [ 0.12159322 -0.10108962  0.22520096  0.95717904  0.08150469  0.00897493\n",
      "  -0.00737512]\n",
      " [ 0.05788671 -0.03222547 -0.01139429  0.00247163 -0.23858743  0.96828049\n",
      "   0.0038719 ]\n",
      " [ 0.0264571  -0.01945612 -0.00170526 -0.01011656 -0.02044175  0.01371641\n",
      "   0.03250856]\n",
      " [ 0.01708388 -0.00661825  0.00357594 -0.00731    -0.01856847 -0.01254641\n",
      "   0.01856389]\n",
      " [ 0.48543094 -0.20443869  0.0064372  -0.03645381 -0.67376762 -0.21206388\n",
      "   0.26988622]\n",
      " [ 0.22326123 -0.12222499 -0.05074276 -0.03011782 -0.11249179 -0.04362952\n",
      "  -0.95157172]\n",
      " [ 0.39878874 -0.21612302 -0.08934702 -0.04573417  0.06656763 -0.00707914\n",
      "   0.03949289]\n",
      " [ 0.27681903 -0.24301425 -0.19931429 -0.09101091  0.62781037  0.11270647\n",
      "   0.09072036]\n",
      " [ 0.48423978 -0.2012099  -0.1084624  -0.05301353  0.21181783  0.02737261\n",
      "   0.09976738]]\n"
     ]
    }
   ],
   "source": [
    "Z = dispersion(df[features], 11, 7)"
   ]
  },
  {
   "cell_type": "code",
   "execution_count": 46,
   "id": "de38d8ef-4ef1-4fee-9f81-6fba2f1b7aa4",
   "metadata": {},
   "outputs": [
    {
     "data": {
      "text/plain": [
       "0    0.0\n",
       "1    0.0\n",
       "2    0.0\n",
       "3    0.0\n",
       "4    0.0\n",
       "5    0.0\n",
       "6    0.0\n",
       "dtype: float64"
      ]
     },
     "execution_count": 46,
     "metadata": {},
     "output_type": "execute_result"
    }
   ],
   "source": [
    "Z = min_max_scale(Z)\n",
    "Z.min()"
   ]
  },
  {
   "cell_type": "code",
   "execution_count": 38,
   "id": "6d7916ba-2660-4101-bb4e-b93a9436a567",
   "metadata": {},
   "outputs": [],
   "source": [
    "#train_data, test_data, train_target, test_target = train_test_split(Z,  df[target].head(2000), #X_train, X_test, y_train, y_test\n",
    "#                                                                    test_size=0.3,\n",
    "#                                                                    random_state=1)"
   ]
  },
  {
   "cell_type": "code",
   "execution_count": 19,
   "id": "90624a8c-54ac-4005-8d59-1c838ebb2402",
   "metadata": {},
   "outputs": [],
   "source": [
    "# ДОПОЛНИТЕЛЬНО в итоге от этого только хуже, поэтому убрал"
   ]
  },
  {
   "cell_type": "code",
   "execution_count": 20,
   "id": "4d4574c6-04b6-4d40-a4c9-e36729010c15",
   "metadata": {},
   "outputs": [],
   "source": [
    "def e_metrics(x1, x2):\n",
    "    \n",
    "    distance = np.sum(np.square(x1 - x2))\n",
    "\n",
    "    return np.sqrt(distance)"
   ]
  },
  {
   "cell_type": "code",
   "execution_count": 21,
   "id": "71ef77e5-c4f6-4887-bc1d-1d09cc3c8d56",
   "metadata": {},
   "outputs": [],
   "source": [
    "def knn(x_train, y_train, x_test, k):\n",
    "    \n",
    "    answers = []\n",
    "    for x in x_test:\n",
    "        test_distances = []\n",
    "            \n",
    "        for i in range(len(x_train)):\n",
    "            \n",
    "            # расчет расстояния от классифицируемого объекта до\n",
    "            # объекта обучающей выборки\n",
    "            distance = e_metrics(x, x_train[i])\n",
    "            \n",
    "            # Записываем в список значение расстояния и ответа на объекте обучающей выборки\n",
    "            test_distances.append((distance, y_train[i]))\n",
    "        \n",
    "        # создаем словарь со всеми возможными классами\n",
    "        classes = {class_item: 0 for class_item in set(y_train)}\n",
    "        \n",
    "        # Сортируем список и среди первых k элементов подсчитаем частоту появления разных классов\n",
    "        for d in sorted(test_distances)[0:k]:\n",
    "            classes[d[1]] += 1\n",
    "\n",
    "        # Записываем в список ответов наиболее часто встречающийся класс\n",
    "        answers.append(sorted(classes, key=classes.get)[-1])\n",
    "        \n",
    "    return answers"
   ]
  },
  {
   "cell_type": "code",
   "execution_count": 22,
   "id": "8f3a3a84-efaa-4b42-845e-bb956af4d39a",
   "metadata": {},
   "outputs": [
    {
     "data": {
      "text/plain": [
       "{0.0, 1.0}"
      ]
     },
     "execution_count": 22,
     "metadata": {},
     "output_type": "execute_result"
    }
   ],
   "source": [
    "#set(train_target.values.flatten())"
   ]
  },
  {
   "cell_type": "code",
   "execution_count": 39,
   "id": "3c62d1dd-7c45-4b23-9f5a-58de0b1b2049",
   "metadata": {},
   "outputs": [],
   "source": [
    "#ans = knn(train_data.values, train_target.values.flatten(), test_data.values, 5)"
   ]
  },
  {
   "cell_type": "code",
   "execution_count": 40,
   "id": "db379e9a-f3a3-495b-af7b-d6fd3e93246d",
   "metadata": {},
   "outputs": [
    {
     "data": {
      "text/plain": [
       "600"
      ]
     },
     "execution_count": 40,
     "metadata": {},
     "output_type": "execute_result"
    }
   ],
   "source": [
    "#len(ans)"
   ]
  },
  {
   "cell_type": "code",
   "execution_count": 41,
   "id": "45bfa074-5f01-4225-a6b9-f054e9b2057f",
   "metadata": {},
   "outputs": [],
   "source": [
    "def accuracy(pred, y):\n",
    "    return (sum(pred == y) / len(y))"
   ]
  },
  {
   "cell_type": "code",
   "execution_count": 42,
   "id": "e6dd6a65-b6d4-46bb-8394-5847e0ccd3df",
   "metadata": {},
   "outputs": [
    {
     "name": "stdout",
     "output_type": "stream",
     "text": [
      "Точность алгоритма при k = 5: 0.997\n"
     ]
    }
   ],
   "source": [
    "#k = 2\n",
    "\n",
    "#print(f'Точность алгоритма при k = {5}: {accuracy(ans, test_target.values.flatten()):.3f}')"
   ]
  },
  {
   "cell_type": "code",
   "execution_count": 27,
   "id": "d5a31deb-5356-4c2b-9163-7060d50e58ab",
   "metadata": {},
   "outputs": [],
   "source": [
    "df_test_raw = pd.read_csv('./data/test2.csv', sep=',')"
   ]
  },
  {
   "cell_type": "code",
   "execution_count": 28,
   "id": "2f029187-c8fd-443d-a2e7-3c25f4a1a944",
   "metadata": {},
   "outputs": [],
   "source": [
    "df_test_raw = df_test_raw[features] #.head(2000)\n",
    "df_test =  min_max_scale(df_test_raw)"
   ]
  },
  {
   "cell_type": "code",
   "execution_count": 56,
   "id": "90654d50-6645-4f09-bc85-2e5bf6b69f25",
   "metadata": {},
   "outputs": [],
   "source": [
    "#Z_test = dispersion(df_test, 11, 7)\n",
    "#Z_test = min_max_scale(Z_test)\n",
    "#Z_test.min()"
   ]
  },
  {
   "cell_type": "code",
   "execution_count": 29,
   "id": "6e77b025-2291-4eda-b42d-069ddd49b0d2",
   "metadata": {},
   "outputs": [],
   "source": [
    "%time test_ans = knn(df[features].values, df[target].values.flatten(), df_test.values, 5)"
   ]
  },
  {
   "cell_type": "code",
   "execution_count": 48,
   "id": "1d9a4693-4a4d-48e1-99a5-d575f146b2ce",
   "metadata": {},
   "outputs": [
    {
     "name": "stdout",
     "output_type": "stream",
     "text": [
      "Wall time: 18min 44s\n"
     ]
    }
   ],
   "source": [
    "#%time test_ans = knn(Z.values, df[target].values.flatten(), Z_test.values, 5) #очень долго"
   ]
  },
  {
   "cell_type": "code",
   "execution_count": 49,
   "id": "472ca096-f6f4-444d-8503-39f48151575d",
   "metadata": {},
   "outputs": [
    {
     "name": "stdout",
     "output_type": "stream",
     "text": [
      "964 9036\n"
     ]
    }
   ],
   "source": [
    "print(test_ans.count(1), test_ans.count(0) )"
   ]
  },
  {
   "cell_type": "code",
   "execution_count": 50,
   "id": "a784130d-4c91-459d-ab2d-fd51b3ab68d7",
   "metadata": {},
   "outputs": [
    {
     "data": {
      "text/plain": [
       "10000"
      ]
     },
     "execution_count": 50,
     "metadata": {},
     "output_type": "execute_result"
    }
   ],
   "source": [
    "len(test_ans)"
   ]
  },
  {
   "cell_type": "code",
   "execution_count": 51,
   "id": "f1fee630-7477-421d-b8bc-05a4a5bc0aef",
   "metadata": {},
   "outputs": [
    {
     "data": {
      "text/plain": [
       "{0.0, 1.0}"
      ]
     },
     "execution_count": 51,
     "metadata": {},
     "output_type": "execute_result"
    }
   ],
   "source": [
    "set(test_ans)"
   ]
  },
  {
   "cell_type": "code",
   "execution_count": 52,
   "id": "56049761-45df-43a8-af29-e9c087b16207",
   "metadata": {},
   "outputs": [],
   "source": [
    "sample = pd.read_csv('./data/sample_submission2.csv', sep=',')\n",
    "sample = sample #.head(2000)"
   ]
  },
  {
   "cell_type": "code",
   "execution_count": 53,
   "id": "6b8bdf8e-8e1f-4625-acb4-681e7c492146",
   "metadata": {},
   "outputs": [],
   "source": [
    "sample['choose'] = test_ans"
   ]
  },
  {
   "cell_type": "code",
   "execution_count": 54,
   "id": "ba495aaf-1852-4cad-b272-901e3a2d2988",
   "metadata": {},
   "outputs": [
    {
     "data": {
      "text/html": [
       "<div>\n",
       "<style scoped>\n",
       "    .dataframe tbody tr th:only-of-type {\n",
       "        vertical-align: middle;\n",
       "    }\n",
       "\n",
       "    .dataframe tbody tr th {\n",
       "        vertical-align: top;\n",
       "    }\n",
       "\n",
       "    .dataframe thead th {\n",
       "        text-align: right;\n",
       "    }\n",
       "</style>\n",
       "<table border=\"1\" class=\"dataframe\">\n",
       "  <thead>\n",
       "    <tr style=\"text-align: right;\">\n",
       "      <th></th>\n",
       "      <th>Id</th>\n",
       "      <th>choose</th>\n",
       "    </tr>\n",
       "  </thead>\n",
       "  <tbody>\n",
       "    <tr>\n",
       "      <th>0</th>\n",
       "      <td>10000</td>\n",
       "      <td>1.0</td>\n",
       "    </tr>\n",
       "    <tr>\n",
       "      <th>1</th>\n",
       "      <td>10001</td>\n",
       "      <td>0.0</td>\n",
       "    </tr>\n",
       "    <tr>\n",
       "      <th>2</th>\n",
       "      <td>10002</td>\n",
       "      <td>0.0</td>\n",
       "    </tr>\n",
       "    <tr>\n",
       "      <th>3</th>\n",
       "      <td>10003</td>\n",
       "      <td>0.0</td>\n",
       "    </tr>\n",
       "    <tr>\n",
       "      <th>4</th>\n",
       "      <td>10004</td>\n",
       "      <td>0.0</td>\n",
       "    </tr>\n",
       "    <tr>\n",
       "      <th>...</th>\n",
       "      <td>...</td>\n",
       "      <td>...</td>\n",
       "    </tr>\n",
       "    <tr>\n",
       "      <th>9995</th>\n",
       "      <td>19995</td>\n",
       "      <td>0.0</td>\n",
       "    </tr>\n",
       "    <tr>\n",
       "      <th>9996</th>\n",
       "      <td>19996</td>\n",
       "      <td>0.0</td>\n",
       "    </tr>\n",
       "    <tr>\n",
       "      <th>9997</th>\n",
       "      <td>19997</td>\n",
       "      <td>0.0</td>\n",
       "    </tr>\n",
       "    <tr>\n",
       "      <th>9998</th>\n",
       "      <td>19998</td>\n",
       "      <td>0.0</td>\n",
       "    </tr>\n",
       "    <tr>\n",
       "      <th>9999</th>\n",
       "      <td>19999</td>\n",
       "      <td>0.0</td>\n",
       "    </tr>\n",
       "  </tbody>\n",
       "</table>\n",
       "<p>10000 rows × 2 columns</p>\n",
       "</div>"
      ],
      "text/plain": [
       "         Id  choose\n",
       "0     10000     1.0\n",
       "1     10001     0.0\n",
       "2     10002     0.0\n",
       "3     10003     0.0\n",
       "4     10004     0.0\n",
       "...     ...     ...\n",
       "9995  19995     0.0\n",
       "9996  19996     0.0\n",
       "9997  19997     0.0\n",
       "9998  19998     0.0\n",
       "9999  19999     0.0\n",
       "\n",
       "[10000 rows x 2 columns]"
      ]
     },
     "execution_count": 54,
     "metadata": {},
     "output_type": "execute_result"
    }
   ],
   "source": [
    "sample"
   ]
  },
  {
   "cell_type": "code",
   "execution_count": 55,
   "id": "98c250e8-889f-43f1-b6c5-7a04b174d536",
   "metadata": {},
   "outputs": [],
   "source": [
    "sample.to_csv('./data/ANSWERS.csv', index=False)"
   ]
  },
  {
   "cell_type": "code",
   "execution_count": null,
   "id": "9b9db88d-02e4-4afd-be8c-a470869ad2eb",
   "metadata": {},
   "outputs": [],
   "source": []
  }
 ],
 "metadata": {
  "kernelspec": {
   "display_name": "Python 3",
   "language": "python",
   "name": "python3"
  },
  "language_info": {
   "codemirror_mode": {
    "name": "ipython",
    "version": 3
   },
   "file_extension": ".py",
   "mimetype": "text/x-python",
   "name": "python",
   "nbconvert_exporter": "python",
   "pygments_lexer": "ipython3",
   "version": "3.8.8"
  }
 },
 "nbformat": 4,
 "nbformat_minor": 5
}
