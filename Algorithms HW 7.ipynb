{
 "cells": [
  {
   "cell_type": "markdown",
   "id": "dac10e1c-6e79-498a-b235-8a85590d5cd0",
   "metadata": {},
   "source": [
    "__Домашняя работа 7.__"
   ]
  },
  {
   "cell_type": "code",
   "execution_count": 1,
   "id": "fb928d04-49a7-4866-afeb-a9e5aa88efc9",
   "metadata": {},
   "outputs": [],
   "source": [
    "import numpy as np\n",
    "from sklearn.model_selection import train_test_split\n",
    "from sklearn.datasets import load_iris"
   ]
  },
  {
   "cell_type": "markdown",
   "id": "766dc6e2-da9b-42a4-9647-a0d0e436cea4",
   "metadata": {},
   "source": [
    "__Задание 1.__ К алгоритму kNN, реализованному на уроке, реализовать добавление весов для соседей по любому из показанных на уроке принципов."
   ]
  },
  {
   "cell_type": "code",
   "execution_count": 2,
   "id": "ada8b753-185a-4f03-a30a-f2b86f4c7a9c",
   "metadata": {},
   "outputs": [],
   "source": [
    "def e_metrics(x1, x2):\n",
    "    \n",
    "    distance = np.sum(np.square(x1 - x2))\n",
    "\n",
    "    return np.sqrt(distance)"
   ]
  },
  {
   "cell_type": "code",
   "execution_count": 3,
   "id": "37ad67f1-c632-4e92-97af-d7e39adc80e7",
   "metadata": {},
   "outputs": [],
   "source": [
    "def knn(x_train, y_train, x_test, k, q):\n",
    "    answers = []\n",
    "    for x in x_test:\n",
    "        test_distances = []\n",
    "            \n",
    "        for i in range(len(x_train)):\n",
    "            \n",
    "            # расчет расстояния от классифицируемого объекта до\n",
    "            # объекта обучающей выборки\n",
    "            distance = e_metrics(x, x_train[i])\n",
    "            \n",
    "            # Записываем в список значение расстояния и ответа на объекте обучающей выборки\n",
    "            test_distances.append((distance, y_train[i]))\n",
    "        \n",
    "        # создаем словарь со всеми возможными классами\n",
    "        classes = {class_item: 0 for class_item in set(y_train)}\n",
    "        \n",
    "        # Сортируем список и среди первых k элементов подсчитаем частоту появления разных классов\n",
    "        for d in sorted(test_distances)[0:k]:\n",
    "            #ИЗМЕНЕНИЯ:\n",
    "            classes[d[1]] += q**d[0]       #1\n",
    "        # Записываем в список ответов наиболее часто встречающийся класс\n",
    "        answers.append(sorted(classes, key=classes.get)[-1])\n",
    "        \n",
    "    return answers"
   ]
  },
  {
   "cell_type": "code",
   "execution_count": 4,
   "id": "ec5ff5a3-c281-455f-af81-d4da47619855",
   "metadata": {},
   "outputs": [],
   "source": [
    "def accuracy(pred, y):\n",
    "    return (sum(pred == y) / len(y))"
   ]
  },
  {
   "cell_type": "code",
   "execution_count": 5,
   "id": "f27215d6-eb8f-40bd-ae5c-c4c569b266ec",
   "metadata": {},
   "outputs": [],
   "source": [
    "X, y = load_iris(return_X_y=True)\n",
    "\n",
    "# Для наглядности возьмем только первые два признака (всего в датасете их 4)\n",
    "X = X[:, :2]"
   ]
  },
  {
   "cell_type": "code",
   "execution_count": 6,
   "id": "c8928c75-ff40-4e86-a672-6bf8b266e5d3",
   "metadata": {},
   "outputs": [],
   "source": [
    "X_train, X_test, y_train, y_test = train_test_split(X, y,\n",
    "                                                    test_size=0.2,\n",
    "                                                    random_state=1,\n",
    "                                                    stratify=y)"
   ]
  },
  {
   "cell_type": "code",
   "execution_count": 7,
   "id": "d3d50271-9a4d-47c7-87ee-844e3a633015",
   "metadata": {},
   "outputs": [
    {
     "name": "stdout",
     "output_type": "stream",
     "text": [
      "Точность алгоритма при k = 99, q = 0.000: 0.533\n",
      "Точность алгоритма при k = 36, q = 0.111: 0.767\n",
      "Точность алгоритма при k = 37, q = 0.222: 0.767\n",
      "Точность алгоритма при k = 37, q = 0.333: 0.767\n",
      "Точность алгоритма при k = 37, q = 0.444: 0.767\n",
      "Точность алгоритма при k = 37, q = 0.556: 0.767\n",
      "Точность алгоритма при k = 37, q = 0.667: 0.767\n",
      "Точность алгоритма при k = 37, q = 0.778: 0.767\n",
      "Точность алгоритма при k = 37, q = 0.889: 0.767\n",
      "Точность алгоритма при k = 38, q = 1.000: 0.767\n"
     ]
    }
   ],
   "source": [
    "for q in np.linspace(0, 1, 10):\n",
    "    ans = []\n",
    "    for i in range(1,100):\n",
    "        y_pred = knn(X_train, y_train, X_test, i, q)\n",
    "        ans.append(accuracy(y_pred, y_test))\n",
    "    f = {x: ans[x-1] for x in range(1,100)}\n",
    "    k = sorted(f, key=f.get)[-1]\n",
    "    print(f'Точность алгоритма при k = {k}, q = {q:.3f}: {f[k]:.3f}')"
   ]
  },
  {
   "cell_type": "markdown",
   "id": "8c7e2d78-160f-4bca-813d-90318da65ee0",
   "metadata": {},
   "source": [
    "Вывод: Добавление весов от расстояния никак не влияет на точность предсказания. Больше 0.767 поднять точность не удалось"
   ]
  }
 ],
 "metadata": {
  "kernelspec": {
   "display_name": "Python 3",
   "language": "python",
   "name": "python3"
  },
  "language_info": {
   "codemirror_mode": {
    "name": "ipython",
    "version": 3
   },
   "file_extension": ".py",
   "mimetype": "text/x-python",
   "name": "python",
   "nbconvert_exporter": "python",
   "pygments_lexer": "ipython3",
   "version": "3.8.8"
  }
 },
 "nbformat": 4,
 "nbformat_minor": 5
}
