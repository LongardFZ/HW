{
 "cells": [
  {
   "cell_type": "markdown",
   "id": "2a632210-5658-4006-8c47-dfddb7b863f1",
   "metadata": {},
   "source": [
    "__Домашняя работа 6.__"
   ]
  },
  {
   "cell_type": "code",
   "execution_count": 1,
   "id": "001a348b-7372-4643-85b4-56379c9b85eb",
   "metadata": {},
   "outputs": [],
   "source": [
    "from sklearn import model_selection\n",
    "from sklearn.tree import DecisionTreeRegressor\n",
    "from sklearn.datasets import load_diabetes\n",
    "import matplotlib.pyplot as plt\n",
    "import numpy as np"
   ]
  },
  {
   "cell_type": "code",
   "execution_count": 2,
   "id": "010f9263-0d80-46cc-adae-982ec49ebcd3",
   "metadata": {},
   "outputs": [
    {
     "data": {
      "text/plain": [
       "array([[ 0.03807591,  0.05068012,  0.06169621, ..., -0.00259226,\n",
       "         0.01990842, -0.01764613],\n",
       "       [-0.00188202, -0.04464164, -0.05147406, ..., -0.03949338,\n",
       "        -0.06832974, -0.09220405],\n",
       "       [ 0.08529891,  0.05068012,  0.04445121, ..., -0.00259226,\n",
       "         0.00286377, -0.02593034],\n",
       "       ...,\n",
       "       [ 0.04170844,  0.05068012, -0.01590626, ..., -0.01107952,\n",
       "        -0.04687948,  0.01549073],\n",
       "       [-0.04547248, -0.04464164,  0.03906215, ...,  0.02655962,\n",
       "         0.04452837, -0.02593034],\n",
       "       [-0.04547248, -0.04464164, -0.0730303 , ..., -0.03949338,\n",
       "        -0.00421986,  0.00306441]])"
      ]
     },
     "execution_count": 2,
     "metadata": {},
     "output_type": "execute_result"
    }
   ],
   "source": [
    "X, y = load_diabetes(return_X_y=True)\n",
    "X"
   ]
  },
  {
   "cell_type": "code",
   "execution_count": 3,
   "id": "5bf757ad-98ba-49c5-8837-e8fedc0d6f94",
   "metadata": {},
   "outputs": [],
   "source": [
    "X_train, X_test, y_train, y_test = model_selection.train_test_split(X, y, test_size=0.25)"
   ]
  },
  {
   "cell_type": "code",
   "execution_count": 4,
   "id": "d77b2f07-f93a-4ff3-b4cb-0dc033134f19",
   "metadata": {},
   "outputs": [],
   "source": [
    "def gb_predict(X, trees_list, eta):\n",
    "    # Реализуемый алгоритм градиентного бустинга будет инициализироваться нулевыми значениями,\n",
    "    # поэтому все деревья из списка trees_list уже являются дополнительными и при предсказании\n",
    "    # прибавляются с шагом eta\n",
    "    \n",
    "        \n",
    "    predictions = np.array(\n",
    "        [sum([eta * alg.predict([x])[0] for alg in trees_list]) for x in X]\n",
    "    )\n",
    "\n",
    "    return predictions"
   ]
  },
  {
   "cell_type": "code",
   "execution_count": 5,
   "id": "3b8b8b4d-d607-4cf3-a5e2-68152b716029",
   "metadata": {},
   "outputs": [],
   "source": [
    "def mean_squared_error(y_real, prediction):\n",
    "    return (sum((y_real - prediction)**2)) / len(y_real)"
   ]
  },
  {
   "cell_type": "code",
   "execution_count": 6,
   "id": "5735aa2a-8c96-4ad7-ab86-fe0204aa06fc",
   "metadata": {},
   "outputs": [],
   "source": [
    "def residual(y, z):\n",
    "    return - (z - y)"
   ]
  },
  {
   "cell_type": "code",
   "execution_count": 7,
   "id": "6b79af47-34d4-4d9f-a6a2-64521ff38e24",
   "metadata": {},
   "outputs": [],
   "source": [
    "def gb_fit(n_trees, max_depth, X_train, X_test, y_train, y_test, eta):\n",
    "    \n",
    "    # Деревья будем записывать в список\n",
    "    trees = []\n",
    "    \n",
    "    # Будем записывать ошибки на обучающей и тестовой выборке на каждой итерации в список\n",
    "    train_errors = []\n",
    "    test_errors = []\n",
    "    \n",
    "    for i in range(n_trees):\n",
    "        tree = DecisionTreeRegressor(max_depth=max_depth, random_state=42)\n",
    "\n",
    "        # первый алгоритм просто обучаем на выборке и добавляем в список\n",
    "        if len(trees) == 0:\n",
    "            # обучаем первое дерево на обучающей выборке\n",
    "            tree.fit(X_train, y_train)\n",
    "            \n",
    "            train_errors.append(mean_squared_error(y_train, gb_predict(X_train, trees, eta)))\n",
    "            test_errors.append(mean_squared_error(y_test, gb_predict(X_test, trees, eta)))\n",
    "        else:\n",
    "            # Получим ответы на текущей композиции\n",
    "            target = gb_predict(X_train, trees, eta)\n",
    "            \n",
    "            # алгоритмы начиная со второго обучаем на сдвиг\n",
    "            tree.fit(X_train, residual(y_train, target))\n",
    "            \n",
    "            train_errors.append(mean_squared_error(y_train, gb_predict(X_train, trees, eta)))\n",
    "            test_errors.append(mean_squared_error(y_test, gb_predict(X_test, trees, eta)))\n",
    "\n",
    "        trees.append(tree)\n",
    "        \n",
    "    #return trees, train_errors, test_errors, max_depth\n",
    "    return len(trees), train_errors[-1], test_errors[-1], max_depth"
   ]
  },
  {
   "cell_type": "markdown",
   "id": "45832edf-31dc-4794-97a4-b18317d27292",
   "metadata": {},
   "source": [
    "__Задание 1.__ Для реализованной модели градиентного бустинга построить графики зависимости ошибки от количества деревьев в ансамбле и от максимальной глубины деревьев. Сделать выводы о зависимости ошибки от этих параметров."
   ]
  },
  {
   "cell_type": "code",
   "execution_count": 8,
   "id": "fcb0e7ef-8c0b-4202-a584-2044ad0093f9",
   "metadata": {},
   "outputs": [],
   "source": [
    "trees_f1 = []\n",
    "train_errors_f1 = []\n",
    "test_errors_f1 = []\n",
    "max_depth_f1 = []\n",
    "\n",
    "eta = 0.1\n",
    "for i, n_trees in enumerate([1, 3, 5, 10, 30]):\n",
    "        trees, train_errors, test_errors, depth = gb_fit(n_trees, 4, X_train, X_test, y_train, y_test, eta) \n",
    "        trees_f1.append(trees)\n",
    "        train_errors_f1.append(train_errors)\n",
    "        test_errors_f1.append(test_errors)\n",
    "        max_depth_f1.append(depth)"
   ]
  },
  {
   "cell_type": "code",
   "execution_count": 9,
   "id": "0f464e47-8e74-4034-90ad-7f76f287675c",
   "metadata": {},
   "outputs": [],
   "source": [
    "trees_f2 = []\n",
    "train_errors_f2 = []\n",
    "test_errors_f2 = []\n",
    "max_depth_f2 = []\n",
    "eta = 0.1\n",
    "for max_depth in range(1,6):\n",
    "        trees, train_errors, test_errors, depth = gb_fit(5, max_depth, X_train, X_test, y_train, y_test, eta) \n",
    "        trees_f2.append(trees)\n",
    "        train_errors_f2.append(train_errors)\n",
    "        test_errors_f2.append(test_errors)\n",
    "        max_depth_f2.append(depth)"
   ]
  },
  {
   "cell_type": "code",
   "execution_count": 18,
   "id": "a4cf33f5-c6cb-4597-8db1-95f95457195d",
   "metadata": {},
   "outputs": [],
   "source": [
    "def get_trees_plot(n_trees, train_err, test_err, depth):\n",
    "    print(n_trees)\n",
    "    plt.xlabel('trees')\n",
    "    plt.ylabel('MSE')\n",
    "    plt.xlim(0, max(n_trees))\n",
    "    plt.plot(n_trees, train_err, label='train error')\n",
    "    plt.plot(n_trees, test_err, label='test error')\n",
    "    plt.legend(loc='upper right')\n",
    "    plt.title(f'Деревьев={n_trees}, глубина={depth[0]}')\n",
    "    plt.show()"
   ]
  },
  {
   "cell_type": "code",
   "execution_count": 19,
   "id": "fe13b38d-78ae-43ac-8487-9f5285d18b32",
   "metadata": {},
   "outputs": [],
   "source": [
    "def get_depth_plot(n_trees, train_err, test_err, depth):\n",
    "    print(depth)\n",
    "    plt.xlabel('depth')\n",
    "    plt.ylabel('MSE')\n",
    "    plt.xlim(1, max(depth))\n",
    "    plt.plot(depth, train_err, label='train error')\n",
    "    plt.plot(depth, test_err, label='test error')\n",
    "    plt.legend(loc='upper right')\n",
    "    plt.title(f'Деревьев={n_trees[0]}, глубина={depth}')\n",
    "    plt.show()"
   ]
  },
  {
   "cell_type": "code",
   "execution_count": 20,
   "id": "0ef804b7-ddf7-4150-8fb7-94ef5a36f712",
   "metadata": {},
   "outputs": [
    {
     "name": "stdout",
     "output_type": "stream",
     "text": [
      "[1, 3, 5, 10, 30]\n"
     ]
    },
    {
     "data": {
      "image/png": "[encoded data removed]",
      "text/plain": [
       "<Figure size 432x288 with 1 Axes>"
      ]
     },
     "metadata": {
      "needs_background": "light"
     },
     "output_type": "display_data"
    }
   ],
   "source": [
    "get_trees_plot(trees_f1, train_errors_f1, test_errors_f1, max_depth_f1)"
   ]
  },
  {
   "cell_type": "code",
   "execution_count": 21,
   "id": "77684e17-f5bb-4e5c-9f5b-0bba0e7de1b2",
   "metadata": {},
   "outputs": [
    {
     "name": "stdout",
     "output_type": "stream",
     "text": [
      "[1, 2, 3, 4, 5]\n"
     ]
    },
    {
     "data": {
      "image/png": "[encoded data removed]",
      "text/plain": [
       "<Figure size 432x288 with 1 Axes>"
      ]
     },
     "metadata": {
      "needs_background": "light"
     },
     "output_type": "display_data"
    }
   ],
   "source": [
    "get_depth_plot(trees_f2, train_errors_f2, test_errors_f2, max_depth_f2)"
   ]
  },
  {
   "cell_type": "markdown",
   "id": "e5ced481-2a6d-49d4-9d85-89e9e9bc208e",
   "metadata": {},
   "source": [
    "С ростом глубины ошибка падает более равномерно, а с ростом количества деревьев выходит на асимптоту"
   ]
  },
  {
   "cell_type": "code",
   "execution_count": null,
   "id": "f714ed1e-f7c3-4870-9cfd-4a85f6171ae1",
   "metadata": {},
   "outputs": [],
   "source": []
  }
 ],
 "metadata": {
  "kernelspec": {
   "display_name": "Python 3",
   "language": "python",
   "name": "python3"
  },
  "language_info": {
   "codemirror_mode": {
    "name": "ipython",
    "version": 3
   },
   "file_extension": ".py",
   "mimetype": "text/x-python",
   "name": "python",
   "nbconvert_exporter": "python",
   "pygments_lexer": "ipython3",
   "version": "3.8.8"
  }
 },
 "nbformat": 4,
 "nbformat_minor": 5
}
