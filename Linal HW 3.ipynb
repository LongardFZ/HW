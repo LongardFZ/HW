{
 "cells": [
  {
   "cell_type": "code",
   "execution_count": 1,
   "metadata": {},
   "outputs": [],
   "source": [
    "import numpy as np\n",
    "np.set_printoptions(precision=2, suppress=True)"
   ]
  },
  {
   "cell_type": "markdown",
   "metadata": {},
   "source": [
    "__Домашняя работа 3.__"
   ]
  },
  {
   "cell_type": "markdown",
   "metadata": {},
   "source": [
    "__Задание 1.__ Найти собственные векторы и собственные значения для линейного оператора, заданного матрицей  \n",
    "\n",
    "$A=\\begin{pmatrix}\n",
    "-1 & -6\\\\ \n",
    "2 & 6\n",
    "\\end{pmatrix}.$"
   ]
  },
  {
   "cell_type": "markdown",
   "metadata": {},
   "source": [
    "detA = (-1 -x)*(6-x) +12 = -6 + x - 6x + x^2 + 12 = x^2 - 5x + 6"
   ]
  },
  {
   "cell_type": "markdown",
   "metadata": {},
   "source": [
    "D = 25 - 24 = 1    \n",
    "x = (2,3) - Собственные значения"
   ]
  },
  {
   "cell_type": "code",
   "execution_count": 3,
   "metadata": {},
   "outputs": [
    {
     "name": "stdout",
     "output_type": "stream",
     "text": [
      "Матрица A:\n",
      "[[-1 -6]\n",
      " [ 2  6]]\n",
      "Собственные значения:\n",
      "[2. 3.]\n",
      "Собственные векторы:\n",
      "[[-0.89  0.83]\n",
      " [ 0.45 -0.55]] (по столбцам)\n"
     ]
    }
   ],
   "source": [
    "a = np.array([[-1, -6], [2, 6]])\n",
    "w, v = np.linalg.eig(a)\n",
    " \n",
    "print(f'Матрица A:\\n{a}')\n",
    "print(f'Собственные значения:\\n{w}')\n",
    "print(f'Собственные векторы:\\n{v} (по столбцам)')"
   ]
  },
  {
   "cell_type": "code",
   "execution_count": 4,
   "metadata": {},
   "outputs": [
    {
     "name": "stdout",
     "output_type": "stream",
     "text": [
      "[[-1.81  0.92]]\n",
      "[[ 2.47 -1.64]]\n"
     ]
    }
   ],
   "source": [
    "s = np.array([[-0.89, 0.45]])\n",
    "t = np.array([[0.83, -0.55]])\n",
    "d = v[0]\n",
    "print(a.dot(s.T).T)\n",
    "print(a.dot(t.T).T)"
   ]
  },
  {
   "cell_type": "code",
   "execution_count": 5,
   "metadata": {},
   "outputs": [
    {
     "name": "stdout",
     "output_type": "stream",
     "text": [
      "[[-1.78  0.9 ]]\n",
      "[[ 2.49 -1.65]]\n"
     ]
    }
   ],
   "source": [
    "print(s*2)\n",
    "print(t*3)"
   ]
  },
  {
   "cell_type": "markdown",
   "metadata": {},
   "source": [
    "__Задание 2.__ Дан оператор поворота на 180 градусов, задаваемый матрицей \n",
    "\n",
    "$A=\\begin{pmatrix}\n",
    "-1 & 0\\\\ \n",
    "0 & -1\n",
    "\\end{pmatrix}.$\n",
    "\n",
    "Показать, что __любой__ вектор является для него собственным."
   ]
  },
  {
   "cell_type": "markdown",
   "metadata": {},
   "source": [
    "detA = (-1 -x)^2 = x^2 +2x +1     \n",
    "D = 0   \n",
    "x = -1 (Собственное значение)"
   ]
  },
  {
   "cell_type": "markdown",
   "metadata": {},
   "source": [
    "$\\begin{pmatrix}\n",
    "-1 & 0\\\\ \n",
    "0 & -1\n",
    "\\end{pmatrix}\n",
    "\\begin{pmatrix}\n",
    "s\\\\ \n",
    "t\n",
    "\\end{pmatrix}=\n",
    "\\begin{pmatrix}\n",
    "-s\\\\ \n",
    "-t\n",
    "\\end{pmatrix}\n",
    "$"
   ]
  },
  {
   "cell_type": "markdown",
   "metadata": {},
   "source": [
    "Для любого вектора умножение на собственное значение оператора А будет давать тот же результат, что и применение самого оператора А. То есть любой вектор будет собственным для оператора А"
   ]
  },
  {
   "cell_type": "markdown",
   "metadata": {},
   "source": [
    "__Задание 3.__ Пусть линейный оператор задан матрицей\n",
    "\n",
    "$A=\\begin{pmatrix}\n",
    "1 & 1\\\\ \n",
    "-1 & 3\n",
    "\\end{pmatrix}.$\n",
    "\n",
    "Установить, является ли вектор $x=(1,1)$ собственным вектором этого линейного оператора."
   ]
  },
  {
   "cell_type": "markdown",
   "metadata": {},
   "source": [
    "$\\begin{pmatrix}\n",
    "1 & 1\\\\ \n",
    "-1 & 3\n",
    "\\end{pmatrix}\n",
    "\\begin{pmatrix}\n",
    "1\\\\ \n",
    "1\n",
    "\\end{pmatrix}=\n",
    "\\begin{pmatrix}\n",
    "1 + 1\\\\ \n",
    "-1 + 3\n",
    "\\end{pmatrix}=\n",
    "\\begin{pmatrix}\n",
    "2\\\\ \n",
    "2\n",
    "\\end{pmatrix}=\n",
    "2*\n",
    "\\begin{pmatrix}\n",
    "1\\\\ \n",
    "1\n",
    "\\end{pmatrix}\n",
    "$"
   ]
  },
  {
   "cell_type": "markdown",
   "metadata": {},
   "source": [
    "Ответ: Да, является."
   ]
  },
  {
   "cell_type": "markdown",
   "metadata": {},
   "source": [
    "**Задание 4.** Пусть линейный оператор задан матрицей\n",
    "\n",
    "$A=\\begin{pmatrix} 0 & 3 & 0\\\\ 3 & 0 & 0\\\\ 0 & 0 & 3 \\end{pmatrix}.$\n",
    "\n",
    "Установить, является ли вектор $x=(3, -3, -4)$ собственным вектором этого линейного оператора."
   ]
  },
  {
   "cell_type": "markdown",
   "metadata": {},
   "source": [
    "$\\begin{pmatrix}\n",
    "0 & 3 & 0 \\\\ \n",
    "3 & 0 & 0 \\\\\n",
    "0 & 0 & 3\n",
    "\\end{pmatrix}\n",
    "\\begin{pmatrix}\n",
    "3\\\\ \n",
    "-3\\\\\n",
    "-4\n",
    "\\end{pmatrix}=\n",
    "\\begin{pmatrix}\n",
    "-9\\\\ \n",
    "9\\\\\n",
    "-12\n",
    "\\end{pmatrix}\n",
    "$"
   ]
  },
  {
   "cell_type": "markdown",
   "metadata": {},
   "source": [
    "Нет, не является, так как невозможно подобрать такую константу, при умножении на которую знак менялся бы не у всех ненулевых элементов вектора"
   ]
  }
 ],
 "metadata": {
  "kernelspec": {
   "display_name": "Python 3",
   "language": "python",
   "name": "python3"
  },
  "language_info": {
   "codemirror_mode": {
    "name": "ipython",
    "version": 3
   },
   "file_extension": ".py",
   "mimetype": "text/x-python",
   "name": "python",
   "nbconvert_exporter": "python",
   "pygments_lexer": "ipython3",
   "version": "3.8.3"
  }
 },
 "nbformat": 4,
 "nbformat_minor": 4
}
