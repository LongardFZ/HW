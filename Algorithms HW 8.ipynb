{
 "cells": [
  {
   "cell_type": "markdown",
   "id": "dfcb5da8-bae7-46a9-baf5-6970a74c4999",
   "metadata": {},
   "source": [
    "__Домашняя работа 8.__"
   ]
  },
  {
   "cell_type": "code",
   "execution_count": 1,
   "id": "411c86f2-d3d7-44de-bfcf-1bd094121bd3",
   "metadata": {},
   "outputs": [],
   "source": [
    "import numpy as np\n",
    "from sklearn import datasets\n",
    "from sklearn.metrics import mutual_info_score\n",
    "from sklearn.metrics.cluster import contingency_matrix\n",
    "from sklearn.model_selection import train_test_split\n",
    "import pandas as pd\n",
    "from sklearn.linear_model import LinearRegression, Lasso\n",
    "\n",
    "from sklearn.tree import DecisionTreeRegressor, plot_tree\n",
    "from sklearn.inspection import permutation_importance\n",
    "import matplotlib.pyplot as plt\n",
    "\n",
    "from sklearn.decomposition import PCA\n",
    "\n",
    "from sklearn.ensemble import BaggingClassifier\n",
    "from sklearn.metrics import accuracy_score\n",
    "\n",
    "from matplotlib.colors import ListedColormap"
   ]
  },
  {
   "cell_type": "code",
   "execution_count": 2,
   "id": "33eee740-99e4-47b6-bb11-d3939513ddab",
   "metadata": {},
   "outputs": [],
   "source": [
    "def standard_scale(x):\n",
    "    res = (x - x.mean(axis=0)) / x.std(axis=0)\n",
    "    return res"
   ]
  },
  {
   "cell_type": "code",
   "execution_count": 3,
   "id": "6ba4aca3-7e7a-4dd6-938a-fd4dac0a7eec",
   "metadata": {},
   "outputs": [],
   "source": [
    "def accuracy_metric(actual, predicted):\n",
    "    correct = 0\n",
    "    for i in range(len(actual)):\n",
    "        if actual[i] == predicted[i]:\n",
    "            correct += 1\n",
    "    return correct / float(len(actual)) * 100.0"
   ]
  },
  {
   "cell_type": "code",
   "execution_count": 4,
   "id": "d7444ef8-12d9-4b2d-9b16-fa2c6fa3e278",
   "metadata": {},
   "outputs": [],
   "source": [
    "def get_meshgrid(data, step=.05, border=1.2):\n",
    "    x_min, x_max = data[:, 0].min() - border, data[:, 0].max() + border\n",
    "    y_min, y_max = data[:, 1].min() - border, data[:, 1].max() + border\n",
    "    return np.meshgrid(np.arange(x_min, x_max, step), np.arange(y_min, y_max, step))\n",
    "\n",
    "\n",
    "def visualize(train_data, test_data, train_answers):\n",
    "    light_colors = ListedColormap(['#FFAAAA', '#AAFFAA','#00AAFF'])\n",
    "    colors = ListedColormap(['red', 'green', 'blue'])\n",
    "    plt.figure(figsize = (16, 7))\n",
    "\n",
    "    # график обучающей выборки\n",
    "    plt.subplot(1,2,1)\n",
    "    xx, yy = get_meshgrid(train_data)\n",
    "    mesh = dt2.predict(np.c_[xx.ravel(), yy.ravel()])\n",
    "    #mesh_predictions = np.array(predict(np.c_[xx.ravel(), yy.ravel()], my_tree)).reshape(xx.shape)\n",
    "    mesh_predictions = mesh.reshape(xx.shape)\n",
    "    plt.pcolormesh(xx, yy, mesh_predictions, cmap = light_colors, shading='auto')\n",
    "    plt.scatter(train_data[:, 0], train_data[:, 1], c = train_labels, cmap = colors)\n",
    "    plt.title(f'Train accuracy={train_accuracy_pca:.2f}')\n",
    "\n",
    "    # график тестовой выборки\n",
    "    plt.subplot(1,2,2)\n",
    "    plt.pcolormesh(xx, yy, mesh_predictions, cmap = light_colors, shading='auto')\n",
    "    plt.scatter(test_data[:, 0], test_data[:, 1], c = test_labels, cmap = colors)\n",
    "    plt.title(f'Test accuracy={test_accuracy_pca:.6f}')"
   ]
  },
  {
   "cell_type": "markdown",
   "id": "b85e05dd-93e3-4dcf-a251-ac4ab6575a56",
   "metadata": {},
   "source": [
    "__Задание 1.__ Обучить любую модель классификации на датасете IRIS до применения самописного PCA (2 компоненты) и после него. Сравнить качество классификации по отложенной выборке."
   ]
  },
  {
   "cell_type": "code",
   "execution_count": 5,
   "id": "1cbc0738-e9b5-4e6c-b224-01112d3af1a7",
   "metadata": {},
   "outputs": [
    {
     "data": {
      "text/plain": [
       "(150, 4)"
      ]
     },
     "execution_count": 5,
     "metadata": {},
     "output_type": "execute_result"
    }
   ],
   "source": [
    "# Загрузим игрушечный датасет из sklearn\n",
    "iris = datasets.load_iris()\n",
    "X = iris.data\n",
    "y = iris.target\n",
    "X.shape"
   ]
  },
  {
   "cell_type": "code",
   "execution_count": 6,
   "id": "23b8b0c5-70c2-43bd-9bd0-ee945c1d8c5b",
   "metadata": {},
   "outputs": [
    {
     "data": {
      "text/plain": [
       "array([0, 0, 0, 0, 0, 0, 0, 0, 0, 0, 0, 0, 0, 0, 0, 0, 0, 0, 0, 0, 0, 0,\n",
       "       0, 0, 0, 0, 0, 0, 0, 0, 0, 0, 0, 0, 0, 0, 0, 0, 0, 0, 0, 0, 0, 0,\n",
       "       0, 0, 0, 0, 0, 0, 1, 1, 1, 1, 1, 1, 1, 1, 1, 1, 1, 1, 1, 1, 1, 1,\n",
       "       1, 1, 1, 1, 1, 1, 1, 1, 1, 1, 1, 1, 1, 1, 1, 1, 1, 1, 1, 1, 1, 1,\n",
       "       1, 1, 1, 1, 1, 1, 1, 1, 1, 1, 1, 1, 2, 2, 2, 2, 2, 2, 2, 2, 2, 2,\n",
       "       2, 2, 2, 2, 2, 2, 2, 2, 2, 2, 2, 2, 2, 2, 2, 2, 2, 2, 2, 2, 2, 2,\n",
       "       2, 2, 2, 2, 2, 2, 2, 2, 2, 2, 2, 2, 2, 2, 2, 2, 2, 2])"
      ]
     },
     "execution_count": 6,
     "metadata": {},
     "output_type": "execute_result"
    }
   ],
   "source": [
    "y"
   ]
  },
  {
   "cell_type": "code",
   "execution_count": 7,
   "id": "2a89511a-3f62-4354-9e01-5c71a70f1cff",
   "metadata": {},
   "outputs": [],
   "source": [
    "# Для начала отмасштабируем выборку\n",
    "X = X.astype(float)\n",
    "\n",
    "X = standard_scale(X)"
   ]
  },
  {
   "cell_type": "code",
   "execution_count": 8,
   "id": "873d7695-94fb-4bc6-8ef3-d53c98509d98",
   "metadata": {},
   "outputs": [],
   "source": [
    "# Разобьем на тренировочную и тестовую выборки\n",
    "train_data, test_data, train_labels, test_labels = train_test_split(X, y, \n",
    "                                                                    test_size=0.3,\n",
    "                                                                    random_state=1)"
   ]
  },
  {
   "cell_type": "code",
   "execution_count": 9,
   "id": "4261aa42-cda3-4a48-9494-09137ff1eea9",
   "metadata": {},
   "outputs": [
    {
     "data": {
      "text/plain": [
       "(150, 4)"
      ]
     },
     "execution_count": 9,
     "metadata": {},
     "output_type": "execute_result"
    }
   ],
   "source": [
    "X.shape"
   ]
  },
  {
   "cell_type": "markdown",
   "id": "ccde2597-620a-4cb8-b5a2-ac9de745b431",
   "metadata": {},
   "source": [
    "__до PCA__"
   ]
  },
  {
   "cell_type": "code",
   "execution_count": 10,
   "id": "77d42954-dfcb-4c6d-9e7b-c84aa02293b5",
   "metadata": {},
   "outputs": [
    {
     "name": "stdout",
     "output_type": "stream",
     "text": [
      "Train accuracy 1.0\n",
      "Test accuracy 0.9555555555555556\n"
     ]
    }
   ],
   "source": [
    "# Обучими модель и сделаем предсказание по 4 признакам\n",
    "dt = BaggingClassifier()\n",
    "dt.fit(train_data, train_labels)\n",
    "\n",
    "train_answers = dt.predict(train_data)\n",
    "test_answers = dt.predict(test_data)\n",
    "\n",
    "train_accuracy = accuracy_score(train_labels, train_answers)\n",
    "test_accuracy = accuracy_score(test_labels, test_answers)\n",
    "\n",
    "print(f'Train accuracy', train_accuracy)\n",
    "print(f'Test accuracy', test_accuracy)"
   ]
  },
  {
   "cell_type": "code",
   "execution_count": 11,
   "id": "9b93ec3d-facf-4695-9304-ff17a482aec6",
   "metadata": {},
   "outputs": [
    {
     "data": {
      "text/plain": [
       "(105,)"
      ]
     },
     "execution_count": 11,
     "metadata": {},
     "output_type": "execute_result"
    }
   ],
   "source": [
    "train_answers.shape"
   ]
  },
  {
   "cell_type": "markdown",
   "id": "460bca46-212b-4d66-8804-c9df8777ed1a",
   "metadata": {},
   "source": [
    "__PCA__"
   ]
  },
  {
   "cell_type": "code",
   "execution_count": 12,
   "id": "52cda68b-c330-4396-be20-cd69b486c960",
   "metadata": {},
   "outputs": [
    {
     "name": "stdout",
     "output_type": "stream",
     "text": [
      "Собственные значения и собственные векторы в порядке убывания:\n",
      "(437.77467247979865, array([ 0.52106591, -0.26934744,  0.5804131 ,  0.56485654]))\n",
      "(137.1045707202106, array([-0.37741762, -0.92329566, -0.02449161, -0.06694199]))\n",
      "(22.013531335697223, array([-0.71956635,  0.24438178,  0.14212637,  0.63427274]))\n",
      "(3.1072254642929384, array([ 0.26128628, -0.12350962, -0.80144925,  0.52359713]))\n"
     ]
    }
   ],
   "source": [
    "# Найдем собственные векторы и собственные значения\n",
    " \n",
    "covariance_matrix = X.T @ X\n",
    "\n",
    "eig_values, eig_vectors = np.linalg.eig(covariance_matrix)\n",
    "\n",
    "# сформируем список кортежей (собственное значение, собственный вектор)\n",
    "eig_pairs = [(np.abs(eig_values[i]), eig_vectors[:, i]) for i in range(len(eig_values))]\n",
    "\n",
    "# и отсортируем список по убыванию собственных значений\n",
    "eig_pairs.sort(key=lambda x: x[0], reverse=True)\n",
    "\n",
    "print('Собственные значения и собственные векторы в порядке убывания:')\n",
    "for i in eig_pairs:\n",
    "    print(i)"
   ]
  },
  {
   "cell_type": "code",
   "execution_count": 13,
   "id": "6b06072b-0b6e-4bca-a063-e72825b2866d",
   "metadata": {},
   "outputs": [
    {
     "name": "stdout",
     "output_type": "stream",
     "text": [
      "Доля дисперсии, описываемая каждой из компонент \n",
      "[72.96244541329986, 22.850761786701792, 3.6689218892828745, 0.5178709107154903]\n",
      "Кумулятивная доля дисперсии по компонентам \n",
      "[ 72.96244541  95.8132072   99.48212909 100.        ]\n"
     ]
    }
   ],
   "source": [
    "# Оценим долю дисперсии, которая описывается найденными компонентами.\n",
    "eig_sum = sum(eig_values)\n",
    "var_exp = [(i / eig_sum) * 100 for i in sorted(eig_values, reverse=True)]\n",
    "cum_var_exp = np.cumsum(var_exp)\n",
    "print(f'Доля дисперсии, описываемая каждой из компонент \\n{var_exp}')\n",
    "\n",
    "# а теперь оценим кумулятивную (то есть накапливаемую) дисперсию при учитывании каждой из компонент\n",
    "print(f'Кумулятивная доля дисперсии по компонентам \\n{cum_var_exp}')"
   ]
  },
  {
   "cell_type": "code",
   "execution_count": 14,
   "id": "49db4356-9563-4f0e-9468-027a94f7a305",
   "metadata": {},
   "outputs": [
    {
     "name": "stdout",
     "output_type": "stream",
     "text": [
      "Матрица весов W:\n",
      " [[ 0.52106591 -0.37741762]\n",
      " [-0.26934744 -0.92329566]\n",
      " [ 0.5804131  -0.02449161]\n",
      " [ 0.56485654 -0.06694199]]\n"
     ]
    }
   ],
   "source": [
    "# Сформируем вектор весов из собственных векторов, соответствующих первым двум главным компонентам\n",
    "W = np.hstack([eig_pairs[i][1].reshape(4,1) for i in range(2)])\n",
    "\n",
    "print(f'Матрица весов W:\\n', W)"
   ]
  },
  {
   "cell_type": "code",
   "execution_count": 15,
   "id": "9b8a8b2b-fe62-46fb-ab2b-29108fb21f59",
   "metadata": {},
   "outputs": [],
   "source": [
    "# Сформируем новую матрицу \"объекты-признаки\"\n",
    "Z = X.dot(W)"
   ]
  },
  {
   "cell_type": "code",
   "execution_count": 16,
   "id": "a6125a79-1651-41af-aafe-e2dc93866278",
   "metadata": {},
   "outputs": [
    {
     "data": {
      "text/plain": [
       "(150, 2)"
      ]
     },
     "execution_count": 16,
     "metadata": {},
     "output_type": "execute_result"
    }
   ],
   "source": [
    "Z.shape"
   ]
  },
  {
   "cell_type": "code",
   "execution_count": 17,
   "id": "b5206fb5-fbef-452a-abcf-e7b8fa0ae986",
   "metadata": {},
   "outputs": [],
   "source": [
    "# Разобьем на тренировочную и тестовую выборки\n",
    "train_data_pca, test_data_pca, train_labels_pca, test_labels_pca = train_test_split(Z, y, \n",
    "                                                                                    test_size=0.3,\n",
    "                                                                                    random_state=1)"
   ]
  },
  {
   "cell_type": "code",
   "execution_count": 18,
   "id": "fd977948-e426-4ef3-a0f0-7b586f8b9057",
   "metadata": {},
   "outputs": [
    {
     "data": {
      "image/png": "[encoded data removed]",
      "text/plain": [
       "<Figure size 432x288 with 1 Axes>"
      ]
     },
     "metadata": {
      "needs_background": "light"
     },
     "output_type": "display_data"
    }
   ],
   "source": [
    "plt.figure()\n",
    "y = iris.target\n",
    "for c, i in zip(\"rgb\", [0, 1, 2]):\n",
    "    plt.scatter(Z[y == i, 0], Z[y == i, 1], c=c)\n",
    "plt.xlabel('Главная компонента 1')\n",
    "plt.ylabel('Главная компонента 2')\n",
    "plt.title('PCA датасета IRIS')\n",
    "plt.show()"
   ]
  },
  {
   "cell_type": "code",
   "execution_count": 19,
   "id": "e91ce080-9c86-4346-8431-21528e3e1c2a",
   "metadata": {},
   "outputs": [
    {
     "name": "stdout",
     "output_type": "stream",
     "text": [
      "Train accuracy 0.9904761904761905\n",
      "Test accuracy 0.9333333333333333\n"
     ]
    }
   ],
   "source": [
    "# Обучими модель и сделаем предсказание по 2 признакам\n",
    "dt2 = BaggingClassifier()\n",
    "dt2.fit(train_data_pca, train_labels_pca)\n",
    "\n",
    "train_answers_pca = dt2.predict(train_data_pca)\n",
    "test_answers_pca = dt2.predict(test_data_pca)\n",
    "\n",
    "train_accuracy_pca = accuracy_score(train_labels_pca, train_answers_pca)\n",
    "test_accuracy_pca = accuracy_score(test_labels_pca, test_answers_pca)\n",
    "\n",
    "print(f'Train accuracy', train_accuracy_pca)\n",
    "print(f'Test accuracy', test_accuracy_pca)"
   ]
  },
  {
   "cell_type": "code",
   "execution_count": 20,
   "id": "2b04e6e7-f1b0-4db1-98f9-c686b9510031",
   "metadata": {},
   "outputs": [
    {
     "data": {
      "text/plain": [
       "(155, 170)"
      ]
     },
     "execution_count": 20,
     "metadata": {},
     "output_type": "execute_result"
    }
   ],
   "source": [
    "xx, yy = get_meshgrid(train_data_pca)\n",
    "xx.shape"
   ]
  },
  {
   "cell_type": "code",
   "execution_count": 21,
   "id": "fb51627d-1698-43bb-abb2-2a2702623dfb",
   "metadata": {},
   "outputs": [
    {
     "data": {
      "image/png": "[encoded data removed]",
      "text/plain": [
       "<Figure size 1152x504 with 2 Axes>"
      ]
     },
     "metadata": {
      "needs_background": "light"
     },
     "output_type": "display_data"
    }
   ],
   "source": [
    "visualize(train_data_pca, test_data_pca, train_answers_pca)"
   ]
  },
  {
   "cell_type": "markdown",
   "id": "7f50f6b6-ce64-4f7a-be93-2a4e6907bbf8",
   "metadata": {},
   "source": [
    "__Выводы:__"
   ]
  },
  {
   "cell_type": "code",
   "execution_count": 25,
   "id": "a570a1ef-6076-4fc3-a1ca-3724258ffb00",
   "metadata": {},
   "outputs": [
    {
     "name": "stdout",
     "output_type": "stream",
     "text": [
      "Train accuracy 1.0\n",
      "Test accuracy 0.9555555555555556\n",
      "Train accuracy_pca 0.9904761904761905\n",
      "Test accuracy_pca 0.9333333333333333\n"
     ]
    }
   ],
   "source": [
    "print(f'Train accuracy', train_accuracy)\n",
    "print(f'Test accuracy', test_accuracy)\n",
    "print(f'Train accuracy_pca', train_accuracy_pca)\n",
    "print(f'Test accuracy_pca', test_accuracy_pca)"
   ]
  },
  {
   "cell_type": "markdown",
   "id": "3666ee49-6a5a-4109-9350-5c85ea1c8390",
   "metadata": {},
   "source": [
    "Метрика упала всего на 2%, что незначительно. При этом данные стало просто визуализировать. Работать с двумя признаками куда проще чем с четырмя. "
   ]
  },
  {
   "cell_type": "code",
   "execution_count": null,
   "id": "6368328b-9f2c-4bc1-adea-0257a2ab97f3",
   "metadata": {},
   "outputs": [],
   "source": []
  }
 ],
 "metadata": {
  "kernelspec": {
   "display_name": "Python 3",
   "language": "python",
   "name": "python3"
  },
  "language_info": {
   "codemirror_mode": {
    "name": "ipython",
    "version": 3
   },
   "file_extension": ".py",
   "mimetype": "text/x-python",
   "name": "python",
   "nbconvert_exporter": "python",
   "pygments_lexer": "ipython3",
   "version": "3.8.8"
  }
 },
 "nbformat": 4,
 "nbformat_minor": 5
}
