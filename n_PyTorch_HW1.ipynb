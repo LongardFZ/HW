{
 "cells": [
  {
   "cell_type": "code",
   "execution_count": 1,
   "metadata": {
    "id": "cr4ur_8Llrc_"
   },
   "outputs": [],
   "source": [
    "import numpy as np\n",
    "import random\n",
    "import torch"
   ]
  },
  {
   "cell_type": "markdown",
   "metadata": {
    "id": "oy2xDYnGyv4K"
   },
   "source": [
    "Домашнее задание"
   ]
  },
  {
   "cell_type": "markdown",
   "metadata": {
    "id": "llHxu-SJw1I_"
   },
   "source": [
    "1. Создайте случайный FloatTensor размера 3x4x5"
   ]
  },
  {
   "cell_type": "code",
   "execution_count": 2,
   "metadata": {
    "id": "ca-pfcaFxcXi"
   },
   "outputs": [],
   "source": [
    "a = torch.randn(3, 4, 5)"
   ]
  },
  {
   "cell_type": "code",
   "execution_count": 3,
   "metadata": {
    "colab": {
     "base_uri": "https://localhost:8080/"
    },
    "id": "DfWL8E1hzvzE",
    "outputId": "635de968-3c22-4640-cb66-c449c7cbfea0"
   },
   "outputs": [
    {
     "data": {
      "text/plain": [
       "tensor([[[-0.3972,  0.2084, -0.4110, -1.6633,  0.3450],\n",
       "         [-1.9700, -1.3304,  0.5269,  1.4126, -1.2725],\n",
       "         [ 0.5579, -0.6015, -0.5431, -0.3205,  0.1690],\n",
       "         [-0.7900, -1.1936,  0.4959, -0.4659, -1.2089]],\n",
       "\n",
       "        [[ 1.2526,  0.6571, -0.7641, -0.2699,  0.1572],\n",
       "         [ 0.5564,  0.5424, -0.4787,  1.3926,  1.2320],\n",
       "         [-1.5554,  0.6334,  1.1038,  0.4130,  1.9582],\n",
       "         [ 0.4966,  0.4243, -0.2217, -0.2412,  0.1341]],\n",
       "\n",
       "        [[-0.1000,  0.6316,  0.9084, -1.2693,  0.8770],\n",
       "         [ 0.0348, -0.6375,  0.5921,  0.7542, -0.9532],\n",
       "         [ 2.0145,  0.0957,  1.4377, -0.7977,  1.0249],\n",
       "         [ 0.6774, -0.3416,  0.6287, -0.2933, -0.1397]]])"
      ]
     },
     "execution_count": 3,
     "metadata": {},
     "output_type": "execute_result"
    }
   ],
   "source": [
    "a"
   ]
  },
  {
   "cell_type": "markdown",
   "metadata": {
    "id": "HszG_6NsydXn"
   },
   "source": [
    "2. Выведите его форму"
   ]
  },
  {
   "cell_type": "code",
   "execution_count": 4,
   "metadata": {
    "colab": {
     "base_uri": "https://localhost:8080/"
    },
    "id": "Bxn8YDW5yii7",
    "outputId": "86ea3663-f840-42d6-857e-d5dcd69bccaf"
   },
   "outputs": [
    {
     "data": {
      "text/plain": [
       "torch.Size([3, 4, 5])"
      ]
     },
     "execution_count": 4,
     "metadata": {},
     "output_type": "execute_result"
    }
   ],
   "source": [
    "a.shape"
   ]
  },
  {
   "cell_type": "markdown",
   "metadata": {
    "id": "OHPbbXF8y0JB"
   },
   "source": [
    "3. Приведите его к форме 6х10"
   ]
  },
  {
   "cell_type": "code",
   "execution_count": 5,
   "metadata": {
    "colab": {
     "base_uri": "https://localhost:8080/"
    },
    "id": "ChKHOAG_y74O",
    "outputId": "3ef78668-7ae4-4e22-96ad-72f31dc13469"
   },
   "outputs": [],
   "source": [
    "a = a.reshape(6, 10)"
   ]
  },
  {
   "cell_type": "code",
   "execution_count": 6,
   "metadata": {},
   "outputs": [
    {
     "data": {
      "text/plain": [
       "torch.Size([6, 10])"
      ]
     },
     "execution_count": 6,
     "metadata": {},
     "output_type": "execute_result"
    }
   ],
   "source": [
    "a.shape"
   ]
  },
  {
   "cell_type": "markdown",
   "metadata": {
    "id": "SKz5GswRz0AA"
   },
   "source": [
    "4. Создайте случайный intTensor размера 10"
   ]
  },
  {
   "cell_type": "code",
   "execution_count": 7,
   "metadata": {
    "colab": {
     "base_uri": "https://localhost:8080/"
    },
    "id": "OY35ulDVz-xf",
    "outputId": "c91daa3e-8d60-4ae2-de49-63e41c9777f7"
   },
   "outputs": [
    {
     "data": {
      "text/plain": [
       "tensor([[0],\n",
       "        [6],\n",
       "        [1],\n",
       "        [9],\n",
       "        [3],\n",
       "        [2],\n",
       "        [0],\n",
       "        [5],\n",
       "        [8],\n",
       "        [9]])"
      ]
     },
     "execution_count": 7,
     "metadata": {},
     "output_type": "execute_result"
    }
   ],
   "source": [
    "b = torch.randint(10, size=(10,1))\n",
    "b"
   ]
  },
  {
   "cell_type": "markdown",
   "metadata": {},
   "source": [
    "5. Умножьте созданный FloatTensor на созданный IntTensor поэлементно"
   ]
  },
  {
   "cell_type": "code",
   "execution_count": 8,
   "metadata": {},
   "outputs": [],
   "source": [
    "#выполнить задание напрямую невозможно, матрицы не подходят. Транспонируем тензор b"
   ]
  },
  {
   "cell_type": "code",
   "execution_count": 9,
   "metadata": {},
   "outputs": [],
   "source": [
    "b = b.T"
   ]
  },
  {
   "cell_type": "code",
   "execution_count": 10,
   "metadata": {},
   "outputs": [
    {
     "data": {
      "text/plain": [
       "torch.Size([1, 10])"
      ]
     },
     "execution_count": 10,
     "metadata": {},
     "output_type": "execute_result"
    }
   ],
   "source": [
    "b.shape"
   ]
  },
  {
   "cell_type": "code",
   "execution_count": 11,
   "metadata": {},
   "outputs": [],
   "source": [
    "c = a*b"
   ]
  },
  {
   "cell_type": "code",
   "execution_count": 12,
   "metadata": {},
   "outputs": [
    {
     "data": {
      "text/plain": [
       "tensor([[ -0.0000,   1.2504,  -0.4110, -14.9695,   1.0350,  -3.9400,  -0.0000,\n",
       "           2.6346,  11.3006, -11.4524],\n",
       "        [  0.0000,  -3.6088,  -0.5431,  -2.8842,   0.5069,  -1.5800,  -0.0000,\n",
       "           2.4794,  -3.7276, -10.8805],\n",
       "        [  0.0000,   3.9426,  -0.7641,  -2.4292,   0.4717,   1.1128,   0.0000,\n",
       "          -2.3934,  11.1405,  11.0878],\n",
       "        [ -0.0000,   3.8006,   1.1038,   3.7170,   5.8746,   0.9931,   0.0000,\n",
       "          -1.1083,  -1.9295,   1.2065],\n",
       "        [ -0.0000,   3.7894,   0.9084, -11.4235,   2.6311,   0.0697,  -0.0000,\n",
       "           2.9607,   6.0339,  -8.5788],\n",
       "        [  0.0000,   0.5743,   1.4377,  -7.1790,   3.0746,   1.3548,  -0.0000,\n",
       "           3.1434,  -2.3462,  -1.2569]])"
      ]
     },
     "execution_count": 12,
     "metadata": {},
     "output_type": "execute_result"
    }
   ],
   "source": [
    "c"
   ]
  },
  {
   "cell_type": "markdown",
   "metadata": {},
   "source": [
    "6. Умножьте тензор матрично на себя, чтобы результат был размерности 6x6\n",
    "Подсказка: .dot может не подойти"
   ]
  },
  {
   "cell_type": "code",
   "execution_count": 13,
   "metadata": {},
   "outputs": [],
   "source": [
    "d = c*c # не понял задания( "
   ]
  },
  {
   "cell_type": "code",
   "execution_count": 14,
   "metadata": {},
   "outputs": [
    {
     "data": {
      "text/plain": [
       "torch.Size([6, 10])"
      ]
     },
     "execution_count": 14,
     "metadata": {},
     "output_type": "execute_result"
    }
   ],
   "source": [
    "d.shape"
   ]
  },
  {
   "cell_type": "markdown",
   "metadata": {},
   "source": [
    "7. Посчитайте производную функции y = x**3 + z - 75t в точке (1, 0.5, 2)"
   ]
  },
  {
   "cell_type": "code",
   "execution_count": 52,
   "metadata": {},
   "outputs": [
    {
     "data": {
      "text/plain": [
       "torch.Size([3])"
      ]
     },
     "execution_count": 52,
     "metadata": {},
     "output_type": "execute_result"
    }
   ],
   "source": [
    "X = torch.tensor([1., 0.5, 2.], requires_grad = True)\n",
    "X.shape"
   ]
  },
  {
   "cell_type": "code",
   "execution_count": 53,
   "metadata": {},
   "outputs": [],
   "source": [
    "y = X[0]**3 + X[1] - 75*X[2] "
   ]
  },
  {
   "cell_type": "code",
   "execution_count": 54,
   "metadata": {},
   "outputs": [
    {
     "data": {
      "text/plain": [
       "torch.Size([])"
      ]
     },
     "execution_count": 54,
     "metadata": {},
     "output_type": "execute_result"
    }
   ],
   "source": [
    "y.shape"
   ]
  },
  {
   "cell_type": "code",
   "execution_count": 55,
   "metadata": {},
   "outputs": [],
   "source": [
    "y.backward() # сюда надо что-то передавать ли нет? На уроке был пример с одной переменной и там передавалось. Но если написать y.backward(X) то ошибка. "
   ]
  },
  {
   "cell_type": "code",
   "execution_count": 56,
   "metadata": {},
   "outputs": [
    {
     "name": "stdout",
     "output_type": "stream",
     "text": [
      "tensor([  3.,   1., -75.])\n"
     ]
    }
   ],
   "source": [
    "print(X.grad) # в общем это задание тоже не понял. Искал в интернете, но везде в примерах даются производные с одной переменной. Как объединять несколько разных непонятно."
   ]
  },
  {
   "cell_type": "markdown",
   "metadata": {},
   "source": [
    "8. Создайте единичный тензор размера 5x6"
   ]
  },
  {
   "cell_type": "code",
   "execution_count": 19,
   "metadata": {},
   "outputs": [
    {
     "data": {
      "text/plain": [
       "tensor([[1., 1., 1., 1., 1., 1.],\n",
       "        [1., 1., 1., 1., 1., 1.],\n",
       "        [1., 1., 1., 1., 1., 1.],\n",
       "        [1., 1., 1., 1., 1., 1.],\n",
       "        [1., 1., 1., 1., 1., 1.]])"
      ]
     },
     "execution_count": 19,
     "metadata": {},
     "output_type": "execute_result"
    }
   ],
   "source": [
    "x = torch.ones(5, 6)\n",
    "x"
   ]
  },
  {
   "cell_type": "markdown",
   "metadata": {},
   "source": [
    "9. Переведите его в формат numpy"
   ]
  },
  {
   "cell_type": "code",
   "execution_count": 42,
   "metadata": {},
   "outputs": [],
   "source": [
    "x = x.numpy()"
   ]
  },
  {
   "cell_type": "code",
   "execution_count": null,
   "metadata": {},
   "outputs": [],
   "source": []
  }
 ],
 "metadata": {
  "accelerator": "GPU",
  "colab": {
   "collapsed_sections": [
    "nfRSfecExTgi",
    "u4TESt3AxXg7"
   ],
   "name": "Копия блокнота \"web_1.ipynb\"",
   "provenance": []
  },
  "gpuClass": "standard",
  "kernelspec": {
   "display_name": "Python 3 (ipykernel)",
   "language": "python",
   "name": "python3"
  },
  "language_info": {
   "codemirror_mode": {
    "name": "ipython",
    "version": 3
   },
   "file_extension": ".py",
   "mimetype": "text/x-python",
   "name": "python",
   "nbconvert_exporter": "python",
   "pygments_lexer": "ipython3",
   "version": "3.9.12"
  }
 },
 "nbformat": 4,
 "nbformat_minor": 4
}
