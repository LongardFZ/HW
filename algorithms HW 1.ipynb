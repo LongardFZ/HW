{
 "cells": [
  {
   "cell_type": "code",
   "execution_count": 100,
   "metadata": {},
   "outputs": [],
   "source": [
    "import numpy as np"
   ]
  },
  {
   "cell_type": "markdown",
   "metadata": {},
   "source": [
    "__Домашняя работа 1.__"
   ]
  },
  {
   "cell_type": "markdown",
   "metadata": {},
   "source": [
    " __Задание 1.__ Подберите скорость обучения (eta) и количество итераций"
   ]
  },
  {
   "cell_type": "code",
   "execution_count": 101,
   "metadata": {},
   "outputs": [],
   "source": [
    "X = np.array([[ 1,  1],\n",
    "              [ 1,  1],\n",
    "              [ 1,  2],\n",
    "              [ 1,  5],\n",
    "              [ 1,  3],\n",
    "              [ 1,  0],\n",
    "              [ 1,  5],\n",
    "              [ 1, 10],\n",
    "              [ 1,  1],\n",
    "              [ 1,  2]])"
   ]
  },
  {
   "cell_type": "code",
   "execution_count": 102,
   "metadata": {},
   "outputs": [],
   "source": [
    "y = [45, 55, 50, 55, 60, 35, 75, 80, 50, 60]"
   ]
  },
  {
   "cell_type": "code",
   "execution_count": 103,
   "metadata": {},
   "outputs": [],
   "source": [
    "def calc_mse(y, y_pred):\n",
    "    err = np.mean((y - y_pred)**2)\n",
    "    return err"
   ]
  },
  {
   "cell_type": "code",
   "execution_count": 113,
   "metadata": {},
   "outputs": [
    {
     "data": {
      "text/plain": [
       "2"
      ]
     },
     "execution_count": 113,
     "metadata": {},
     "output_type": "execute_result"
    }
   ],
   "source": [
    "W.shape[0]"
   ]
  },
  {
   "cell_type": "markdown",
   "metadata": {},
   "source": [
    "Для решения задачи нам требуется определить некоторую стартовую точку и итерационно сдвигаться от нее в сторону антиградиента с определенным _шагом_ $\\eta_{k}$, на каждом шагу пересчитывая градиент в точке, в которой мы находимся. Таким образом, имея начальный вектор весов $w^{0}$, $k$-й шаг градиентного спуска будет иметь вид\n",
    "\n",
    "$$w^{k} = w^{k-1} - \\eta_{k}\\nabla Q(w^{k-1}, X).$$"
   ]
  },
  {
   "cell_type": "code",
   "execution_count": 125,
   "metadata": {},
   "outputs": [
    {
     "name": "stdout",
     "output_type": "stream",
     "text": [
      "Number of objects = 10        \n",
      "Learning rate = 0.11        \n",
      "Initial weights = [1.  0.5] \n",
      "\n",
      "Iteration #0: W_new = [12.88 41.97], MSE = 3047.75\n",
      "Iteration #10: W_new = [ 56081.81851188 309110.78394788], MSE = 275078953156.41\n",
      "Iteration #20: W_new = [1.42124114e+08 7.83767083e+08], MSE = 2.321331513111192e+18\n",
      "Iteration #30: W_new = [8.70617212e+10 4.80116481e+11], MSE = 1.1572863370435996e+24\n",
      "Iteration #40: W_new = [1.19736931e+13 6.60309412e+13], MSE = 2.9511706147500425e+28\n",
      "Iteration #50: W_new = [3.37923409e+14 1.86353538e+15], MSE = 3.226537900137041e+31\n",
      "Iteration #60: W_new = [1.74908668e+15 9.64563219e+15], MSE = 1.2135070419308285e+33\n",
      "Iteration #70: W_new = [1.43829443e+15 7.93171617e+15], MSE = 1.1855136360030054e+33\n",
      "Iteration #80: W_new = [1.55538781e+14 8.57744723e+14], MSE = 2.0801633934164108e+31\n",
      "Iteration #90: W_new = [1.70775141e+12 9.41768193e+12], MSE = 3.962327437818262e+27\n",
      "Iteration #100: W_new = [1.31003158e+09 7.22438888e+09], MSE = 3.970181195854728e+21\n",
      "Iteration #110: W_new = [ 39174.10407087 215788.31276735], MSE = 6779163179837.49\n",
      "Iteration #120: W_new = [44.97325961  3.92026683], MSE = 46.67\n",
      "Iteration #130: W_new = [44.98407833  3.82672056], MSE = 43.97\n"
     ]
    }
   ],
   "source": [
    "n = X.shape[0]\n",
    "\n",
    "eta = 1.1e-1 #Было: 1e-2(0.01)\n",
    "n_iter = 131 #Было: 100\n",
    "\n",
    "W = np.array([1, 0.5]) # Начальные веса(для каждого признака свой вес)\n",
    "print(f'Number of objects = {n} \\\n",
    "       \\nLearning rate = {eta} \\\n",
    "       \\nInitial weights = {W} \\n')\n",
    "\n",
    "for i in range(n_iter):\n",
    "    y_pred = np.dot(X, W) # Даем предсказание, перемножая матрицу исходных данных на веса\n",
    "    err = calc_mse(y, y_pred) # Считаем среднеквадратичную ошибку для предсказания \n",
    "    # dQ = 2 / Y.shape[0] * np.dot(X.T, y_pred - Y)\n",
    "    for k in range(W.shape[0]): # Цикл проходит по каждому признаку(столбцу Х) и независимо подбирает веса \n",
    "        #dQ = 2/ Y.shape[0] * np.dot(X.T, y_pred - Y)\n",
    "        W[k] = W[k] - eta * (1/n * 2 * X[:, k] @ (y_pred - y)) # eta - шаг. W[k] - вес признака на предыдущем шаге. Но дальше я не понял\n",
    "        # формула должна быть \"W[k] - eta * dQ\". Но dQ же по другому записывается. Откуда \"1/n * 2\"?\n",
    "    if i % 10 == 0:\n",
    "        eta /= 1.1\n",
    "        print(f'Iteration #{i}: W_new = {W}, MSE = {round(err, 2)}')"
   ]
  },
  {
   "cell_type": "markdown",
   "metadata": {},
   "source": [
    "__Задание 2*__. В этом коде мы избавляемся от итераций по весам, но тут есть ошибка, исправьте ее"
   ]
  },
  {
   "cell_type": "code",
   "execution_count": 110,
   "metadata": {},
   "outputs": [
    {
     "name": "stdout",
     "output_type": "stream",
     "text": [
      "Number of objects = 10        \n",
      "Learning rate = 0.01        \n",
      "Initial weights = [1.  0.5] \n",
      "\n",
      "Iteration #0: W_new = [2.08 4.27], MSE = 3047.75\n",
      "Iteration #50: W_new = [18.69110735  8.59454545], MSE = 377.58\n",
      "Iteration #100: W_new = [28.38281518  6.83710367], MSE = 177.43\n",
      "Iteration #150: W_new = [34.51273915  5.72553647], MSE = 97.36\n",
      "Iteration #200: W_new = [38.38986469  5.02247953], MSE = 65.33\n",
      "Iteration #250: W_new = [40.84211409  4.57780191], MSE = 52.51\n",
      "Iteration #300: W_new = [42.39314129  4.29654705], MSE = 47.39\n",
      "Iteration #350: W_new = [43.37415299  4.1186557 ], MSE = 45.34\n",
      "Iteration #400: W_new = [43.99463466  4.00614091], MSE = 44.52\n",
      "Iteration #450: W_new = [44.38708413  3.93497626], MSE = 44.19\n",
      "Iteration #500: W_new = [44.63530512  3.8899652 ], MSE = 44.06\n",
      "Iteration #550: W_new = [44.79230282  3.86149609], MSE = 44.0\n",
      "Iteration #600: W_new = [44.89160255  3.84348962], MSE = 43.98\n",
      "Iteration #650: W_new = [44.95440879  3.83210067], MSE = 43.97\n"
     ]
    }
   ],
   "source": [
    "n = X.shape[0]\n",
    "\n",
    "eta = 1e-2 \n",
    "n_iter = 651\n",
    "\n",
    "W = np.array([1, 0.5])\n",
    "print(f'Number of objects = {n} \\\n",
    "       \\nLearning rate = {eta} \\\n",
    "       \\nInitial weights = {W} \\n')\n",
    "\n",
    "for i in range(n_iter):\n",
    "    y_pred = np.dot(X, W)\n",
    "    err = calc_mse(y, y_pred)\n",
    "#     for k in range(W.shape[0]):\n",
    "#         W[k] -= eta * (1/n * 2 * X[:, k] @ (y_pred - y))\n",
    "    # ИЗМЕНЕНИЯ(Матрица Х была не транспонирована)\n",
    "    W -= eta * (1/n * 2 * np.dot(X.T, y_pred - y))\n",
    "    # ИЗМЕНЕНИЯ\n",
    "    #\n",
    "    if i % 50 == 0:\n",
    "        print(f'Iteration #{i}: W_new = {W}, MSE = {round(err,2)}')"
   ]
  },
  {
   "cell_type": "markdown",
   "metadata": {},
   "source": [
    "__Задание 3*__. Вместо того, чтобы задавать количество итераций, задайте другое условие останова алгоритма - когда веса перестают изменяться меньше определенного порога $\\epsilon$."
   ]
  },
  {
   "cell_type": "code",
   "execution_count": 109,
   "metadata": {},
   "outputs": [
    {
     "name": "stdout",
     "output_type": "stream",
     "text": [
      "Number of objects = 10        \n",
      "Learning rate = 0.01        \n",
      "Initial weights = [1.  0.5] \n",
      "\n",
      "Iter 50: error - 383.75, weights: [18.44838865  8.63855875], dist 0.24894737331124467\n",
      "Iter 100: error - 179.9, weights: [28.22929764  6.86494171], dist 0.1574571270703258\n",
      "Iter 150: error - 98.35, weights: [34.41564059  5.7431438 ], dist 0.09959031314720329\n",
      "Iter 200: error - 65.72, weights: [38.32845066  5.03361602], dist 0.06299003835074193\n",
      "Iter 250: error - 52.67, weights: [40.80327023  4.58484565], dist 0.039840671306690605\n",
      "Iter 300: error - 47.45, weights: [42.36857287  4.30100215], dist 0.02519889067743907\n",
      "Iter 350: error - 45.36, weights: [43.35861367  4.12147351], dist 0.01593808714931448\n",
      "Iter 400: error - 44.53, weights: [43.98480618  4.00792316], dist 0.010080706537082105\n",
      "Iter 450: error - 44.19, weights: [44.38086769  3.93610351], dist 0.006375962393396116\n",
      "Iter 500: error - 44.06, weights: [44.63137328  3.89067818], dist 0.004032742773783824\n",
      "Iter 550: error - 44.0, weights: [44.78981596  3.86194705], dist 0.002550676004035292\n",
      "Iter 600: error - 43.98, weights: [44.89002963  3.84377484], dist 0.0016132811940950161\n",
      "Iter 650: error - 43.97, weights: [44.95341394  3.83228108], dist 0.0010203868335698662\n"
     ]
    }
   ],
   "source": [
    "min_weight_dist = 1e-3\n",
    "weight_dist = np.inf\n",
    "n = X.shape[0]\n",
    "iter_num = 0\n",
    "eta = 1e-2 \n",
    "\n",
    "W = np.array([1, 0.5])\n",
    "print(f'Number of objects = {n} \\\n",
    "       \\nLearning rate = {eta} \\\n",
    "       \\nInitial weights = {W} \\n')\n",
    "\n",
    "while weight_dist > min_weight_dist:\n",
    "    y_pred = np.dot(X, W)\n",
    "    err = calc_mse(y, y_pred)\n",
    "    W_new = W - eta * (1/n * 2 * np.dot(X.T, y_pred - y))\n",
    "    weight_dist = np.linalg.norm(W_new - W, ord=2)\n",
    "    iter_num += 1\n",
    "    W = W_new\n",
    "    if iter_num % 50 == 0:\n",
    "        print(f'Iter {iter_num}: error - {round(err,2)}, weights: {W}, dist {weight_dist}')"
   ]
  },
  {
   "cell_type": "markdown",
   "metadata": {},
   "source": [
    "У меня есть подозрения, что я что-то делаю не так. В первом задании ошибка сначала росла куда то в космос, а потом вдруг резко сошлась на 43.9. Так и должно быть?  И я не до конца разобрался в формулах. "
   ]
  }
 ],
 "metadata": {
  "kernelspec": {
   "display_name": "Python 3",
   "language": "python",
   "name": "python3"
  },
  "language_info": {
   "codemirror_mode": {
    "name": "ipython",
    "version": 3
   },
   "file_extension": ".py",
   "mimetype": "text/x-python",
   "name": "python",
   "nbconvert_exporter": "python",
   "pygments_lexer": "ipython3",
   "version": "3.8.3"
  }
 },
 "nbformat": 4,
 "nbformat_minor": 4
}
