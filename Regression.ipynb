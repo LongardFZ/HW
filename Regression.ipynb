{
 "cells": [
  {
   "cell_type": "code",
   "execution_count": 1,
   "id": "43d568ab-1353-45f8-81d0-48e1f84a660d",
   "metadata": {},
   "outputs": [],
   "source": [
    "import numpy as np\n",
    "import pandas as pd\n",
    "from sklearn.model_selection import train_test_split\n",
    "import matplotlib.pyplot as plt\n",
    "import seaborn as sns"
   ]
  },
  {
   "cell_type": "code",
   "execution_count": 2,
   "id": "afd6aec9-5d9c-48b6-ba53-a28673e201af",
   "metadata": {},
   "outputs": [],
   "source": [
    "# Расчет критерия Джини\n",
    "\n",
    "def gini(labels):\n",
    "    #  подсчет количества объектов разных классов\n",
    "    classes = {}\n",
    "    #print(f'SHAPE: {labels.shape}')\n",
    "    #print(f'FSHAPE: {labels.flatten().shape}')\n",
    "    for label in labels.flatten():\n",
    "        if label not in classes:\n",
    "            classes[label] = 0\n",
    "        classes[label] += 1\n",
    "    \n",
    "    #  расчет критерия\n",
    "    impurity = 1\n",
    "    for label in classes:\n",
    "        p = classes[label] / len(labels)\n",
    "        impurity -= p ** 2\n",
    "        \n",
    "    return impurity"
   ]
  },
  {
   "cell_type": "code",
   "execution_count": 3,
   "id": "62e90b07-a434-4d68-b502-b487d0222ad2",
   "metadata": {},
   "outputs": [],
   "source": [
    "# Расчет прироста\n",
    "\n",
    "def gain(left_labels, right_labels, root_gini):\n",
    "\n",
    "    # доля выборки, ушедшая в левое поддерево\n",
    "    p = float(left_labels.shape[0]) / (left_labels.shape[0] + right_labels.shape[0])\n",
    "    \n",
    "    return root_gini - p * gini(left_labels) - (1 - p) * gini(right_labels)"
   ]
  },
  {
   "cell_type": "code",
   "execution_count": 4,
   "id": "be5a1c5a-ebf1-463d-a897-1ea2f5e18dab",
   "metadata": {},
   "outputs": [],
   "source": [
    "# Разбиение датасета в узле\n",
    "\n",
    "def split(data, labels, column_index, t):\n",
    "    \n",
    "    left = np.where(data[:, column_index] <= t)\n",
    "    right = np.where(data[:, column_index] > t)\n",
    "    #print(f'index: {column_index}, DATA: {np.array(data.take([column_index], axis=1))}, t: {t}')\n",
    "    #left = np.where(np.array(data.take([column_index], axis=1)) <= t)\n",
    "    #right = np.where(np.array(data.take([column_index], axis=1)) > t)\n",
    "    \n",
    "    true_data = data[left]\n",
    "    false_data = data[right]\n",
    "    \n",
    "    true_labels = labels[left]\n",
    "    false_labels = labels[right]\n",
    "        \n",
    "    return true_data, false_data, true_labels, false_labels"
   ]
  },
  {
   "cell_type": "code",
   "execution_count": 5,
   "id": "0f33518f-b960-425b-989a-5e73a2e57cc4",
   "metadata": {},
   "outputs": [],
   "source": [
    "# Реализуем класс узла\n",
    "\n",
    "class Node:\n",
    "    \n",
    "    def __init__(self, index, t, true_branch, false_branch):\n",
    "        self.index = index  # индекс признака, по которому ведется сравнение с порогом в этом узле\n",
    "        self.t = t  # значение порога\n",
    "        self.true_branch = true_branch  # поддерево, удовлетворяющее условию в узле\n",
    "        self.false_branch = false_branch  # поддерево, не удовлетворяющее условию в узле"
   ]
  },
  {
   "cell_type": "code",
   "execution_count": 6,
   "id": "092ac628-1792-431d-81f2-dbbc6dd102b7",
   "metadata": {},
   "outputs": [],
   "source": [
    "# И класс терминального узла (листа)\n",
    "\n",
    "class Leaf:\n",
    "    \n",
    "    def __init__(self, data, targets):\n",
    "        self.data = data\n",
    "        self.targets = targets\n",
    "        self.prediction = self.predict()\n",
    "        \n",
    "    def predict(self):\n",
    "        return self.targets.mean()"
   ]
  },
  {
   "cell_type": "code",
   "execution_count": 7,
   "id": "6ac61f93-355a-4e54-b974-0e9dde27360b",
   "metadata": {},
   "outputs": [],
   "source": [
    "def mse(targets):\n",
    "    return np.mean((targets - targets.mean())**2)"
   ]
  },
  {
   "cell_type": "code",
   "execution_count": 8,
   "id": "85d7d0fe-07ef-4f8c-ba56-b8d9ef7f69f0",
   "metadata": {},
   "outputs": [],
   "source": [
    "# Нахождение наилучшего разбиения\n",
    "\n",
    "def find_best_split(data, targets):\n",
    "    \n",
    "    #  обозначим минимальное количество объектов в узле\n",
    "    min_samples_leaf = 10\n",
    "\n",
    "    root_mse = mse(targets)\n",
    "\n",
    "    best_gain = 0\n",
    "    best_t = None\n",
    "    best_index = None\n",
    "    \n",
    "    n_features = data.shape[1]\n",
    "    print(data.shape)\n",
    "    for index in range(n_features):\n",
    "        # будем проверять только уникальные значения признака, исключая повторения PANDAS\n",
    "        t_values = np.unique(np.array(data)[:, index])\n",
    "        #t_values = data.take([index], axis=1)\n",
    "        for t in t_values:\n",
    "            true_data, false_data, true_targets, false_targets = split(data, targets, index, t)\n",
    "            #  пропускаем разбиения, в которых в узле остается менее 5 объектов\n",
    "            if len(true_data) < min_samples_leaf or len(false_data) < min_samples_leaf:\n",
    "                continue\n",
    "            \n",
    "            current_gain = gain(true_targets, false_targets, root_mse)\n",
    "            \n",
    "            #  выбираем порог, на котором получается максимальный прирост качества\n",
    "            if current_gain > best_gain:\n",
    "                best_gain, best_t, best_index = current_gain, t, index\n",
    "\n",
    "    return best_gain, best_t, best_index"
   ]
  },
  {
   "cell_type": "code",
   "execution_count": 9,
   "id": "45b4948d-3451-470c-b89e-6a089ffb605c",
   "metadata": {},
   "outputs": [],
   "source": [
    "# Построение дерева с помощью рекурсивной функции\n",
    "\n",
    "def build_tree(data, target):\n",
    "\n",
    "    gain, t, index = find_best_split(data, target)\n",
    "\n",
    "    #  Базовый случай - прекращаем рекурсию, когда нет прироста в качества\n",
    "    if gain == 0:\n",
    "        return Leaf(data, target)\n",
    "\n",
    "    true_data, false_data, true_target, false_target = split(data, target, index, t)\n",
    "\n",
    "    # Рекурсивно строим два поддерева\n",
    "    true_branch = build_tree(true_data, true_target)\n",
    "    false_branch = build_tree(false_data, false_target)\n",
    "\n",
    "    node = Node(index, t, true_branch, false_branch)\n",
    "\n",
    "    # Возвращаем класс узла со всеми поддеревьями, то есть целого дерева\n",
    "    return node"
   ]
  },
  {
   "cell_type": "code",
   "execution_count": 10,
   "id": "35c01784-d0c6-452c-a462-dee9dedadea4",
   "metadata": {},
   "outputs": [],
   "source": [
    "# Напечатаем ход нашего дерева\n",
    "def print_tree(node, spacing=\"\"):\n",
    "\n",
    "    # Если лист, то выводим его прогноз\n",
    "    if isinstance(node, Leaf):\n",
    "        print(spacing + \"Прогноз:\", node.prediction)\n",
    "        return\n",
    "\n",
    "    # Выведем значение индекса и порога на этом узле\n",
    "    print(spacing + 'Индекс', str(node.index), '<=', str(node.t))\n",
    "\n",
    "    # Рекурсионный вызов функции на положительном поддереве\n",
    "    print (spacing + '--> True:')\n",
    "    print_tree(node.true_branch, spacing + \"  \")\n",
    "\n",
    "    # Рекурсионный вызов функции на отрицательном поддереве\n",
    "    print (spacing + '--> False:')\n",
    "    print_tree(node.false_branch, spacing + \"  \")"
   ]
  },
  {
   "cell_type": "code",
   "execution_count": 11,
   "id": "76dca46a-96bf-4934-bf49-fb001a8b09a7",
   "metadata": {},
   "outputs": [],
   "source": [
    "def classify_object(obj, node):\n",
    "\n",
    "    #  Останавливаем рекурсию, если достигли листа\n",
    "    if isinstance(node, Leaf):\n",
    "        answer = node.prediction\n",
    "        return answer\n",
    "\n",
    "    if obj[node.index] <= node.t:\n",
    "        return classify_object(obj, node.true_branch)\n",
    "    else:\n",
    "        return classify_object(obj, node.false_branch)"
   ]
  },
  {
   "cell_type": "code",
   "execution_count": 12,
   "id": "384d58ed-6612-4e9a-a409-831956c8afd9",
   "metadata": {},
   "outputs": [],
   "source": [
    "def predict(data, tree):\n",
    "    \n",
    "    classes = []\n",
    "    for obj in data:\n",
    "        prediction = classify_object(obj, tree)\n",
    "        classes.append(prediction)\n",
    "    return classes"
   ]
  },
  {
   "cell_type": "code",
   "execution_count": 13,
   "id": "ea1f595f-cde4-47ff-a1be-d67835a13b93",
   "metadata": {},
   "outputs": [],
   "source": [
    "def min_max_scale(X):\n",
    "    return (X - X.min()) / (X.max() - X.min())"
   ]
  },
  {
   "cell_type": "code",
   "execution_count": 14,
   "id": "1a0378db-c3d9-4f50-97f4-9ac2cba63b49",
   "metadata": {},
   "outputs": [],
   "source": [
    "def reverse_min_max(X, g):\n",
    "    return (g * (X.max() - X.min())) + X.min()"
   ]
  },
  {
   "cell_type": "code",
   "execution_count": 15,
   "id": "eafdba86-ae2d-4a05-ad91-d52cca09ab3d",
   "metadata": {},
   "outputs": [],
   "source": [
    "from sklearn.metrics import r2_score"
   ]
  },
  {
   "cell_type": "code",
   "execution_count": 16,
   "id": "5dcd0928-a2a6-4b4d-a2ac-71985eb07fda",
   "metadata": {},
   "outputs": [
    {
     "data": {
      "text/html": [
       "<div>\n",
       "<style scoped>\n",
       "    .dataframe tbody tr th:only-of-type {\n",
       "        vertical-align: middle;\n",
       "    }\n",
       "\n",
       "    .dataframe tbody tr th {\n",
       "        vertical-align: top;\n",
       "    }\n",
       "\n",
       "    .dataframe thead th {\n",
       "        text-align: right;\n",
       "    }\n",
       "</style>\n",
       "<table border=\"1\" class=\"dataframe\">\n",
       "  <thead>\n",
       "    <tr style=\"text-align: right;\">\n",
       "      <th></th>\n",
       "      <th>age</th>\n",
       "      <th>years_of_experience</th>\n",
       "      <th>lesson_price</th>\n",
       "      <th>qualification</th>\n",
       "      <th>physics</th>\n",
       "      <th>chemistry</th>\n",
       "      <th>biology</th>\n",
       "      <th>english</th>\n",
       "      <th>geography</th>\n",
       "      <th>history</th>\n",
       "      <th>mean_exam_points</th>\n",
       "    </tr>\n",
       "  </thead>\n",
       "  <tbody>\n",
       "    <tr>\n",
       "      <th>0</th>\n",
       "      <td>40.0</td>\n",
       "      <td>0.0</td>\n",
       "      <td>1400.0</td>\n",
       "      <td>1.0</td>\n",
       "      <td>1.0</td>\n",
       "      <td>0.0</td>\n",
       "      <td>0.0</td>\n",
       "      <td>0.0</td>\n",
       "      <td>1.0</td>\n",
       "      <td>0.0</td>\n",
       "      <td>61</td>\n",
       "    </tr>\n",
       "    <tr>\n",
       "      <th>1</th>\n",
       "      <td>48.0</td>\n",
       "      <td>4.0</td>\n",
       "      <td>2850.0</td>\n",
       "      <td>3.0</td>\n",
       "      <td>1.0</td>\n",
       "      <td>0.0</td>\n",
       "      <td>0.0</td>\n",
       "      <td>0.0</td>\n",
       "      <td>0.0</td>\n",
       "      <td>0.0</td>\n",
       "      <td>76</td>\n",
       "    </tr>\n",
       "    <tr>\n",
       "      <th>2</th>\n",
       "      <td>39.0</td>\n",
       "      <td>0.0</td>\n",
       "      <td>1200.0</td>\n",
       "      <td>1.0</td>\n",
       "      <td>0.0</td>\n",
       "      <td>0.0</td>\n",
       "      <td>0.0</td>\n",
       "      <td>0.0</td>\n",
       "      <td>0.0</td>\n",
       "      <td>0.0</td>\n",
       "      <td>53</td>\n",
       "    </tr>\n",
       "    <tr>\n",
       "      <th>3</th>\n",
       "      <td>46.0</td>\n",
       "      <td>5.0</td>\n",
       "      <td>1400.0</td>\n",
       "      <td>1.0</td>\n",
       "      <td>0.0</td>\n",
       "      <td>0.0</td>\n",
       "      <td>0.0</td>\n",
       "      <td>0.0</td>\n",
       "      <td>0.0</td>\n",
       "      <td>0.0</td>\n",
       "      <td>54</td>\n",
       "    </tr>\n",
       "    <tr>\n",
       "      <th>4</th>\n",
       "      <td>43.0</td>\n",
       "      <td>1.0</td>\n",
       "      <td>1500.0</td>\n",
       "      <td>1.0</td>\n",
       "      <td>0.0</td>\n",
       "      <td>0.0</td>\n",
       "      <td>0.0</td>\n",
       "      <td>0.0</td>\n",
       "      <td>0.0</td>\n",
       "      <td>0.0</td>\n",
       "      <td>57</td>\n",
       "    </tr>\n",
       "    <tr>\n",
       "      <th>...</th>\n",
       "      <td>...</td>\n",
       "      <td>...</td>\n",
       "      <td>...</td>\n",
       "      <td>...</td>\n",
       "      <td>...</td>\n",
       "      <td>...</td>\n",
       "      <td>...</td>\n",
       "      <td>...</td>\n",
       "      <td>...</td>\n",
       "      <td>...</td>\n",
       "      <td>...</td>\n",
       "    </tr>\n",
       "    <tr>\n",
       "      <th>9995</th>\n",
       "      <td>44.0</td>\n",
       "      <td>0.0</td>\n",
       "      <td>1700.0</td>\n",
       "      <td>2.0</td>\n",
       "      <td>1.0</td>\n",
       "      <td>1.0</td>\n",
       "      <td>0.0</td>\n",
       "      <td>0.0</td>\n",
       "      <td>0.0</td>\n",
       "      <td>0.0</td>\n",
       "      <td>83</td>\n",
       "    </tr>\n",
       "    <tr>\n",
       "      <th>9996</th>\n",
       "      <td>51.0</td>\n",
       "      <td>0.0</td>\n",
       "      <td>1700.0</td>\n",
       "      <td>2.0</td>\n",
       "      <td>0.0</td>\n",
       "      <td>0.0</td>\n",
       "      <td>0.0</td>\n",
       "      <td>0.0</td>\n",
       "      <td>0.0</td>\n",
       "      <td>0.0</td>\n",
       "      <td>58</td>\n",
       "    </tr>\n",
       "    <tr>\n",
       "      <th>9997</th>\n",
       "      <td>34.0</td>\n",
       "      <td>1.0</td>\n",
       "      <td>1250.0</td>\n",
       "      <td>1.0</td>\n",
       "      <td>1.0</td>\n",
       "      <td>0.0</td>\n",
       "      <td>0.0</td>\n",
       "      <td>0.0</td>\n",
       "      <td>0.0</td>\n",
       "      <td>0.0</td>\n",
       "      <td>62</td>\n",
       "    </tr>\n",
       "    <tr>\n",
       "      <th>9998</th>\n",
       "      <td>33.0</td>\n",
       "      <td>3.0</td>\n",
       "      <td>1100.0</td>\n",
       "      <td>1.0</td>\n",
       "      <td>0.0</td>\n",
       "      <td>0.0</td>\n",
       "      <td>0.0</td>\n",
       "      <td>0.0</td>\n",
       "      <td>0.0</td>\n",
       "      <td>0.0</td>\n",
       "      <td>56</td>\n",
       "    </tr>\n",
       "    <tr>\n",
       "      <th>9999</th>\n",
       "      <td>35.0</td>\n",
       "      <td>0.0</td>\n",
       "      <td>1450.0</td>\n",
       "      <td>1.0</td>\n",
       "      <td>0.0</td>\n",
       "      <td>0.0</td>\n",
       "      <td>0.0</td>\n",
       "      <td>0.0</td>\n",
       "      <td>0.0</td>\n",
       "      <td>0.0</td>\n",
       "      <td>52</td>\n",
       "    </tr>\n",
       "  </tbody>\n",
       "</table>\n",
       "<p>10000 rows × 11 columns</p>\n",
       "</div>"
      ],
      "text/plain": [
       "       age  years_of_experience  lesson_price  qualification  physics  \\\n",
       "0     40.0                  0.0        1400.0            1.0      1.0   \n",
       "1     48.0                  4.0        2850.0            3.0      1.0   \n",
       "2     39.0                  0.0        1200.0            1.0      0.0   \n",
       "3     46.0                  5.0        1400.0            1.0      0.0   \n",
       "4     43.0                  1.0        1500.0            1.0      0.0   \n",
       "...    ...                  ...           ...            ...      ...   \n",
       "9995  44.0                  0.0        1700.0            2.0      1.0   \n",
       "9996  51.0                  0.0        1700.0            2.0      0.0   \n",
       "9997  34.0                  1.0        1250.0            1.0      1.0   \n",
       "9998  33.0                  3.0        1100.0            1.0      0.0   \n",
       "9999  35.0                  0.0        1450.0            1.0      0.0   \n",
       "\n",
       "      chemistry  biology  english  geography  history  mean_exam_points  \n",
       "0           0.0      0.0      0.0        1.0      0.0                61  \n",
       "1           0.0      0.0      0.0        0.0      0.0                76  \n",
       "2           0.0      0.0      0.0        0.0      0.0                53  \n",
       "3           0.0      0.0      0.0        0.0      0.0                54  \n",
       "4           0.0      0.0      0.0        0.0      0.0                57  \n",
       "...         ...      ...      ...        ...      ...               ...  \n",
       "9995        1.0      0.0      0.0        0.0      0.0                83  \n",
       "9996        0.0      0.0      0.0        0.0      0.0                58  \n",
       "9997        0.0      0.0      0.0        0.0      0.0                62  \n",
       "9998        0.0      0.0      0.0        0.0      0.0                56  \n",
       "9999        0.0      0.0      0.0        0.0      0.0                52  \n",
       "\n",
       "[10000 rows x 11 columns]"
      ]
     },
     "execution_count": 16,
     "metadata": {},
     "output_type": "execute_result"
    }
   ],
   "source": [
    "df_raw = pd.read_csv('./data/train.csv', sep=',')\n",
    "\n",
    "features = ['age', 'years_of_experience', 'lesson_price', 'qualification', 'physics', 'chemistry', 'biology', 'english', 'geography', 'history'] \n",
    "target = ['mean_exam_points']\n",
    "df_raw = df_raw[features + target]\n",
    "df_raw"
   ]
  },
  {
   "cell_type": "code",
   "execution_count": 17,
   "id": "c5b461d9-b055-457d-8afd-c1ee7d695dbc",
   "metadata": {},
   "outputs": [],
   "source": [
    "df_num_features = df_raw.select_dtypes(include=['float64', 'int64'])"
   ]
  },
  {
   "cell_type": "code",
   "execution_count": 18,
   "id": "b6169fcf-d2fa-43f6-8899-5623e3551d9a",
   "metadata": {},
   "outputs": [
    {
     "data": {
      "image/png": "[encoded data removed]",
      "text/plain": [
       "<Figure size 1152x1152 with 12 Axes>"
      ]
     },
     "metadata": {
      "needs_background": "light"
     },
     "output_type": "display_data"
    }
   ],
   "source": [
    "df_num_features.hist(figsize=(16,16), bins=20, grid=False);"
   ]
  },
  {
   "cell_type": "code",
   "execution_count": 19,
   "id": "bd65d161-6514-4127-8b03-04a0342fde00",
   "metadata": {},
   "outputs": [
    {
     "data": {
      "text/plain": [
       "1"
      ]
     },
     "execution_count": 19,
     "metadata": {},
     "output_type": "execute_result"
    }
   ],
   "source": [
    "X = np.array(df_raw[features].copy())\n",
    "Y = np.array(df_raw[target].copy())\n",
    "Y.shape[1]"
   ]
  },
  {
   "cell_type": "code",
   "execution_count": 20,
   "id": "a9daa7de-5565-419f-a763-c86b8c28591b",
   "metadata": {},
   "outputs": [],
   "source": [
    "#df_np = np.array(df_raw[features + target])\n",
    "#df_np"
   ]
  },
  {
   "cell_type": "code",
   "execution_count": 21,
   "id": "e4a83528-0b0c-4256-8990-3ec75c0db350",
   "metadata": {},
   "outputs": [],
   "source": [
    "X_norm = X.copy().astype(np.float64)\n",
    "Y_norm = Y.copy().astype(np.float64)\n",
    "for i in range(X.shape[1]):\n",
    "    X_norm[:, i] = min_max_scale(X_norm[:, i]) \n",
    "Y_norm = min_max_scale(Y)"
   ]
  },
  {
   "cell_type": "code",
   "execution_count": 22,
   "id": "998e269a-4f5a-4ba6-b822-b413d45d81ab",
   "metadata": {},
   "outputs": [
    {
     "name": "stdout",
     "output_type": "stream",
     "text": [
      "Собственные значения и собственные векторы в порядке убывания:\n",
      "(7892.147230842015, array([-0.5535957 , -0.2249704 , -0.44038834, -0.29575382, -0.55850735,\n",
      "       -0.16550581, -0.1301731 , -0.05959989, -0.03519489, -0.02119943]))\n",
      "(1885.168161551913, array([ 0.31966724,  0.15192495,  0.28807902,  0.27370042, -0.82517461,\n",
      "        0.14455227,  0.11574722,  0.03365567,  0.01967338,  0.01022575]))\n",
      "(1133.0880483306498, array([-0.08961942, -0.06171439, -0.11686879, -0.17435425,  0.01985815,\n",
      "        0.97064876, -0.03748891,  0.00250393, -0.00927936, -0.00712831]))\n",
      "(972.408800682959, array([-0.04100471, -0.05095837, -0.09956973, -0.18398473,  0.01343542,\n",
      "       -0.0147984 ,  0.97527983,  0.01330598, -0.01362803,  0.0049313 ]))\n",
      "(630.6127816095423, array([-0.61560381, -0.02872814,  0.14682138,  0.73564028,  0.07847017,\n",
      "        0.09434111,  0.12835977, -0.15398898, -0.04190876, -0.02192037]))\n",
      "(506.43356430441105, array([-0.14289008, -0.03586617,  0.00633941,  0.08302467,  0.0060026 ,\n",
      "       -0.0029692 , -0.00543476,  0.98519914, -0.02428214, -0.00902279]))\n",
      "(311.4330542883452, array([-6.87511713e-03, -2.13919098e-01,  8.78298422e-03,  3.94002088e-02,\n",
      "       -3.20809313e-04,  3.47205048e-03,  1.04864381e-02,  1.17871239e-02,\n",
      "        9.75684391e-01, -1.84592833e-02]))\n",
      "(284.8395576794412, array([ 2.79732302e-01, -9.19167481e-01,  1.97331018e-02,  1.79249186e-01,\n",
      "       -9.12390249e-04, -3.32435302e-04, -2.97043653e-03, -1.35575389e-02,\n",
      "       -2.07416622e-01, -3.38539105e-02]))\n",
      "(189.9462586446937, array([ 0.02768372,  0.04593285, -0.00881249, -0.00506397,  0.00200416,\n",
      "       -0.00368444,  0.0066002 , -0.00316617, -0.00835901, -0.9984385 ]))\n",
      "(100.44857663394164, array([ 0.32121985,  0.15827178, -0.82301594,  0.43772133,  0.01957039,\n",
      "        0.01999124,  0.02032867,  0.02165898,  0.02655038,  0.02104073]))\n"
     ]
    }
   ],
   "source": [
    "# Найдем собственные векторы и собственные значения\n",
    " \n",
    "covariance_matrix = X_norm.T @ X_norm\n",
    "\n",
    "eig_values, eig_vectors = np.linalg.eig(covariance_matrix)\n",
    "\n",
    "# сформируем список кортежей (собственное значение, собственный вектор)\n",
    "eig_pairs = [(np.abs(eig_values[i]), eig_vectors[:, i]) for i in range(len(eig_values))]\n",
    "\n",
    "# и отсортируем список по убыванию собственных значений\n",
    "eig_pairs.sort(key=lambda x: x[0], reverse=True)\n",
    "\n",
    "print('Собственные значения и собственные векторы в порядке убывания:')\n",
    "for i in eig_pairs:\n",
    "    print(i)"
   ]
  },
  {
   "cell_type": "code",
   "execution_count": 23,
   "id": "a325e4c9-2ce3-403c-ab61-3c920b5240cb",
   "metadata": {},
   "outputs": [
    {
     "name": "stdout",
     "output_type": "stream",
     "text": [
      "Доля дисперсии, описываемая каждой из компонент \n",
      "[56.75139291598954, 13.555996349238395, 8.14788715394553, 6.992463813506049, 4.5346535866830235, 3.6416971646660885, 2.2394741397974283, 2.048243802739851, 1.3658785678935055, 0.7223125055405878]\n",
      "Кумулятивная доля дисперсии по компонентам \n",
      "[ 56.75139292  70.30738927  78.45527642  85.44774023  89.98239382\n",
      "  93.62409098  95.86356512  97.91180893  99.27768749 100.        ]\n"
     ]
    }
   ],
   "source": [
    "# Оценим долю дисперсии, которая описывается найденными компонентами.\n",
    "eig_sum = sum(eig_values)\n",
    "var_exp = [(i / eig_sum) * 100 for i in sorted(eig_values, reverse=True)]\n",
    "cum_var_exp = np.cumsum(var_exp)\n",
    "print(f'Доля дисперсии, описываемая каждой из компонент \\n{var_exp}')\n",
    "\n",
    "# а теперь оценим кумулятивную (то есть накапливаемую) дисперсию при учитывании каждой из компонент\n",
    "print(f'Кумулятивная доля дисперсии по компонентам \\n{cum_var_exp}')"
   ]
  },
  {
   "cell_type": "code",
   "execution_count": 24,
   "id": "be78ab95-e334-4d9e-bb54-1960117d780c",
   "metadata": {},
   "outputs": [
    {
     "name": "stdout",
     "output_type": "stream",
     "text": [
      "Матрица весов W:\n",
      " [[-0.5535957   0.31966724 -0.08961942 -0.04100471 -0.61560381]\n",
      " [-0.2249704   0.15192495 -0.06171439 -0.05095837 -0.02872814]\n",
      " [-0.44038834  0.28807902 -0.11686879 -0.09956973  0.14682138]\n",
      " [-0.29575382  0.27370042 -0.17435425 -0.18398473  0.73564028]\n",
      " [-0.55850735 -0.82517461  0.01985815  0.01343542  0.07847017]\n",
      " [-0.16550581  0.14455227  0.97064876 -0.0147984   0.09434111]\n",
      " [-0.1301731   0.11574722 -0.03748891  0.97527983  0.12835977]\n",
      " [-0.05959989  0.03365567  0.00250393  0.01330598 -0.15398898]\n",
      " [-0.03519489  0.01967338 -0.00927936 -0.01362803 -0.04190876]\n",
      " [-0.02119943  0.01022575 -0.00712831  0.0049313  -0.02192037]]\n"
     ]
    }
   ],
   "source": [
    "# Сформируем вектор весов из собственных векторов, соответствующих первым пяти главным компонентам\n",
    "W = np.hstack([eig_pairs[i][1].reshape(10,1) for i in range(5)])\n",
    "\n",
    "print(f'Матрица весов W:\\n', W)"
   ]
  },
  {
   "cell_type": "code",
   "execution_count": 25,
   "id": "5bb96ab7-23a6-438d-844e-d5f3d6db17f2",
   "metadata": {},
   "outputs": [],
   "source": [
    "# Сформируем новую матрицу \"объекты-признаки\"\n",
    "Z = X_norm.dot(W)"
   ]
  },
  {
   "cell_type": "code",
   "execution_count": 26,
   "id": "a04817c6-5e1c-49f7-973f-0bbd54bd0edc",
   "metadata": {},
   "outputs": [],
   "source": [
    "train_data_regr, test_data_regr, train_target_regr, test_target_regr = train_test_split(Z,  Y_norm, \n",
    "                                                                                    test_size=0.3,\n",
    "                                                                                    random_state=1)"
   ]
  },
  {
   "cell_type": "code",
   "execution_count": 27,
   "id": "57014316-5dae-4825-a52d-3a283505bb7d",
   "metadata": {},
   "outputs": [
    {
     "data": {
      "text/plain": [
       "array([[-1.07928982, -0.4766352 , -0.1248383 , -0.10594503,  0.10881046],\n",
       "       [-0.4295096 ,  0.25581373, -0.06892522, -0.03105389, -0.40407601],\n",
       "       [-0.59530909,  0.3520031 , -0.09637353, -0.04422729, -0.57995949],\n",
       "       ...,\n",
       "       [-0.73316588,  0.51043934, -0.22792146, -0.19895712,  0.24236718],\n",
       "       [-0.55863814,  0.33429003, -0.10623542, -0.06458763, -0.40054471],\n",
       "       [-1.34731201, -0.28305774, -0.21646278, -0.18875018,  0.25047931]])"
      ]
     },
     "execution_count": 27,
     "metadata": {},
     "output_type": "execute_result"
    }
   ],
   "source": [
    "train_data_regr"
   ]
  },
  {
   "cell_type": "code",
   "execution_count": 28,
   "id": "5df8add7-9a58-4e67-a8f9-bad18e6eb601",
   "metadata": {},
   "outputs": [
    {
     "name": "stdout",
     "output_type": "stream",
     "text": [
      "(7000, 5)\n",
      "Прогноз: 0.4684579831932773\n"
     ]
    }
   ],
   "source": [
    "my_tree = build_tree(train_data_regr, train_target_regr)\n",
    "print_tree(my_tree)"
   ]
  },
  {
   "cell_type": "code",
   "execution_count": 29,
   "id": "4534b42c-6aa2-4ef5-9fb1-4715ed55b547",
   "metadata": {},
   "outputs": [
    {
     "name": "stdout",
     "output_type": "stream",
     "text": [
      "0.0\n",
      "-0.0007342089009323427\n"
     ]
    }
   ],
   "source": [
    "train_answers = predict(train_data_regr, my_tree)\n",
    "train_r2 = r2_score(train_target_regr, train_answers)\n",
    "print(train_r2)\n",
    "\n",
    "answers = predict(test_data_regr, my_tree)\n",
    "test_r2 = r2_score(test_target_regr, answers)\n",
    "print(test_r2)"
   ]
  },
  {
   "cell_type": "code",
   "execution_count": 30,
   "id": "0439a3a5-6793-4016-80f7-7985ffa3abbd",
   "metadata": {},
   "outputs": [],
   "source": [
    "#answers"
   ]
  },
  {
   "cell_type": "code",
   "execution_count": null,
   "id": "0ec2d2b2-f01c-4bbe-95ea-ea7a391d647c",
   "metadata": {},
   "outputs": [],
   "source": []
  }
 ],
 "metadata": {
  "kernelspec": {
   "display_name": "Python 3",
   "language": "python",
   "name": "python3"
  },
  "language_info": {
   "codemirror_mode": {
    "name": "ipython",
    "version": 3
   },
   "file_extension": ".py",
   "mimetype": "text/x-python",
   "name": "python",
   "nbconvert_exporter": "python",
   "pygments_lexer": "ipython3",
   "version": "3.8.8"
  }
 },
 "nbformat": 4,
 "nbformat_minor": 5
}
