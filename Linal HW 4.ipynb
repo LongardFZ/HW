{
 "cells": [
  {
   "cell_type": "code",
   "execution_count": 35,
   "metadata": {},
   "outputs": [],
   "source": [
    "import numpy as np"
   ]
  },
  {
   "cell_type": "markdown",
   "metadata": {},
   "source": [
    "__Домашняя работа 4.__"
   ]
  },
  {
   "cell_type": "markdown",
   "metadata": {},
   "source": [
    "__Методичка 1__"
   ]
  },
  {
   "cell_type": "markdown",
   "metadata": {},
   "source": [
    "__Задание 1.__ Решить систему уравнений методом Гаусса:\n",
    "\n",
    "$\\begin{cases}\n",
    "x_{1}+x_{2}-x_{3}-2x_{4}=0, \\\\\n",
    "2x_{1}+x_{2}-x_{3}+x_{4}=-2, \\\\\n",
    "x_{1}+x_{2}-3x_{3}+x_{4}=4.\n",
    "\\end{cases}$"
   ]
  },
  {
   "cell_type": "markdown",
   "metadata": {},
   "source": [
    "$A=\\begin{pmatrix}\n",
    "\\left.\\begin{matrix}\n",
    "1 & 1 & -1 & -2\\\\ \n",
    "2 & 1 & -1 & 1\\\\ \n",
    "1 & 1 & -3 & 1 \n",
    "\\end{matrix}\\right|\n",
    "\\begin{matrix}\n",
    "0\\\\ \n",
    "-2\\\\\n",
    "4\n",
    "\\end{matrix}\n",
    "\\end{pmatrix}=\n",
    "\\begin{pmatrix}\n",
    "\\left.\\begin{matrix}\n",
    "1 & 1 & -1 & -2\\\\ \n",
    "0 & -1 & 1 & 3\\\\ \n",
    "0 & 0 & -2 & 3 \n",
    "\\end{matrix}\\right|\n",
    "\\begin{matrix}\n",
    "0\\\\ \n",
    "-2\\\\\n",
    "4\n",
    "\\end{matrix}\n",
    "\\end{pmatrix}$"
   ]
  },
  {
   "cell_type": "markdown",
   "metadata": {},
   "source": [
    "$x_{4}=c,$   \n",
    "$x_{3}=-(4-3с)/2,$   \n",
    "$x_{2}=-(4-3с)/2 + 3с +2,$     \n",
    "$x_{1}=(4-3с)/2 - 3с -2 -(4-3с)/2 +2с = -с -2.$   "
   ]
  },
  {
   "cell_type": "markdown",
   "metadata": {},
   "source": [
    "__Задание 2.__ Проверить на совместность и выяснить, сколько решений будет иметь система линейных уравнений:\n",
    "\n",
    "   а) $\\begin{cases}\n",
    "3x_{1}-x_{2}+x_{3}=4, \\\\\n",
    "2x_{1}-5x_{2}-3x_{3}=-17, \\\\\n",
    "x_{1}+x_{2}-x_{3}=0;\n",
    "\\end{cases}$\n",
    "    \n",
    "   б) $\\begin{cases}\n",
    "2x_{1}-4x_{2}+6x_{3}=1, \\\\\n",
    "x_{1}-2x_{2}+3x_{3}=-2, \\\\\n",
    "3x_{1}-6x_{2}+9x_{3}=5;\n",
    "\\end{cases}$\n",
    "    \n",
    "   в) $\\begin{cases}\n",
    "x_{1}+2x_{2}+5x_{3}=4, \\\\\n",
    "3x_{1}+x_{2}-8x_{3}=-2. \n",
    "\\end{cases}$"
   ]
  },
  {
   "cell_type": "code",
   "execution_count": 25,
   "metadata": {},
   "outputs": [
    {
     "name": "stdout",
     "output_type": "stream",
     "text": [
      "ранг матрицы:3\n",
      "ранг расширенной матрицы:3\n"
     ]
    }
   ],
   "source": [
    "A = np.matrix([[3,-1,1],[2,-5,-3],[1,1,-1]])\n",
    "A_r = np.matrix([[3,-1,1,4],[2,-5,-3,-17],[1,1,-1,0]])\n",
    "Rank = np.linalg.matrix_rank(A)\n",
    "Rank_r = np.linalg.matrix_rank(A_r)\n",
    "print(f'ранг матрицы:{Rank}\\nранг расширенной матрицы:{Rank_r}')"
   ]
  },
  {
   "cell_type": "markdown",
   "metadata": {},
   "source": [
    "а) система совместна и имеет единственное решение"
   ]
  },
  {
   "cell_type": "code",
   "execution_count": 26,
   "metadata": {},
   "outputs": [
    {
     "name": "stdout",
     "output_type": "stream",
     "text": [
      "ранг матрицы:1\n",
      "ранг расширенной матрицы:2\n"
     ]
    }
   ],
   "source": [
    "A = np.matrix([[2,-4,6],[1,-2,3],[3,-6,9]])\n",
    "A_r = np.matrix([[2,-4,6,1],[1,-2,3,-2],[3,-6,9,5]])\n",
    "Rank = np.linalg.matrix_rank(A)\n",
    "Rank_r = np.linalg.matrix_rank(A_r)\n",
    "print(f'ранг матрицы:{Rank}\\nранг расширенной матрицы:{Rank_r}')"
   ]
  },
  {
   "cell_type": "markdown",
   "metadata": {},
   "source": [
    "б) система несовместна и не имеет решений"
   ]
  },
  {
   "cell_type": "code",
   "execution_count": 27,
   "metadata": {},
   "outputs": [
    {
     "name": "stdout",
     "output_type": "stream",
     "text": [
      "ранг матрицы:2\n",
      "ранг расширенной матрицы:2\n"
     ]
    }
   ],
   "source": [
    "A = np.matrix([[1,2,5],[3,1,-8]])\n",
    "A_r = np.matrix([[1,2,5,4],[3,1,-8,-2]])\n",
    "Rank = np.linalg.matrix_rank(A)\n",
    "Rank_r = np.linalg.matrix_rank(A_r)\n",
    "print(f'ранг матрицы:{Rank}\\nранг расширенной матрицы:{Rank_r}')"
   ]
  },
  {
   "cell_type": "markdown",
   "metadata": {},
   "source": [
    " в) система совместна и имеет бесконечное количество решений"
   ]
  },
  {
   "cell_type": "markdown",
   "metadata": {},
   "source": [
    "__Задание 3.__ Проверить на совместность и выяснить, сколько решений будет иметь система линейных уравнений, заданная расширенной матрицей\n",
    "\n",
    "$\\tilde{A}=\\begin{pmatrix}\n",
    "\\left.\\begin{matrix}\n",
    "1 & 3 & -2 & 4\\\\ \n",
    "0 & 5 & 0 & 1\\\\ \n",
    "0 & 0 & 3 & 0\\\\ \n",
    "0 & 0 & 0 & 2\n",
    "\\end{matrix}\\right|\n",
    "\\begin{matrix}\n",
    "3\\\\ \n",
    "2\\\\\n",
    "4\\\\\n",
    "1\n",
    "\\end{matrix}\n",
    "\\end{pmatrix}.$"
   ]
  },
  {
   "cell_type": "code",
   "execution_count": 28,
   "metadata": {},
   "outputs": [
    {
     "name": "stdout",
     "output_type": "stream",
     "text": [
      "ранг матрицы:4\n",
      "ранг расширенной матрицы:4\n"
     ]
    }
   ],
   "source": [
    "A = np.matrix([[1,3,-2,4],[0,5,0,1],[0,0,3,0],[0,0,0,2]])\n",
    "A_r = np.matrix([[1,3,-2,4,3],[0,5,0,1,2],[0,0,3,0,4],[0,0,0,2,1]])\n",
    "Rank = np.linalg.matrix_rank(A)\n",
    "Rank_r = np.linalg.matrix_rank(A_r)\n",
    "print(f'ранг матрицы:{Rank}\\nранг расширенной матрицы:{Rank_r}')"
   ]
  },
  {
   "cell_type": "markdown",
   "metadata": {},
   "source": [
    "система совместна и имеет единственное решение"
   ]
  },
  {
   "cell_type": "markdown",
   "metadata": {},
   "source": [
    "__Задание 4.__ Дана система линейных уравнений, заданная расширенной матрицей\n",
    "\n",
    "$\\tilde{A}=\\begin{pmatrix}\n",
    "\\left.\\begin{matrix}\n",
    "1 & 2 & 3\\\\ \n",
    "4 & 5 & 6\\\\ \n",
    "7 & 8 & 9\n",
    "\\end{matrix}\\right|\n",
    "\\begin{matrix}\n",
    "a\\\\ \n",
    "b\\\\\n",
    "c\n",
    "\\end{matrix}\n",
    "\\end{pmatrix}.$\n",
    "\n",
    "Найти соотношение между параметрами $a$, $b$ и $c$, при которых система является несовместной."
   ]
  },
  {
   "cell_type": "markdown",
   "metadata": {},
   "source": [
    "$\\begin{pmatrix}\n",
    "\\left.\\begin{matrix}\n",
    "1 & 2 & 3\\\\ \n",
    "4 & 5 & 6\\\\ \n",
    "7 & 8 & 9\n",
    "\\end{matrix}\\right|\n",
    "\\begin{matrix}\n",
    "a\\\\ \n",
    "b\\\\\n",
    "c\n",
    "\\end{matrix}\n",
    "\\end{pmatrix}=\\begin{pmatrix}\n",
    "\\left.\\begin{matrix}\n",
    "1 & 2 & 3\\\\ \n",
    "0 & -3 & -6\\\\ \n",
    "0 & -6 & -12\n",
    "\\end{matrix}\\right|\n",
    "\\begin{matrix}\n",
    "a\\\\ \n",
    "-4a+b\\\\\n",
    "c-7a\n",
    "\\end{matrix}\n",
    "\\end{pmatrix}=\\begin{pmatrix}\n",
    "\\left.\\begin{matrix}\n",
    "1 & 2 & 3\\\\ \n",
    "0 & -3 & -6\\\\ \n",
    "0 & 0 & 0\n",
    "\\end{matrix}\\right|\n",
    "\\begin{matrix}\n",
    "a\\\\ \n",
    "-4a+b\\\\\n",
    "-3a-2b+c\n",
    "\\end{matrix}\n",
    "\\end{pmatrix}.$"
   ]
  },
  {
   "cell_type": "markdown",
   "metadata": {},
   "source": [
    "Система несовместна при соотношении между параметрами $a$, $b$ и $c$, равном $-3a$-$2b$+$c$ $\\neq$ 0"
   ]
  },
  {
   "cell_type": "markdown",
   "metadata": {},
   "source": [
    "__Методичка 2__"
   ]
  },
  {
   "cell_type": "markdown",
   "metadata": {},
   "source": [
    "__Задание 1.__ Решить систему уравнений методом Крамера:\n",
    "\n",
    "   а) $\\begin{cases}\n",
    "x_{1}-2x_{2}=1 \\\\\n",
    "3x_{1}-4x_{2}=7\n",
    "\\end{cases}$\n",
    "    \n",
    "   б) $\\begin{cases}\n",
    "2x_{1}-x_{2}+5x_{3}=10 \\\\\n",
    "x_{1}+x_{2}-3x_{3}=-2 \\\\\n",
    "2x_{1}+4x_{2}+x_{3}=1\n",
    "\\end{cases}$"
   ]
  },
  {
   "cell_type": "code",
   "execution_count": 50,
   "metadata": {},
   "outputs": [
    {
     "name": "stdout",
     "output_type": "stream",
     "text": [
      "a)\n",
      "Детерминант = 2.0\n",
      "x1 = 5.0\n",
      "x2 = 2.0\n"
     ]
    }
   ],
   "source": [
    "A = np.matrix([[1,-2],[3,-4]])\n",
    "A_1 = np.matrix([[1,-2],[7,-4]])\n",
    "A_2 = np.matrix([[1,1],[3,7]])\n",
    "det = np.linalg.det(A)\n",
    "det_1 = np.linalg.det(A_1)\n",
    "det_2 = np.linalg.det(A_2)\n",
    "print(f'a)\\nДетерминант = {round(det)}\\nx1 = {round(det_1/det)}\\nx2 = {round(det_2/det)}')"
   ]
  },
  {
   "cell_type": "code",
   "execution_count": 51,
   "metadata": {},
   "outputs": [
    {
     "name": "stdout",
     "output_type": "stream",
     "text": [
      "б)\n",
      "Детерминант = 43.0\n",
      "x1 = 2.0\n",
      "x2 = -1.0\n",
      "x3 = 1.0\n"
     ]
    }
   ],
   "source": [
    "A = np.matrix([[2,-1,5],[1,1,-3],[2,4,1]])\n",
    "A_1 = np.matrix([[10,-1,5],[-2,1,-3],[1,4,1]])\n",
    "A_2 = np.matrix([[2,10,5],[1,-2,-3],[2,1,1]])\n",
    "A_3 = np.matrix([[2,-1,10],[1,1,-2],[2,4,1]])\n",
    "det = np.linalg.det(A)\n",
    "det_1 = np.linalg.det(A_1)\n",
    "det_2 = np.linalg.det(A_2)\n",
    "det_3 = np.linalg.det(A_3)\n",
    "print(f'б)\\nДетерминант = {round(det)}\\nx1 = {round(det_1/det)}\\nx2 = {round(det_2/det)}\\nx3 = {round(det_3/det)}')"
   ]
  },
  {
   "cell_type": "markdown",
   "metadata": {},
   "source": [
    "Время выходит, поэтому задания со звездочкой делать не буду. "
   ]
  }
 ],
 "metadata": {
  "kernelspec": {
   "display_name": "Python 3",
   "language": "python",
   "name": "python3"
  },
  "language_info": {
   "codemirror_mode": {
    "name": "ipython",
    "version": 3
   },
   "file_extension": ".py",
   "mimetype": "text/x-python",
   "name": "python",
   "nbconvert_exporter": "python",
   "pygments_lexer": "ipython3",
   "version": "3.8.3"
  }
 },
 "nbformat": 4,
 "nbformat_minor": 4
}
